{
 "cells": [
  {
   "cell_type": "code",
   "execution_count": 1,
   "id": "1d1eec0a",
   "metadata": {},
   "outputs": [],
   "source": [
    "import torch\n",
    "import torchvision\n",
    "import os\n",
    "import random\n",
    "\n",
    "import torchvision.transforms as transforms\n",
    "import torchvision.models as models\n",
    "import torch.nn as nn\n",
    "import torch.nn.functional as F\n",
    "import torch.optim as optim\n",
    "\n",
    "import pandas as pd\n",
    "import numpy as np\n",
    "\n",
    "from torch.utils.data import DataLoader\n",
    "from torch.utils.data import Dataset\n",
    "from torchvision.io import read_image\n",
    "from torchensemble import VotingClassifier, FusionClassifier, BaggingClassifier\n",
    "\n",
    "from transformers import BeitForImageClassification, BeitConfig, BeitFeatureExtractor\n",
    "\n",
    "from PIL import Image\n",
    "from AutoAugment.autoaugment import ImageNetPolicy\n",
    "\n",
    "from tqdm import tqdm\n",
    "from collections import defaultdict, OrderedDict\n",
    "\n",
    "from torchensemble.utils import io"
   ]
  },
  {
   "cell_type": "code",
   "execution_count": 2,
   "id": "cfdaac99",
   "metadata": {},
   "outputs": [
    {
     "data": {
      "text/plain": [
       "'cuda:0'"
      ]
     },
     "execution_count": 2,
     "metadata": {},
     "output_type": "execute_result"
    }
   ],
   "source": [
    "# Check for GPU\n",
    "device = (\"cuda:0\" if torch.cuda.is_available() else \"cpu\")\n",
    "\n",
    "device"
   ]
  },
  {
   "cell_type": "code",
   "execution_count": 3,
   "id": "7b83ca7c",
   "metadata": {},
   "outputs": [
    {
     "data": {
      "text/plain": [
       "(31016, 2)"
      ]
     },
     "execution_count": 3,
     "metadata": {},
     "output_type": "execute_result"
    }
   ],
   "source": [
    "df = pd.read_csv(\"../data/train_labels.csv\", names=['img_name', 'label'], header=1)\n",
    "\n",
    "df = df.append([df[df[\"label\"] == 20]] * 15, ignore_index = True)\n",
    "df = df.sample(frac=1, random_state = 42).reset_index(drop=True)\n",
    "\n",
    "df.shape"
   ]
  },
  {
   "cell_type": "code",
   "execution_count": 4,
   "id": "92857d3e",
   "metadata": {},
   "outputs": [],
   "source": [
    "class food_set(Dataset):\n",
    "\n",
    "    def __init__(self, df, labels_file, img_dir, extractor, transform = None, settype = \"train\"):\n",
    "        self.df = df\n",
    "        if settype == \"train\":\n",
    "            self.img_labels = df[:30000]\n",
    "        elif settype == \"val\":\n",
    "            self.img_labels = df[30000:]\n",
    "        self.img_dir = img_dir\n",
    "        self.feature_extractor = extractor\n",
    "        self.transform = transform\n",
    "        \n",
    "    def __len__(self):\n",
    "        return len(self.img_labels)\n",
    "\n",
    "    def __getitem__(self, idx):\n",
    "        img_path = os.path.join(self.img_dir, self.img_labels.iloc[idx, 0])\n",
    "        image = Image.open(img_path)\n",
    "        \n",
    "        if self.transform:\n",
    "            image = self.transform(image)\n",
    "                \n",
    "        features = self.feature_extractor(images=image)[\"pixel_values\"][0]      \n",
    "        \n",
    "        label = self.img_labels.iloc[idx, 1]       \n",
    "            \n",
    "        return features, label"
   ]
  },
  {
   "cell_type": "code",
   "execution_count": 5,
   "id": "3d423093",
   "metadata": {},
   "outputs": [],
   "source": [
    "class food_test(Dataset):\n",
    "\n",
    "    def __init__(self, img_dir, extractor, transform = None):\n",
    "        self.img_dir = img_dir\n",
    "        self.feature_extractor = extractor\n",
    "        self.transform = transform\n",
    "\n",
    "    def __len__(self):\n",
    "        return len(os.listdir(self.img_dir))\n",
    "\n",
    "    def __getitem__(self, idx):\n",
    "        file_name = os.listdir(self.img_dir)[idx]\n",
    "        img_path = os.path.join(self.img_dir, file_name)\n",
    "        image = Image.open(img_path)        \n",
    "        \n",
    "        if self.transform:\n",
    "            image = self.transform(image)\n",
    "        \n",
    "        features = self.feature_extractor(images=image)[\"pixel_values\"][0]\n",
    "        \n",
    "        return file_name, features"
   ]
  },
  {
   "cell_type": "code",
   "execution_count": 6,
   "id": "e4a2cbc8",
   "metadata": {},
   "outputs": [
    {
     "name": "stderr",
     "output_type": "stream",
     "text": [
      "D:\\ProgramData\\Anaconda3\\envs\\R + Python\\lib\\site-packages\\torch\\functional.py:445: UserWarning: torch.meshgrid: in an upcoming release, it will be required to pass the indexing argument. (Triggered internally at  ..\\aten\\src\\ATen\\native\\TensorShape.cpp:2157.)\n",
      "  return _VF.meshgrid(tensors, **kwargs)  # type: ignore[attr-defined]\n"
     ]
    },
    {
     "data": {
      "text/plain": [
       "<All keys matched successfully>"
      ]
     },
     "execution_count": 6,
     "metadata": {},
     "output_type": "execute_result"
    }
   ],
   "source": [
    "# Load BEiT\n",
    "beit = BeitForImageClassification.from_pretrained(\"microsoft/beit-base-patch16-224-pt22k-ft22k\")\n",
    "\n",
    "for param in beit.parameters():\n",
    "    param.requires_grad = False\n",
    "\n",
    "classifier = nn.Sequential(OrderedDict([\n",
    "                          ('fc1', nn.Linear(768, 512)),\n",
    "                          ('relu', nn.ReLU()),\n",
    "                          ('fc2', nn.Linear(512, 81)),\n",
    "                          ('output', nn.LogSoftmax(dim=1))\n",
    "                          ]))\n",
    "\n",
    "beit.classifier = classifier\n",
    "\n",
    "beit.load_state_dict(torch.load(\"../../beit_2_fc_imgnetpol_29k_30_epochs.pth\"))"
   ]
  },
  {
   "cell_type": "code",
   "execution_count": 7,
   "id": "14ae75aa",
   "metadata": {},
   "outputs": [],
   "source": [
    "class beit_2(nn.Module):\n",
    "\n",
    "    def __init__(self, beit):\n",
    "        super(beit_2, self).__init__()\n",
    "        self.beit = beit\n",
    "\n",
    "    def forward(self, img):\n",
    "        x = self.beit(img)[\"logits\"]\n",
    "        return x"
   ]
  },
  {
   "cell_type": "code",
   "execution_count": 8,
   "id": "b54efe0d",
   "metadata": {},
   "outputs": [],
   "source": [
    "ensemble = VotingClassifier(\n",
    "    estimator=beit_2(beit),\n",
    "    n_estimators=10,\n",
    "    cuda=True,\n",
    ")\n",
    "\n",
    "ensemble.to(device);"
   ]
  },
  {
   "cell_type": "code",
   "execution_count": 9,
   "id": "45a32b16",
   "metadata": {},
   "outputs": [],
   "source": [
    "criterion = nn.CrossEntropyLoss()\n",
    "ensemble.set_criterion(criterion)\n",
    "\n",
    "ensemble.set_optimizer('Adam',\n",
    "                    lr=0.0002,\n",
    "                    betas = [0.9, 0.999])"
   ]
  },
  {
   "cell_type": "code",
   "execution_count": 13,
   "id": "b4683150",
   "metadata": {},
   "outputs": [],
   "source": [
    "img_dir = \"../data2/train_set_rmbg/train_set_rmbg\"\n",
    "labels = \"../data/train_labels.csv\"\n",
    "\n",
    "train_transforms = transforms.Compose([transforms.RandomRotation(30),\n",
    "                                       transforms.RandomResizedCrop(224),\n",
    "                                       ImageNetPolicy(),\n",
    "                                       transforms.RandomHorizontalFlip()])\n",
    "\n",
    "test_transforms = transforms.Compose([transforms.Resize(256),\n",
    "                                      transforms.CenterCrop(224)])\n",
    "\n",
    "feature_extractor = BeitFeatureExtractor.from_pretrained('microsoft/beit-base-patch16-224-pt22k-ft22k')"
   ]
  },
  {
   "cell_type": "code",
   "execution_count": 14,
   "id": "a75027d9",
   "metadata": {},
   "outputs": [
    {
     "data": {
      "text/plain": [
       "30000"
      ]
     },
     "execution_count": 14,
     "metadata": {},
     "output_type": "execute_result"
    }
   ],
   "source": [
    "trainset = food_set(df, labels, img_dir, feature_extractor, transform = train_transforms, settype = \"train\")\n",
    "valset = food_set(df, labels, img_dir, feature_extractor, transform = test_transforms, settype = \"val\")\n",
    "\n",
    "# Create a DataLoader with the data\n",
    "trainloader = DataLoader(trainset, batch_size=8, shuffle=True, num_workers=0)\n",
    "valloader = DataLoader(valset, batch_size=8, shuffle=True, num_workers=0)\n",
    "\n",
    "len(trainset)"
   ]
  },
  {
   "cell_type": "code",
   "execution_count": null,
   "id": "f86e0957",
   "metadata": {},
   "outputs": [],
   "source": [
    "ensemble.fit(train_loader=trainloader, \n",
    "             epochs=1)"
   ]
  },
  {
   "cell_type": "code",
   "execution_count": 14,
   "id": "55763593",
   "metadata": {},
   "outputs": [],
   "source": [
    "# io.load(ensemble_2, \"../../models/ensemble_10_beits_10_epochs/\")"
   ]
  },
  {
   "cell_type": "code",
   "execution_count": 16,
   "id": "d8992a5c",
   "metadata": {},
   "outputs": [],
   "source": [
    "accuracy = ensemble.evaluate(valloader)"
   ]
  },
  {
   "cell_type": "code",
   "execution_count": null,
   "id": "3c2b6540",
   "metadata": {},
   "outputs": [],
   "source": [
    "accuracy"
   ]
  },
  {
   "cell_type": "code",
   "execution_count": 18,
   "id": "f440c1e1",
   "metadata": {},
   "outputs": [
    {
     "data": {
      "text/plain": [
       "7653"
      ]
     },
     "execution_count": 18,
     "metadata": {},
     "output_type": "execute_result"
    }
   ],
   "source": [
    "test_set = food_test(\"../data2/test_set_rmbg/test_set_rmbg\", feature_extractor)\n",
    "testloader = DataLoader(test_set, batch_size = 16)\n",
    "\n",
    "len(test_set)"
   ]
  },
  {
   "cell_type": "code",
   "execution_count": 20,
   "id": "bf8d64ae",
   "metadata": {},
   "outputs": [
    {
     "name": "stderr",
     "output_type": "stream",
     "text": [
      "100%|████████████████████████████████████████| 479/479 [09:23<00:00,  1.18s/it]\n"
     ]
    }
   ],
   "source": [
    "test_results = defaultdict(list)\n",
    "\n",
    "for file_name, image in tqdm(testloader):\n",
    "    X = image.to(device)\n",
    "    pred = ensemble(X) #[\"logits\"] # .argmax(1)\n",
    "    \n",
    "    for i, img in enumerate(file_name):\n",
    "        test_results[\"img\"].append(img)        \n",
    "        for rank, (label, prob) in enumerate(zip(pred.topk(5).values[i], pred.topk(5).indices[i])):\n",
    "            test_results[rank + 1].append(int(prob))"
   ]
  },
  {
   "cell_type": "code",
   "execution_count": 21,
   "id": "40f8bd8e",
   "metadata": {},
   "outputs": [
    {
     "data": {
      "text/html": [
       "<div>\n",
       "<style scoped>\n",
       "    .dataframe tbody tr th:only-of-type {\n",
       "        vertical-align: middle;\n",
       "    }\n",
       "\n",
       "    .dataframe tbody tr th {\n",
       "        vertical-align: top;\n",
       "    }\n",
       "\n",
       "    .dataframe thead th {\n",
       "        text-align: right;\n",
       "    }\n",
       "</style>\n",
       "<table border=\"1\" class=\"dataframe\">\n",
       "  <thead>\n",
       "    <tr style=\"text-align: right;\">\n",
       "      <th></th>\n",
       "      <th>img</th>\n",
       "      <th>1</th>\n",
       "      <th>2</th>\n",
       "      <th>3</th>\n",
       "      <th>4</th>\n",
       "      <th>5</th>\n",
       "    </tr>\n",
       "  </thead>\n",
       "  <tbody>\n",
       "    <tr>\n",
       "      <th>0</th>\n",
       "      <td>test_1.jpg</td>\n",
       "      <td>63</td>\n",
       "      <td>15</td>\n",
       "      <td>61</td>\n",
       "      <td>80</td>\n",
       "      <td>3</td>\n",
       "    </tr>\n",
       "    <tr>\n",
       "      <th>1</th>\n",
       "      <td>test_10.jpg</td>\n",
       "      <td>45</td>\n",
       "      <td>49</td>\n",
       "      <td>29</td>\n",
       "      <td>2</td>\n",
       "      <td>24</td>\n",
       "    </tr>\n",
       "    <tr>\n",
       "      <th>2</th>\n",
       "      <td>test_100.jpg</td>\n",
       "      <td>34</td>\n",
       "      <td>12</td>\n",
       "      <td>48</td>\n",
       "      <td>71</td>\n",
       "      <td>22</td>\n",
       "    </tr>\n",
       "    <tr>\n",
       "      <th>3</th>\n",
       "      <td>test_1000.jpg</td>\n",
       "      <td>15</td>\n",
       "      <td>29</td>\n",
       "      <td>10</td>\n",
       "      <td>37</td>\n",
       "      <td>23</td>\n",
       "    </tr>\n",
       "    <tr>\n",
       "      <th>4</th>\n",
       "      <td>test_1001.jpg</td>\n",
       "      <td>18</td>\n",
       "      <td>10</td>\n",
       "      <td>37</td>\n",
       "      <td>29</td>\n",
       "      <td>32</td>\n",
       "    </tr>\n",
       "  </tbody>\n",
       "</table>\n",
       "</div>"
      ],
      "text/plain": [
       "             img   1   2   3   4   5\n",
       "0     test_1.jpg  63  15  61  80   3\n",
       "1    test_10.jpg  45  49  29   2  24\n",
       "2   test_100.jpg  34  12  48  71  22\n",
       "3  test_1000.jpg  15  29  10  37  23\n",
       "4  test_1001.jpg  18  10  37  29  32"
      ]
     },
     "execution_count": 21,
     "metadata": {},
     "output_type": "execute_result"
    }
   ],
   "source": [
    "test_df = pd.DataFrame(test_results)\n",
    "\n",
    "test_df.head()"
   ]
  },
  {
   "cell_type": "code",
   "execution_count": 22,
   "id": "7bc39593",
   "metadata": {},
   "outputs": [],
   "source": [
    "# test_df = test_df[[\"img\", 1]].rename({\"img\": \"img_name\", 1 : \"label\"}, axis = 1)\n",
    "\n",
    "# test_df.head()"
   ]
  },
  {
   "cell_type": "code",
   "execution_count": 23,
   "id": "56f62dbd",
   "metadata": {},
   "outputs": [],
   "source": [
    "test_df.to_csv(\"../../submissions/voting_ensemble.csv\", index=False)"
   ]
  },
  {
   "cell_type": "code",
   "execution_count": null,
   "id": "520c5648",
   "metadata": {},
   "outputs": [],
   "source": []
  }
 ],
 "metadata": {
  "kernelspec": {
   "display_name": "Python 3",
   "language": "python",
   "name": "python3"
  },
  "language_info": {
   "codemirror_mode": {
    "name": "ipython",
    "version": 3
   },
   "file_extension": ".py",
   "mimetype": "text/x-python",
   "name": "python",
   "nbconvert_exporter": "python",
   "pygments_lexer": "ipython3",
   "version": "3.6.13"
  }
 },
 "nbformat": 4,
 "nbformat_minor": 5
}
