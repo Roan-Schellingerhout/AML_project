{
 "cells": [
  {
   "cell_type": "code",
   "execution_count": 2,
   "id": "06ea028c",
   "metadata": {},
   "outputs": [
    {
     "name": "stdout",
     "output_type": "stream",
     "text": [
      "Collecting keras==2.3.1\n",
      "  Downloading Keras-2.3.1-py2.py3-none-any.whl (377 kB)\n",
      "Requirement already satisfied: h5py in c:\\users\\matthijs\\anaconda3\\envs\\clean_install\\lib\\site-packages (from keras==2.3.1) (2.8.0)\n",
      "Requirement already satisfied: scipy>=0.14 in c:\\users\\matthijs\\anaconda3\\envs\\clean_install\\lib\\site-packages (from keras==2.3.1) (1.7.1)\n",
      "Requirement already satisfied: keras-preprocessing>=1.0.5 in c:\\users\\matthijs\\anaconda3\\envs\\clean_install\\lib\\site-packages (from keras==2.3.1) (1.1.2)\n",
      "Requirement already satisfied: keras-applications>=1.0.6 in c:\\users\\matthijs\\anaconda3\\envs\\clean_install\\lib\\site-packages (from keras==2.3.1) (1.0.8)\n",
      "Requirement already satisfied: numpy>=1.9.1 in c:\\users\\matthijs\\anaconda3\\envs\\clean_install\\lib\\site-packages (from keras==2.3.1) (1.21.2)\n",
      "Requirement already satisfied: six>=1.9.0 in c:\\users\\matthijs\\anaconda3\\envs\\clean_install\\lib\\site-packages (from keras==2.3.1) (1.16.0)\n",
      "Requirement already satisfied: pyyaml in c:\\users\\matthijs\\anaconda3\\envs\\clean_install\\lib\\site-packages (from keras==2.3.1) (6.0)\n",
      "Installing collected packages: keras\n",
      "Successfully installed keras-2.3.1\n"
     ]
    }
   ],
   "source": []
  },
  {
   "cell_type": "code",
   "execution_count": 30,
   "id": "bbb6d61d",
   "metadata": {
    "scrolled": true
   },
   "outputs": [],
   "source": [
    "import torch\n",
    "import torchvision\n",
    "import os\n",
    "\n",
    "import torchvision.transforms as transforms\n",
    "import torchvision.models as models\n",
    "import torch.nn as nn\n",
    "import torch.nn.functional as F\n",
    "import torch.optim as optim\n",
    "\n",
    "import matplotlib.pyplot as plt\n",
    "import tensorflow as tf\n",
    "import pandas as pd\n",
    "import numpy as np\n",
    "\n",
    "from torch.utils.data import DataLoader\n",
    "from torch.utils.data import Dataset\n",
    "from torchvision.io import read_image\n",
    "\n",
    "from transformers import BeitForImageClassification, BeitConfig, BeitFeatureExtractor, Trainer, TrainingArguments\n",
    "from PIL import Image\n",
    "\n",
    "from tqdm import tqdm\n",
    "from collections import defaultdict\n",
    "\n",
    "import cv2\n",
    "import numpy as np\n",
    "import matplotlib.pyplot as plt\n",
    "import matplotlib as cm"
   ]
  },
  {
   "cell_type": "code",
   "execution_count": 31,
   "id": "6dfcdbf5",
   "metadata": {},
   "outputs": [
    {
     "data": {
      "text/plain": [
       "'cuda:0'"
      ]
     },
     "execution_count": 31,
     "metadata": {},
     "output_type": "execute_result"
    }
   ],
   "source": [
    "# Check for GPU\n",
    "device = (\"cuda:0\" if torch.cuda.is_available() else \"cpu\")\n",
    "\n",
    "device"
   ]
  },
  {
   "cell_type": "code",
   "execution_count": 42,
   "id": "817964f0",
   "metadata": {},
   "outputs": [],
   "source": [
    "class food_train(Dataset):\n",
    "\n",
    "    def __init__(self, labels_file, img_dir, extractor):\n",
    "        self.img_labels = pd.read_csv(labels_file, names=['img_name', 'label'], header=1)[:25000]\n",
    "        self.img_dir = img_dir\n",
    "        self.feature_extractor = extractor\n",
    "        \n",
    "    def __len__(self):\n",
    "        return len(self.img_labels)\n",
    "\n",
    "    def __getitem__(self, idx):\n",
    "        img_path = os.path.join(self.img_dir, self.img_labels.iloc[idx, 0])\n",
    "        img = read_image(img_path).numpy().T\n",
    "\n",
    "        # Apply thresholds for the bound selection\n",
    "        threshold1,threshold2 = 40, 500\n",
    "        grey = cv2.cvtColor(img, cv2.COLOR_BGR2GRAY)\n",
    "        image = cv2.Canny(img, threshold1, threshold2)\n",
    "\n",
    "        # Convert images to correct sizes\n",
    "        image_new = np.repeat(image[:, :, np.newaxis], 3, axis=2)\n",
    "        grey_new = np.repeat(grey[:, :, np.newaxis], 3, axis=2)\n",
    "\n",
    "        # Applying grey scale and applying the bounds --> These need to be optimized.\n",
    "        new_image = img * image_new + (1 - grey_new)\n",
    "        new_image = img * ((new_image > 40) * (new_image < 230))\n",
    "        \n",
    "        label = self.img_labels.iloc[idx, 1]\n",
    "        new_image = torch.from_numpy(new_image).T\n",
    "        \n",
    "        features = self.feature_extractor(images=new_image)[\"pixel_values\"][0]\n",
    "        label = self.img_labels.iloc[idx, 1]       \n",
    "            \n",
    "        return features, label"
   ]
  },
  {
   "cell_type": "code",
   "execution_count": 43,
   "id": "f9334590",
   "metadata": {},
   "outputs": [],
   "source": [
    "class food_val(Dataset):\n",
    "\n",
    "    def __init__(self, labels_file, img_dir, extractor):\n",
    "        self.img_labels = pd.read_csv(labels_file, names=['img_name', 'label'], header=1)[25000:]\n",
    "        self.img_dir = img_dir\n",
    "        self.feature_extractor = extractor\n",
    "\n",
    "    def __len__(self):\n",
    "        return len(self.img_labels)\n",
    "\n",
    "    def __getitem__(self, idx):\n",
    "        img_path = os.path.join(self.img_dir, self.img_labels.iloc[idx, 0])\n",
    "        img = read_image(img_path).numpy().T\n",
    "\n",
    "        # Apply thresholds for the bound selection\n",
    "        threshold1,threshold2 = 40, 500\n",
    "        grey = cv2.cvtColor(img, cv2.COLOR_BGR2GRAY)\n",
    "        image = cv2.Canny(img, threshold1, threshold2)\n",
    "\n",
    "        # Convert images to correct sizes\n",
    "        image_new = np.repeat(image[:, :, np.newaxis], 3, axis=2)\n",
    "        grey_new = np.repeat(grey[:, :, np.newaxis], 3, axis=2)\n",
    "\n",
    "        # Applying grey scale and applying the bounds --> These need to be optimized.\n",
    "        new_image = img * image_new + (1 - grey_new)\n",
    "        new_image = img * ((new_image > 40) * (new_image < 230))\n",
    "        \n",
    "        label = self.img_labels.iloc[idx, 1]\n",
    "        new_image = torch.from_numpy(new_image).T\n",
    "        \n",
    "        features = self.feature_extractor(images=new_image)[\"pixel_values\"][0]\n",
    "        label = self.img_labels.iloc[idx, 1]       \n",
    "            \n",
    "        return features, label"
   ]
  },
  {
   "cell_type": "code",
   "execution_count": 44,
   "id": "c3e17ee6",
   "metadata": {},
   "outputs": [],
   "source": [
    "class food_test(Dataset):\n",
    "\n",
    "    def __init__(self, img_dir, extractor):\n",
    "        self.img_dir = img_dir\n",
    "        self.feature_extractor = extractor\n",
    "\n",
    "    def __len__(self):\n",
    "        return len(os.listdir(self.img_dir))\n",
    "\n",
    "    def __getitem__(self, idx):\n",
    "        file_name = os.listdir(self.img_dir)[idx]\n",
    "        img_path = os.path.join(self.img_dir, file_name)\n",
    "        img = read_image(img_path).numpy().T\n",
    "\n",
    "        # Apply thresholds for the bound selection\n",
    "        threshold1,threshold2 = 40, 500\n",
    "        grey = cv2.cvtColor(img, cv2.COLOR_BGR2GRAY)\n",
    "        image = cv2.Canny(img, threshold1, threshold2)\n",
    "\n",
    "        # Convert images to correct sizes\n",
    "        image_new = np.repeat(image[:, :, np.newaxis], 3, axis=2)\n",
    "        grey_new = np.repeat(grey[:, :, np.newaxis], 3, axis=2)\n",
    "\n",
    "        # Applying grey scale and applying the bounds --> These need to be optimized.\n",
    "        new_image = img * image_new + (1 - grey_new)\n",
    "        new_image = img * ((new_image > 40) * (new_image < 230))\n",
    "        \n",
    "        label = self.img_labels.iloc[idx, 1]\n",
    "        new_image = torch.from_numpy(new_image).T\n",
    "        \n",
    "        features = self.feature_extractor(images=new_image)[\"pixel_values\"][0]\n",
    "        \n",
    "        features = self.feature_extractor(images=image)[\"pixel_values\"][0]\n",
    "        \n",
    "        return file_name, features"
   ]
  },
  {
   "cell_type": "code",
   "execution_count": 45,
   "id": "f1f56cc1",
   "metadata": {},
   "outputs": [
    {
     "data": {
      "text/plain": [
       "(25000, 5611)"
      ]
     },
     "execution_count": 45,
     "metadata": {},
     "output_type": "execute_result"
    }
   ],
   "source": [
    "img_dir = \"../data/train_set/train_set\"\n",
    "labels = \"../data/train_labels.csv\"\n",
    "\n",
    "# Resize image to match BEiT, convert to torch.float, normalize\n",
    "transform = transforms.Compose(\n",
    "                    [transforms.Resize((224,224)),\n",
    "                     transforms.ConvertImageDtype(torch.float),\n",
    "                     transforms.Normalize(mean=[0.485, 0.456, 0.406],\n",
    "                                          std=[0.229, 0.224, 0.225])])\n",
    "\n",
    "feature_extractor = BeitFeatureExtractor.from_pretrained(\"microsoft/beit-base-patch16-224\")\n",
    "\n",
    "# Create datasets\n",
    "train_set = food_train(labels, img_dir, feature_extractor)\n",
    "trainloader = DataLoader(train_set, batch_size=16, shuffle=True, num_workers=0)\n",
    "\n",
    "val_set = food_val(labels, img_dir, feature_extractor)\n",
    "valloader = DataLoader(val_set, batch_size=16, shuffle=True, num_workers=0)\n",
    "\n",
    "len(train_set), len(val_set)"
   ]
  },
  {
   "cell_type": "code",
   "execution_count": 46,
   "id": "4691e8e7",
   "metadata": {},
   "outputs": [
    {
     "data": {
      "text/plain": [
       "7653"
      ]
     },
     "execution_count": 46,
     "metadata": {},
     "output_type": "execute_result"
    }
   ],
   "source": [
    "test_set = food_test(\"../data/test_set/test_set\", feature_extractor)\n",
    "testloader = DataLoader(test_set, batch_size = 16)\n",
    "\n",
    "len(test_set)"
   ]
  },
  {
   "cell_type": "code",
   "execution_count": 47,
   "id": "9638ad1d",
   "metadata": {},
   "outputs": [],
   "source": [
    "# Load BEiT\n",
    "beit = BeitForImageClassification.from_pretrained(\"microsoft/beit-base-patch16-224\")"
   ]
  },
  {
   "cell_type": "code",
   "execution_count": 48,
   "id": "5c472868",
   "metadata": {},
   "outputs": [],
   "source": [
    "# CrossEntropyLoss and SGD optimizer\n",
    "criterion = nn.CrossEntropyLoss()\n",
    "optimizer = optim.SGD(beit.parameters(), lr = 0.001, momentum = 0.9)\n",
    "# optimizer = optim.Adam(beit.parameters(), lr=0.00001)"
   ]
  },
  {
   "cell_type": "code",
   "execution_count": 49,
   "id": "a6502a96",
   "metadata": {},
   "outputs": [
    {
     "data": {
      "text/plain": [
       "25000"
      ]
     },
     "execution_count": 49,
     "metadata": {},
     "output_type": "execute_result"
    }
   ],
   "source": [
    "len(trainloader.dataset)"
   ]
  },
  {
   "cell_type": "code",
   "execution_count": 50,
   "id": "69c7d2b5",
   "metadata": {},
   "outputs": [],
   "source": [
    "def train_loop(dataloader, model, criterion, optimizer):\n",
    "    # Get size of dataset\n",
    "    size = len(dataloader.dataset)\n",
    "    # Train on GPU if available\n",
    "    model = model.to(device)\n",
    "    model.train()\n",
    "    \n",
    "    # Metadata\n",
    "    stats = defaultdict(list)\n",
    "    current_acc = 0\n",
    "    max_acc = 0\n",
    "    \n",
    "    stats[\"epoch\"].append(0)\n",
    "    stats[\"loss\"].append(8.7)\n",
    "    stats[\"accuracy\"].append(1.25)\n",
    "    \n",
    "    for epoch in range(10):\n",
    "        for batch, (image, label) in enumerate(dataloader):\n",
    "            # Compute prediction and loss\n",
    "            image, label = image.to(device), label.to(device)            \n",
    "            pred = model(image)\n",
    "            loss = criterion(pred[\"logits\"], label)\n",
    "\n",
    "            # Backpropagation\n",
    "            optimizer.zero_grad()\n",
    "            loss.backward()\n",
    "            optimizer.step()\n",
    "\n",
    "            # Print progress\n",
    "            if batch % 200 == 0:\n",
    "                loss, current = loss.item(), batch * len(image)\n",
    "                print(f\"loss: {loss:>7f}  [{current:>5d}/{size:>5d}] epoch: {epoch + 1}\")\n",
    "        \n",
    "        # Print performance after current number of epochs\n",
    "        print(f\"Epoch: {epoch + 1}\")\n",
    "        current_acc, avg_loss = test_loop(valloader, model, criterion)\n",
    "        \n",
    "        if current_acc > max_acc:\n",
    "            PATH = f'../../beit_optimal.pth'\n",
    "            torch.save(beit.state_dict(), PATH)\n",
    "            max_acc = current_acc\n",
    "            \n",
    "        # Store metadata\n",
    "        stats[\"epoch\"].append(epoch + 1)\n",
    "        stats[\"accuracy\"].append(current_acc)\n",
    "        stats[\"loss\"].append(avg_loss)\n",
    "        \n",
    "        # Plot progress\n",
    "        fig, ax1 = plt.subplots()\n",
    "\n",
    "        color = \"tab:blue\"\n",
    "        ax1.set_xlabel(\"Epoch\")\n",
    "        ax1.set_ylabel(\"Loss\", color=color)\n",
    "        ax1.plot(stats[\"epoch\"], stats[\"loss\"], color=color)\n",
    "        ax1.tick_params(axis=\"y\", labelcolor=color)\n",
    "\n",
    "        ax2 = ax1.twinx()\n",
    "\n",
    "        color = \"tab:orange\"\n",
    "        ax2.set_ylabel(\"Accuracy\", color=color)\n",
    "        ax2.plot(stats[\"epoch\"], stats[\"accuracy\"], color=color)\n",
    "        ax2.tick_params(axis=\"y\", labelcolor=color)\n",
    "        plt.show()\n",
    "    \n",
    "    def train_loop(dataset, model, criterion, optimizer, labels, \n",
    "               img_dir, feature_extractor = None, transform = None, train_size = 0.8):\n",
    "    # Train on GPU if available\n",
    "    model = model.to(device)\n",
    "    model.train()\n",
    "    \n",
    "    # Metadata\n",
    "    stats = defaultdict(list)\n",
    "    current_acc = 0\n",
    "    max_acc = 0\n",
    "    \n",
    "    stats[\"epoch\"].append(0)\n",
    "    stats[\"loss\"].append(8.7)\n",
    "    stats[\"accuracy\"].append(1.25)\n",
    "        \n",
    "    for epoch in range(40):\n",
    "        # Calculate size of train sample\n",
    "        train_sample = int(len(dataset) * train_size)\n",
    "        \n",
    "        # Get indeces of train and validation set\n",
    "        n_train = random.sample(set(np.arange(len(dataset))), train_sample)\n",
    "        n_val = range(len(dataset))\n",
    "        n_val = list(set(n_val) - set(n_train))\n",
    "        \n",
    "        # Get the samples at those indeces\n",
    "        trainset = food_set(labels, img_dir, feature_extractor, transform = transform, n = n_train)\n",
    "        valset = food_set(labels, img_dir, feature_extractor, transform = transform, \n",
    "                          n = n_val)\n",
    "        \n",
    "        # Create a DataLoader with the data\n",
    "        trainloader = DataLoader(trainset, batch_size=16, shuffle=True, num_workers=0)\n",
    "        valloader = DataLoader(valset, batch_size=16, shuffle=True, num_workers=0)\n",
    "        \n",
    "        size = len(trainloader.dataset)\n",
    "        \n",
    "        for batch, (image, label) in enumerate(trainloader):\n",
    "            # Compute prediction and loss\n",
    "            image, label = image.to(device), label.to(device)            \n",
    "            pred = model(image)\n",
    "            loss = criterion(pred[\"logits\"], label)\n",
    "\n",
    "            # Backpropagation\n",
    "            optimizer.zero_grad()\n",
    "            loss.backward()\n",
    "            optimizer.step()\n",
    "\n",
    "            # Print progress\n",
    "            if batch % 200 == 0:\n",
    "                loss, current = loss.item(), batch * len(image)\n",
    "                print(f\"loss: {loss:>7f}  [{current:>5d}/{size:>5d}] epoch: {epoch + 1}\")\n",
    "        \n",
    "        # Print performance after current number of epochs\n",
    "        print(f\"Epoch: {epoch + 1}\")\n",
    "        current_acc, avg_loss = test_loop(valloader, model, criterion)\n",
    "        \n",
    "        if current_acc > max_acc:\n",
    "            PATH = f'../../beit_weights.pth'\n",
    "            torch.save(beit.state_dict(), PATH)\n",
    "            max_acc = current_acc\n",
    "            \n",
    "        # Store metadata\n",
    "        stats[\"epoch\"].append(epoch + 1)\n",
    "        stats[\"accuracy\"].append(current_acc)\n",
    "        stats[\"loss\"].append(avg_loss)\n",
    "        \n",
    "        # Plot progress\n",
    "        fig, ax1 = plt.subplots()\n",
    "\n",
    "        color = \"tab:blue\"\n",
    "        ax1.set_xlabel(\"Epoch\")\n",
    "        ax1.set_ylabel(\"Loss\", color=color)\n",
    "        ax1.plot(stats[\"epoch\"], stats[\"loss\"], color=color)\n",
    "        ax1.tick_params(axis=\"y\", labelcolor=color)\n",
    "\n",
    "        ax2 = ax1.twinx()\n",
    "\n",
    "        color = \"tab:orange\"\n",
    "        ax2.set_ylabel(\"Accuracy\", color=color)\n",
    "        ax2.plot(stats[\"epoch\"], stats[\"accuracy\"], color=color)\n",
    "        ax2.tick_params(axis=\"y\", labelcolor=color)\n",
    "        plt.show()\n",
    "    \n",
    "    return stats\n",
    "\n",
    "\n",
    "def test_loop(dataloader, model, criterion):\n",
    "    size = len(dataloader.dataset)\n",
    "    num_batches = len(dataloader)\n",
    "    test_loss, correct = 0, 0\n",
    "\n",
    "    with torch.no_grad():\n",
    "        for image, label in dataloader:\n",
    "            image, label = image.to(device), label.to(device)\n",
    "            pred = model(image)\n",
    "            test_loss += criterion(pred[\"logits\"], label).item()\n",
    "            correct += (pred[\"logits\"].argmax(1) == label).type(torch.float).sum().item()\n",
    "\n",
    "    test_loss /= num_batches\n",
    "    correct /= size\n",
    "    print(f\"Test Error: \\n Accuracy: {(100*correct):>0.1f}%, Avg loss: {test_loss:>8f} \\n\")\n",
    "    return (100 * correct), test_lossreturn stats\n",
    "\n",
    "\n",
    "def test_loop(dataloader, model, criterion):\n",
    "    size = len(dataloader.dataset)\n",
    "    num_batches = len(dataloader)\n",
    "    test_loss, correct = 0, 0\n",
    "\n",
    "    with torch.no_grad():\n",
    "        for image, label in dataloader:\n",
    "            image, label = image.to(device), label.to(device)\n",
    "            pred = model(image)\n",
    "            test_loss += criterion(pred[\"logits\"], label).item()\n",
    "            correct += (pred[\"logits\"].argmax(1) == label).type(torch.float).sum().item()\n",
    "\n",
    "    test_loss /= num_batches\n",
    "    correct /= size\n",
    "    print(f\"Test Error: \\n Accuracy: {(100*correct):>0.1f}%, Avg loss: {test_loss:>8f} \\n\")\n",
    "    return (100 * correct), test_loss"
   ]
  },
  {
   "cell_type": "code",
   "execution_count": 51,
   "id": "f7932613",
   "metadata": {
    "scrolled": true
   },
   "outputs": [
    {
     "name": "stdout",
     "output_type": "stream",
     "text": [
      "loss: 8.791654  [    0/25000] epoch: 1\n",
      "loss: 4.550992  [ 3200/25000] epoch: 1\n",
      "loss: 4.185511  [ 6400/25000] epoch: 1\n",
      "loss: 4.501808  [ 9600/25000] epoch: 1\n",
      "loss: 4.300653  [12800/25000] epoch: 1\n",
      "loss: 4.156388  [16000/25000] epoch: 1\n",
      "loss: 4.291621  [19200/25000] epoch: 1\n",
      "loss: 4.180246  [22400/25000] epoch: 1\n",
      "Epoch: 1\n",
      "Test Error: \n",
      " Accuracy: 9.3%, Avg loss: 4.013906 \n",
      "\n"
     ]
    },
    {
     "data": {
      "image/png": "[encoded data removed]",
      "text/plain": [
       "<Figure size 432x288 with 2 Axes>"
      ]
     },
     "metadata": {},
     "output_type": "display_data"
    },
    {
     "name": "stdout",
     "output_type": "stream",
     "text": [
      "loss: 4.028281  [    0/25000] epoch: 2\n",
      "loss: 3.343397  [ 3200/25000] epoch: 2\n",
      "loss: 3.552406  [ 6400/25000] epoch: 2\n",
      "loss: 3.545006  [ 9600/25000] epoch: 2\n",
      "loss: 3.538670  [12800/25000] epoch: 2\n",
      "loss: 2.683423  [16000/25000] epoch: 2\n",
      "loss: 2.684119  [19200/25000] epoch: 2\n",
      "loss: 3.241537  [22400/25000] epoch: 2\n",
      "Epoch: 2\n",
      "Test Error: \n",
      " Accuracy: 35.8%, Avg loss: 2.569139 \n",
      "\n"
     ]
    },
    {
     "data": {
      "image/png": "[encoded data removed]",
      "text/plain": [
       "<Figure size 432x288 with 2 Axes>"
      ]
     },
     "metadata": {},
     "output_type": "display_data"
    },
    {
     "name": "stdout",
     "output_type": "stream",
     "text": [
      "loss: 2.265111  [    0/25000] epoch: 3\n",
      "loss: 1.446600  [ 3200/25000] epoch: 3\n",
      "loss: 2.383486  [ 6400/25000] epoch: 3\n",
      "loss: 2.305371  [ 9600/25000] epoch: 3\n",
      "loss: 1.853771  [12800/25000] epoch: 3\n",
      "loss: 1.064929  [16000/25000] epoch: 3\n",
      "loss: 2.506169  [19200/25000] epoch: 3\n",
      "loss: 1.916145  [22400/25000] epoch: 3\n",
      "Epoch: 3\n",
      "Test Error: \n",
      " Accuracy: 55.9%, Avg loss: 1.713994 \n",
      "\n"
     ]
    },
    {
     "data": {
      "image/png": "[encoded data removed]",
      "text/plain": [
       "<Figure size 432x288 with 2 Axes>"
      ]
     },
     "metadata": {},
     "output_type": "display_data"
    },
    {
     "name": "stdout",
     "output_type": "stream",
     "text": [
      "loss: 1.184715  [    0/25000] epoch: 4\n",
      "loss: 1.553134  [ 3200/25000] epoch: 4\n",
      "loss: 0.889885  [ 6400/25000] epoch: 4\n",
      "loss: 2.290163  [ 9600/25000] epoch: 4\n",
      "loss: 1.003765  [12800/25000] epoch: 4\n",
      "loss: 0.942046  [16000/25000] epoch: 4\n",
      "loss: 1.811589  [19200/25000] epoch: 4\n",
      "loss: 0.776277  [22400/25000] epoch: 4\n",
      "Epoch: 4\n",
      "Test Error: \n",
      " Accuracy: 61.9%, Avg loss: 1.511427 \n",
      "\n"
     ]
    },
    {
     "data": {
      "image/png": "[encoded data removed]",
      "text/plain": [
       "<Figure size 432x288 with 2 Axes>"
      ]
     },
     "metadata": {},
     "output_type": "display_data"
    },
    {
     "name": "stdout",
     "output_type": "stream",
     "text": [
      "loss: 0.216207  [    0/25000] epoch: 5\n",
      "loss: 0.966410  [ 3200/25000] epoch: 5\n",
      "loss: 1.061050  [ 6400/25000] epoch: 5\n",
      "loss: 0.652501  [ 9600/25000] epoch: 5\n",
      "loss: 0.743316  [12800/25000] epoch: 5\n",
      "loss: 0.291192  [16000/25000] epoch: 5\n",
      "loss: 1.024701  [19200/25000] epoch: 5\n",
      "loss: 0.507026  [22400/25000] epoch: 5\n",
      "Epoch: 5\n",
      "Test Error: \n",
      " Accuracy: 61.6%, Avg loss: 1.512538 \n",
      "\n"
     ]
    },
    {
     "data": {
      "image/png": "[encoded data removed]",
      "text/plain": [
       "<Figure size 432x288 with 2 Axes>"
      ]
     },
     "metadata": {},
     "output_type": "display_data"
    },
    {
     "name": "stdout",
     "output_type": "stream",
     "text": [
      "loss: 0.252945  [    0/25000] epoch: 6\n",
      "loss: 1.039270  [ 3200/25000] epoch: 6\n"
     ]
    },
    {
     "ename": "KeyboardInterrupt",
     "evalue": "",
     "output_type": "error",
     "traceback": [
      "\u001b[1;31m---------------------------------------------------------------------------\u001b[0m",
      "\u001b[1;31mKeyboardInterrupt\u001b[0m                         Traceback (most recent call last)",
      "\u001b[1;32m~\\AppData\\Local\\Temp/ipykernel_3556/1318863448.py\u001b[0m in \u001b[0;36m<module>\u001b[1;34m\u001b[0m\n\u001b[1;32m----> 1\u001b[1;33m \u001b[0mstats\u001b[0m \u001b[1;33m=\u001b[0m \u001b[0mtrain_loop\u001b[0m\u001b[1;33m(\u001b[0m\u001b[0mtrainloader\u001b[0m\u001b[1;33m,\u001b[0m \u001b[0mbeit\u001b[0m\u001b[1;33m,\u001b[0m \u001b[0mcriterion\u001b[0m\u001b[1;33m,\u001b[0m \u001b[0moptimizer\u001b[0m\u001b[1;33m)\u001b[0m\u001b[1;33m\u001b[0m\u001b[1;33m\u001b[0m\u001b[0m\n\u001b[0m",
      "\u001b[1;32m~\\AppData\\Local\\Temp/ipykernel_3556/2127493704.py\u001b[0m in \u001b[0;36mtrain_loop\u001b[1;34m(dataloader, model, criterion, optimizer)\u001b[0m\n\u001b[0;32m     16\u001b[0m \u001b[1;33m\u001b[0m\u001b[0m\n\u001b[0;32m     17\u001b[0m     \u001b[1;32mfor\u001b[0m \u001b[0mepoch\u001b[0m \u001b[1;32min\u001b[0m \u001b[0mrange\u001b[0m\u001b[1;33m(\u001b[0m\u001b[1;36m10\u001b[0m\u001b[1;33m)\u001b[0m\u001b[1;33m:\u001b[0m\u001b[1;33m\u001b[0m\u001b[1;33m\u001b[0m\u001b[0m\n\u001b[1;32m---> 18\u001b[1;33m         \u001b[1;32mfor\u001b[0m \u001b[0mbatch\u001b[0m\u001b[1;33m,\u001b[0m \u001b[1;33m(\u001b[0m\u001b[0mimage\u001b[0m\u001b[1;33m,\u001b[0m \u001b[0mlabel\u001b[0m\u001b[1;33m)\u001b[0m \u001b[1;32min\u001b[0m \u001b[0menumerate\u001b[0m\u001b[1;33m(\u001b[0m\u001b[0mdataloader\u001b[0m\u001b[1;33m)\u001b[0m\u001b[1;33m:\u001b[0m\u001b[1;33m\u001b[0m\u001b[1;33m\u001b[0m\u001b[0m\n\u001b[0m\u001b[0;32m     19\u001b[0m             \u001b[1;31m# Compute prediction and loss\u001b[0m\u001b[1;33m\u001b[0m\u001b[1;33m\u001b[0m\u001b[1;33m\u001b[0m\u001b[0m\n\u001b[0;32m     20\u001b[0m             \u001b[0mimage\u001b[0m\u001b[1;33m,\u001b[0m \u001b[0mlabel\u001b[0m \u001b[1;33m=\u001b[0m \u001b[0mimage\u001b[0m\u001b[1;33m.\u001b[0m\u001b[0mto\u001b[0m\u001b[1;33m(\u001b[0m\u001b[0mdevice\u001b[0m\u001b[1;33m)\u001b[0m\u001b[1;33m,\u001b[0m \u001b[0mlabel\u001b[0m\u001b[1;33m.\u001b[0m\u001b[0mto\u001b[0m\u001b[1;33m(\u001b[0m\u001b[0mdevice\u001b[0m\u001b[1;33m)\u001b[0m\u001b[1;33m\u001b[0m\u001b[1;33m\u001b[0m\u001b[0m\n",
      "\u001b[1;32m~\\Anaconda3\\envs\\Clean_Install\\lib\\site-packages\\torch\\utils\\data\\dataloader.py\u001b[0m in \u001b[0;36m__next__\u001b[1;34m(self)\u001b[0m\n\u001b[0;32m    519\u001b[0m             \u001b[1;32mif\u001b[0m \u001b[0mself\u001b[0m\u001b[1;33m.\u001b[0m\u001b[0m_sampler_iter\u001b[0m \u001b[1;32mis\u001b[0m \u001b[1;32mNone\u001b[0m\u001b[1;33m:\u001b[0m\u001b[1;33m\u001b[0m\u001b[1;33m\u001b[0m\u001b[0m\n\u001b[0;32m    520\u001b[0m                 \u001b[0mself\u001b[0m\u001b[1;33m.\u001b[0m\u001b[0m_reset\u001b[0m\u001b[1;33m(\u001b[0m\u001b[1;33m)\u001b[0m\u001b[1;33m\u001b[0m\u001b[1;33m\u001b[0m\u001b[0m\n\u001b[1;32m--> 521\u001b[1;33m             \u001b[0mdata\u001b[0m \u001b[1;33m=\u001b[0m \u001b[0mself\u001b[0m\u001b[1;33m.\u001b[0m\u001b[0m_next_data\u001b[0m\u001b[1;33m(\u001b[0m\u001b[1;33m)\u001b[0m\u001b[1;33m\u001b[0m\u001b[1;33m\u001b[0m\u001b[0m\n\u001b[0m\u001b[0;32m    522\u001b[0m             \u001b[0mself\u001b[0m\u001b[1;33m.\u001b[0m\u001b[0m_num_yielded\u001b[0m \u001b[1;33m+=\u001b[0m \u001b[1;36m1\u001b[0m\u001b[1;33m\u001b[0m\u001b[1;33m\u001b[0m\u001b[0m\n\u001b[0;32m    523\u001b[0m             \u001b[1;32mif\u001b[0m \u001b[0mself\u001b[0m\u001b[1;33m.\u001b[0m\u001b[0m_dataset_kind\u001b[0m \u001b[1;33m==\u001b[0m \u001b[0m_DatasetKind\u001b[0m\u001b[1;33m.\u001b[0m\u001b[0mIterable\u001b[0m \u001b[1;32mand\u001b[0m\u001b[0;31m \u001b[0m\u001b[0;31m\\\u001b[0m\u001b[1;33m\u001b[0m\u001b[1;33m\u001b[0m\u001b[0m\n",
      "\u001b[1;32m~\\Anaconda3\\envs\\Clean_Install\\lib\\site-packages\\torch\\utils\\data\\dataloader.py\u001b[0m in \u001b[0;36m_next_data\u001b[1;34m(self)\u001b[0m\n\u001b[0;32m    559\u001b[0m     \u001b[1;32mdef\u001b[0m \u001b[0m_next_data\u001b[0m\u001b[1;33m(\u001b[0m\u001b[0mself\u001b[0m\u001b[1;33m)\u001b[0m\u001b[1;33m:\u001b[0m\u001b[1;33m\u001b[0m\u001b[1;33m\u001b[0m\u001b[0m\n\u001b[0;32m    560\u001b[0m         \u001b[0mindex\u001b[0m \u001b[1;33m=\u001b[0m \u001b[0mself\u001b[0m\u001b[1;33m.\u001b[0m\u001b[0m_next_index\u001b[0m\u001b[1;33m(\u001b[0m\u001b[1;33m)\u001b[0m  \u001b[1;31m# may raise StopIteration\u001b[0m\u001b[1;33m\u001b[0m\u001b[1;33m\u001b[0m\u001b[0m\n\u001b[1;32m--> 561\u001b[1;33m         \u001b[0mdata\u001b[0m \u001b[1;33m=\u001b[0m \u001b[0mself\u001b[0m\u001b[1;33m.\u001b[0m\u001b[0m_dataset_fetcher\u001b[0m\u001b[1;33m.\u001b[0m\u001b[0mfetch\u001b[0m\u001b[1;33m(\u001b[0m\u001b[0mindex\u001b[0m\u001b[1;33m)\u001b[0m  \u001b[1;31m# may raise StopIteration\u001b[0m\u001b[1;33m\u001b[0m\u001b[1;33m\u001b[0m\u001b[0m\n\u001b[0m\u001b[0;32m    562\u001b[0m         \u001b[1;32mif\u001b[0m \u001b[0mself\u001b[0m\u001b[1;33m.\u001b[0m\u001b[0m_pin_memory\u001b[0m\u001b[1;33m:\u001b[0m\u001b[1;33m\u001b[0m\u001b[1;33m\u001b[0m\u001b[0m\n\u001b[0;32m    563\u001b[0m             \u001b[0mdata\u001b[0m \u001b[1;33m=\u001b[0m \u001b[0m_utils\u001b[0m\u001b[1;33m.\u001b[0m\u001b[0mpin_memory\u001b[0m\u001b[1;33m.\u001b[0m\u001b[0mpin_memory\u001b[0m\u001b[1;33m(\u001b[0m\u001b[0mdata\u001b[0m\u001b[1;33m)\u001b[0m\u001b[1;33m\u001b[0m\u001b[1;33m\u001b[0m\u001b[0m\n",
      "\u001b[1;32m~\\Anaconda3\\envs\\Clean_Install\\lib\\site-packages\\torch\\utils\\data\\_utils\\fetch.py\u001b[0m in \u001b[0;36mfetch\u001b[1;34m(self, possibly_batched_index)\u001b[0m\n\u001b[0;32m     47\u001b[0m     \u001b[1;32mdef\u001b[0m \u001b[0mfetch\u001b[0m\u001b[1;33m(\u001b[0m\u001b[0mself\u001b[0m\u001b[1;33m,\u001b[0m \u001b[0mpossibly_batched_index\u001b[0m\u001b[1;33m)\u001b[0m\u001b[1;33m:\u001b[0m\u001b[1;33m\u001b[0m\u001b[1;33m\u001b[0m\u001b[0m\n\u001b[0;32m     48\u001b[0m         \u001b[1;32mif\u001b[0m \u001b[0mself\u001b[0m\u001b[1;33m.\u001b[0m\u001b[0mauto_collation\u001b[0m\u001b[1;33m:\u001b[0m\u001b[1;33m\u001b[0m\u001b[1;33m\u001b[0m\u001b[0m\n\u001b[1;32m---> 49\u001b[1;33m             \u001b[0mdata\u001b[0m \u001b[1;33m=\u001b[0m \u001b[1;33m[\u001b[0m\u001b[0mself\u001b[0m\u001b[1;33m.\u001b[0m\u001b[0mdataset\u001b[0m\u001b[1;33m[\u001b[0m\u001b[0midx\u001b[0m\u001b[1;33m]\u001b[0m \u001b[1;32mfor\u001b[0m \u001b[0midx\u001b[0m \u001b[1;32min\u001b[0m \u001b[0mpossibly_batched_index\u001b[0m\u001b[1;33m]\u001b[0m\u001b[1;33m\u001b[0m\u001b[1;33m\u001b[0m\u001b[0m\n\u001b[0m\u001b[0;32m     50\u001b[0m         \u001b[1;32melse\u001b[0m\u001b[1;33m:\u001b[0m\u001b[1;33m\u001b[0m\u001b[1;33m\u001b[0m\u001b[0m\n\u001b[0;32m     51\u001b[0m             \u001b[0mdata\u001b[0m \u001b[1;33m=\u001b[0m \u001b[0mself\u001b[0m\u001b[1;33m.\u001b[0m\u001b[0mdataset\u001b[0m\u001b[1;33m[\u001b[0m\u001b[0mpossibly_batched_index\u001b[0m\u001b[1;33m]\u001b[0m\u001b[1;33m\u001b[0m\u001b[1;33m\u001b[0m\u001b[0m\n",
      "\u001b[1;32m~\\Anaconda3\\envs\\Clean_Install\\lib\\site-packages\\torch\\utils\\data\\_utils\\fetch.py\u001b[0m in \u001b[0;36m<listcomp>\u001b[1;34m(.0)\u001b[0m\n\u001b[0;32m     47\u001b[0m     \u001b[1;32mdef\u001b[0m \u001b[0mfetch\u001b[0m\u001b[1;33m(\u001b[0m\u001b[0mself\u001b[0m\u001b[1;33m,\u001b[0m \u001b[0mpossibly_batched_index\u001b[0m\u001b[1;33m)\u001b[0m\u001b[1;33m:\u001b[0m\u001b[1;33m\u001b[0m\u001b[1;33m\u001b[0m\u001b[0m\n\u001b[0;32m     48\u001b[0m         \u001b[1;32mif\u001b[0m \u001b[0mself\u001b[0m\u001b[1;33m.\u001b[0m\u001b[0mauto_collation\u001b[0m\u001b[1;33m:\u001b[0m\u001b[1;33m\u001b[0m\u001b[1;33m\u001b[0m\u001b[0m\n\u001b[1;32m---> 49\u001b[1;33m             \u001b[0mdata\u001b[0m \u001b[1;33m=\u001b[0m \u001b[1;33m[\u001b[0m\u001b[0mself\u001b[0m\u001b[1;33m.\u001b[0m\u001b[0mdataset\u001b[0m\u001b[1;33m[\u001b[0m\u001b[0midx\u001b[0m\u001b[1;33m]\u001b[0m \u001b[1;32mfor\u001b[0m \u001b[0midx\u001b[0m \u001b[1;32min\u001b[0m \u001b[0mpossibly_batched_index\u001b[0m\u001b[1;33m]\u001b[0m\u001b[1;33m\u001b[0m\u001b[1;33m\u001b[0m\u001b[0m\n\u001b[0m\u001b[0;32m     50\u001b[0m         \u001b[1;32melse\u001b[0m\u001b[1;33m:\u001b[0m\u001b[1;33m\u001b[0m\u001b[1;33m\u001b[0m\u001b[0m\n\u001b[0;32m     51\u001b[0m             \u001b[0mdata\u001b[0m \u001b[1;33m=\u001b[0m \u001b[0mself\u001b[0m\u001b[1;33m.\u001b[0m\u001b[0mdataset\u001b[0m\u001b[1;33m[\u001b[0m\u001b[0mpossibly_batched_index\u001b[0m\u001b[1;33m]\u001b[0m\u001b[1;33m\u001b[0m\u001b[1;33m\u001b[0m\u001b[0m\n",
      "\u001b[1;32m~\\AppData\\Local\\Temp/ipykernel_3556/1771250363.py\u001b[0m in \u001b[0;36m__getitem__\u001b[1;34m(self, idx)\u001b[0m\n\u001b[0;32m     29\u001b[0m         \u001b[0mnew_image\u001b[0m \u001b[1;33m=\u001b[0m \u001b[0mtorch\u001b[0m\u001b[1;33m.\u001b[0m\u001b[0mfrom_numpy\u001b[0m\u001b[1;33m(\u001b[0m\u001b[0mnew_image\u001b[0m\u001b[1;33m)\u001b[0m\u001b[1;33m.\u001b[0m\u001b[0mT\u001b[0m\u001b[1;33m\u001b[0m\u001b[1;33m\u001b[0m\u001b[0m\n\u001b[0;32m     30\u001b[0m \u001b[1;33m\u001b[0m\u001b[0m\n\u001b[1;32m---> 31\u001b[1;33m         \u001b[0mfeatures\u001b[0m \u001b[1;33m=\u001b[0m \u001b[0mself\u001b[0m\u001b[1;33m.\u001b[0m\u001b[0mfeature_extractor\u001b[0m\u001b[1;33m(\u001b[0m\u001b[0mimages\u001b[0m\u001b[1;33m=\u001b[0m\u001b[0mnew_image\u001b[0m\u001b[1;33m)\u001b[0m\u001b[1;33m[\u001b[0m\u001b[1;34m\"pixel_values\"\u001b[0m\u001b[1;33m]\u001b[0m\u001b[1;33m[\u001b[0m\u001b[1;36m0\u001b[0m\u001b[1;33m]\u001b[0m\u001b[1;33m\u001b[0m\u001b[1;33m\u001b[0m\u001b[0m\n\u001b[0m\u001b[0;32m     32\u001b[0m         \u001b[0mlabel\u001b[0m \u001b[1;33m=\u001b[0m \u001b[0mself\u001b[0m\u001b[1;33m.\u001b[0m\u001b[0mimg_labels\u001b[0m\u001b[1;33m.\u001b[0m\u001b[0miloc\u001b[0m\u001b[1;33m[\u001b[0m\u001b[0midx\u001b[0m\u001b[1;33m,\u001b[0m \u001b[1;36m1\u001b[0m\u001b[1;33m]\u001b[0m\u001b[1;33m\u001b[0m\u001b[1;33m\u001b[0m\u001b[0m\n\u001b[0;32m     33\u001b[0m \u001b[1;33m\u001b[0m\u001b[0m\n",
      "\u001b[1;32m~\\Anaconda3\\envs\\Clean_Install\\lib\\site-packages\\transformers\\models\\beit\\feature_extraction_beit.py\u001b[0m in \u001b[0;36m__call__\u001b[1;34m(self, images, return_tensors, **kwargs)\u001b[0m\n\u001b[0;32m    147\u001b[0m         \u001b[1;31m# transformations (resizing + center cropping + normalization)\u001b[0m\u001b[1;33m\u001b[0m\u001b[1;33m\u001b[0m\u001b[1;33m\u001b[0m\u001b[0m\n\u001b[0;32m    148\u001b[0m         \u001b[1;32mif\u001b[0m \u001b[0mself\u001b[0m\u001b[1;33m.\u001b[0m\u001b[0mdo_resize\u001b[0m \u001b[1;32mand\u001b[0m \u001b[0mself\u001b[0m\u001b[1;33m.\u001b[0m\u001b[0msize\u001b[0m \u001b[1;32mis\u001b[0m \u001b[1;32mnot\u001b[0m \u001b[1;32mNone\u001b[0m \u001b[1;32mand\u001b[0m \u001b[0mself\u001b[0m\u001b[1;33m.\u001b[0m\u001b[0mresample\u001b[0m \u001b[1;32mis\u001b[0m \u001b[1;32mnot\u001b[0m \u001b[1;32mNone\u001b[0m\u001b[1;33m:\u001b[0m\u001b[1;33m\u001b[0m\u001b[1;33m\u001b[0m\u001b[0m\n\u001b[1;32m--> 149\u001b[1;33m             \u001b[0mimages\u001b[0m \u001b[1;33m=\u001b[0m \u001b[1;33m[\u001b[0m\u001b[0mself\u001b[0m\u001b[1;33m.\u001b[0m\u001b[0mresize\u001b[0m\u001b[1;33m(\u001b[0m\u001b[0mimage\u001b[0m\u001b[1;33m=\u001b[0m\u001b[0mimage\u001b[0m\u001b[1;33m,\u001b[0m \u001b[0msize\u001b[0m\u001b[1;33m=\u001b[0m\u001b[0mself\u001b[0m\u001b[1;33m.\u001b[0m\u001b[0msize\u001b[0m\u001b[1;33m,\u001b[0m \u001b[0mresample\u001b[0m\u001b[1;33m=\u001b[0m\u001b[0mself\u001b[0m\u001b[1;33m.\u001b[0m\u001b[0mresample\u001b[0m\u001b[1;33m)\u001b[0m \u001b[1;32mfor\u001b[0m \u001b[0mimage\u001b[0m \u001b[1;32min\u001b[0m \u001b[0mimages\u001b[0m\u001b[1;33m]\u001b[0m\u001b[1;33m\u001b[0m\u001b[1;33m\u001b[0m\u001b[0m\n\u001b[0m\u001b[0;32m    150\u001b[0m         \u001b[1;32mif\u001b[0m \u001b[0mself\u001b[0m\u001b[1;33m.\u001b[0m\u001b[0mdo_center_crop\u001b[0m \u001b[1;32mand\u001b[0m \u001b[0mself\u001b[0m\u001b[1;33m.\u001b[0m\u001b[0mcrop_size\u001b[0m \u001b[1;32mis\u001b[0m \u001b[1;32mnot\u001b[0m \u001b[1;32mNone\u001b[0m\u001b[1;33m:\u001b[0m\u001b[1;33m\u001b[0m\u001b[1;33m\u001b[0m\u001b[0m\n\u001b[0;32m    151\u001b[0m             \u001b[0mimages\u001b[0m \u001b[1;33m=\u001b[0m \u001b[1;33m[\u001b[0m\u001b[0mself\u001b[0m\u001b[1;33m.\u001b[0m\u001b[0mcenter_crop\u001b[0m\u001b[1;33m(\u001b[0m\u001b[0mimage\u001b[0m\u001b[1;33m,\u001b[0m \u001b[0mself\u001b[0m\u001b[1;33m.\u001b[0m\u001b[0mcrop_size\u001b[0m\u001b[1;33m)\u001b[0m \u001b[1;32mfor\u001b[0m \u001b[0mimage\u001b[0m \u001b[1;32min\u001b[0m \u001b[0mimages\u001b[0m\u001b[1;33m]\u001b[0m\u001b[1;33m\u001b[0m\u001b[1;33m\u001b[0m\u001b[0m\n",
      "\u001b[1;32m~\\Anaconda3\\envs\\Clean_Install\\lib\\site-packages\\transformers\\models\\beit\\feature_extraction_beit.py\u001b[0m in \u001b[0;36m<listcomp>\u001b[1;34m(.0)\u001b[0m\n\u001b[0;32m    147\u001b[0m         \u001b[1;31m# transformations (resizing + center cropping + normalization)\u001b[0m\u001b[1;33m\u001b[0m\u001b[1;33m\u001b[0m\u001b[1;33m\u001b[0m\u001b[0m\n\u001b[0;32m    148\u001b[0m         \u001b[1;32mif\u001b[0m \u001b[0mself\u001b[0m\u001b[1;33m.\u001b[0m\u001b[0mdo_resize\u001b[0m \u001b[1;32mand\u001b[0m \u001b[0mself\u001b[0m\u001b[1;33m.\u001b[0m\u001b[0msize\u001b[0m \u001b[1;32mis\u001b[0m \u001b[1;32mnot\u001b[0m \u001b[1;32mNone\u001b[0m \u001b[1;32mand\u001b[0m \u001b[0mself\u001b[0m\u001b[1;33m.\u001b[0m\u001b[0mresample\u001b[0m \u001b[1;32mis\u001b[0m \u001b[1;32mnot\u001b[0m \u001b[1;32mNone\u001b[0m\u001b[1;33m:\u001b[0m\u001b[1;33m\u001b[0m\u001b[1;33m\u001b[0m\u001b[0m\n\u001b[1;32m--> 149\u001b[1;33m             \u001b[0mimages\u001b[0m \u001b[1;33m=\u001b[0m \u001b[1;33m[\u001b[0m\u001b[0mself\u001b[0m\u001b[1;33m.\u001b[0m\u001b[0mresize\u001b[0m\u001b[1;33m(\u001b[0m\u001b[0mimage\u001b[0m\u001b[1;33m=\u001b[0m\u001b[0mimage\u001b[0m\u001b[1;33m,\u001b[0m \u001b[0msize\u001b[0m\u001b[1;33m=\u001b[0m\u001b[0mself\u001b[0m\u001b[1;33m.\u001b[0m\u001b[0msize\u001b[0m\u001b[1;33m,\u001b[0m \u001b[0mresample\u001b[0m\u001b[1;33m=\u001b[0m\u001b[0mself\u001b[0m\u001b[1;33m.\u001b[0m\u001b[0mresample\u001b[0m\u001b[1;33m)\u001b[0m \u001b[1;32mfor\u001b[0m \u001b[0mimage\u001b[0m \u001b[1;32min\u001b[0m \u001b[0mimages\u001b[0m\u001b[1;33m]\u001b[0m\u001b[1;33m\u001b[0m\u001b[1;33m\u001b[0m\u001b[0m\n\u001b[0m\u001b[0;32m    150\u001b[0m         \u001b[1;32mif\u001b[0m \u001b[0mself\u001b[0m\u001b[1;33m.\u001b[0m\u001b[0mdo_center_crop\u001b[0m \u001b[1;32mand\u001b[0m \u001b[0mself\u001b[0m\u001b[1;33m.\u001b[0m\u001b[0mcrop_size\u001b[0m \u001b[1;32mis\u001b[0m \u001b[1;32mnot\u001b[0m \u001b[1;32mNone\u001b[0m\u001b[1;33m:\u001b[0m\u001b[1;33m\u001b[0m\u001b[1;33m\u001b[0m\u001b[0m\n\u001b[0;32m    151\u001b[0m             \u001b[0mimages\u001b[0m \u001b[1;33m=\u001b[0m \u001b[1;33m[\u001b[0m\u001b[0mself\u001b[0m\u001b[1;33m.\u001b[0m\u001b[0mcenter_crop\u001b[0m\u001b[1;33m(\u001b[0m\u001b[0mimage\u001b[0m\u001b[1;33m,\u001b[0m \u001b[0mself\u001b[0m\u001b[1;33m.\u001b[0m\u001b[0mcrop_size\u001b[0m\u001b[1;33m)\u001b[0m \u001b[1;32mfor\u001b[0m \u001b[0mimage\u001b[0m \u001b[1;32min\u001b[0m \u001b[0mimages\u001b[0m\u001b[1;33m]\u001b[0m\u001b[1;33m\u001b[0m\u001b[1;33m\u001b[0m\u001b[0m\n",
      "\u001b[1;32m~\\Anaconda3\\envs\\Clean_Install\\lib\\site-packages\\transformers\\image_utils.py\u001b[0m in \u001b[0;36mresize\u001b[1;34m(self, image, size, resample)\u001b[0m\n\u001b[0;32m    170\u001b[0m             \u001b[0mimage\u001b[0m \u001b[1;33m=\u001b[0m \u001b[0mself\u001b[0m\u001b[1;33m.\u001b[0m\u001b[0mto_pil_image\u001b[0m\u001b[1;33m(\u001b[0m\u001b[0mimage\u001b[0m\u001b[1;33m)\u001b[0m\u001b[1;33m\u001b[0m\u001b[1;33m\u001b[0m\u001b[0m\n\u001b[0;32m    171\u001b[0m \u001b[1;33m\u001b[0m\u001b[0m\n\u001b[1;32m--> 172\u001b[1;33m         \u001b[1;32mreturn\u001b[0m \u001b[0mimage\u001b[0m\u001b[1;33m.\u001b[0m\u001b[0mresize\u001b[0m\u001b[1;33m(\u001b[0m\u001b[0msize\u001b[0m\u001b[1;33m,\u001b[0m \u001b[0mresample\u001b[0m\u001b[1;33m=\u001b[0m\u001b[0mresample\u001b[0m\u001b[1;33m)\u001b[0m\u001b[1;33m\u001b[0m\u001b[1;33m\u001b[0m\u001b[0m\n\u001b[0m\u001b[0;32m    173\u001b[0m \u001b[1;33m\u001b[0m\u001b[0m\n\u001b[0;32m    174\u001b[0m     \u001b[1;32mdef\u001b[0m \u001b[0mcenter_crop\u001b[0m\u001b[1;33m(\u001b[0m\u001b[0mself\u001b[0m\u001b[1;33m,\u001b[0m \u001b[0mimage\u001b[0m\u001b[1;33m,\u001b[0m \u001b[0msize\u001b[0m\u001b[1;33m)\u001b[0m\u001b[1;33m:\u001b[0m\u001b[1;33m\u001b[0m\u001b[1;33m\u001b[0m\u001b[0m\n",
      "\u001b[1;32m~\\Anaconda3\\envs\\Clean_Install\\lib\\site-packages\\PIL\\Image.py\u001b[0m in \u001b[0;36mresize\u001b[1;34m(self, size, resample, box, reducing_gap)\u001b[0m\n\u001b[0;32m   2006\u001b[0m                 )\n\u001b[0;32m   2007\u001b[0m \u001b[1;33m\u001b[0m\u001b[0m\n\u001b[1;32m-> 2008\u001b[1;33m         \u001b[1;32mreturn\u001b[0m \u001b[0mself\u001b[0m\u001b[1;33m.\u001b[0m\u001b[0m_new\u001b[0m\u001b[1;33m(\u001b[0m\u001b[0mself\u001b[0m\u001b[1;33m.\u001b[0m\u001b[0mim\u001b[0m\u001b[1;33m.\u001b[0m\u001b[0mresize\u001b[0m\u001b[1;33m(\u001b[0m\u001b[0msize\u001b[0m\u001b[1;33m,\u001b[0m \u001b[0mresample\u001b[0m\u001b[1;33m,\u001b[0m \u001b[0mbox\u001b[0m\u001b[1;33m)\u001b[0m\u001b[1;33m)\u001b[0m\u001b[1;33m\u001b[0m\u001b[1;33m\u001b[0m\u001b[0m\n\u001b[0m\u001b[0;32m   2009\u001b[0m \u001b[1;33m\u001b[0m\u001b[0m\n\u001b[0;32m   2010\u001b[0m     \u001b[1;32mdef\u001b[0m \u001b[0mreduce\u001b[0m\u001b[1;33m(\u001b[0m\u001b[0mself\u001b[0m\u001b[1;33m,\u001b[0m \u001b[0mfactor\u001b[0m\u001b[1;33m,\u001b[0m \u001b[0mbox\u001b[0m\u001b[1;33m=\u001b[0m\u001b[1;32mNone\u001b[0m\u001b[1;33m)\u001b[0m\u001b[1;33m:\u001b[0m\u001b[1;33m\u001b[0m\u001b[1;33m\u001b[0m\u001b[0m\n",
      "\u001b[1;31mKeyboardInterrupt\u001b[0m: "
     ]
    }
   ],
   "source": [
    "stats = train_loop(trainloader, beit, criterion, optimizer)"
   ]
  },
  {
   "cell_type": "code",
   "execution_count": 33,
   "id": "d93a4c5d",
   "metadata": {},
   "outputs": [],
   "source": [
    "# PATH = './transfered_beit.pth'\n",
    "# torch.save(beit.state_dict(), PATH)S"
   ]
  },
  {
   "cell_type": "code",
   "execution_count": 34,
   "id": "32434004",
   "metadata": {},
   "outputs": [
    {
     "data": {
      "application/vnd.jupyter.widget-view+json": {
       "model_id": "873b2f1bf14743a2bd1de7beb5eba0bb",
       "version_major": 2,
       "version_minor": 0
      },
      "text/plain": [
       "  0%|          | 0/479 [00:00<?, ?it/s]"
      ]
     },
     "metadata": {},
     "output_type": "display_data"
    }
   ],
   "source": [
    "test_results = {\"img_name\" : [], \"label\": []}\n",
    "\n",
    "for file_name, image in tqdm(testloader):\n",
    "    X = image.to(device)\n",
    "    pred = beit(X)[\"logits\"].argmax(1)\n",
    "    \n",
    "    test_results[\"img_name\"] += file_name\n",
    "    test_results[\"label\"] += [int(i) for i in pred.cpu()]SS"
   ]
  },
  {
   "cell_type": "code",
   "execution_count": 35,
   "id": "752a6d5d",
   "metadata": {},
   "outputs": [
    {
     "data": {
      "text/html": [
       "<div>\n",
       "<style scoped>\n",
       "    .dataframe tbody tr th:only-of-type {\n",
       "        vertical-align: middle;\n",
       "    }\n",
       "\n",
       "    .dataframe tbody tr th {\n",
       "        vertical-align: top;\n",
       "    }\n",
       "\n",
       "    .dataframe thead th {\n",
       "        text-align: right;\n",
       "    }\n",
       "</style>\n",
       "<table border=\"1\" class=\"dataframe\">\n",
       "  <thead>\n",
       "    <tr style=\"text-align: right;\">\n",
       "      <th></th>\n",
       "      <th>img_name</th>\n",
       "      <th>label</th>\n",
       "    </tr>\n",
       "  </thead>\n",
       "  <tbody>\n",
       "    <tr>\n",
       "      <th>0</th>\n",
       "      <td>test_1.jpg</td>\n",
       "      <td>15</td>\n",
       "    </tr>\n",
       "    <tr>\n",
       "      <th>1</th>\n",
       "      <td>test_10.jpg</td>\n",
       "      <td>45</td>\n",
       "    </tr>\n",
       "    <tr>\n",
       "      <th>2</th>\n",
       "      <td>test_100.jpg</td>\n",
       "      <td>34</td>\n",
       "    </tr>\n",
       "    <tr>\n",
       "      <th>3</th>\n",
       "      <td>test_1000.jpg</td>\n",
       "      <td>29</td>\n",
       "    </tr>\n",
       "    <tr>\n",
       "      <th>4</th>\n",
       "      <td>test_1001.jpg</td>\n",
       "      <td>37</td>\n",
       "    </tr>\n",
       "  </tbody>\n",
       "</table>\n",
       "</div>"
      ],
      "text/plain": [
       "        img_name  label\n",
       "0     test_1.jpg     15\n",
       "1    test_10.jpg     45\n",
       "2   test_100.jpg     34\n",
       "3  test_1000.jpg     29\n",
       "4  test_1001.jpg     37"
      ]
     },
     "execution_count": 35,
     "metadata": {},
     "output_type": "execute_result"
    }
   ],
   "source": [
    "test_df = pd.DataFrame(test_results)\n",
    "\n",
    "test_df.head()"
   ]
  },
  {
   "cell_type": "code",
   "execution_count": 36,
   "id": "1ab7cd7b",
   "metadata": {},
   "outputs": [],
   "source": [
    "test_df.to_csv(\"submission_beit.csv\", index=False)"
   ]
  },
  {
   "cell_type": "code",
   "execution_count": null,
   "id": "acb9942b",
   "metadata": {},
   "outputs": [],
   "source": []
  }
 ],
 "metadata": {
  "kernelspec": {
   "display_name": "Python 3 (ipykernel)",
   "language": "python",
   "name": "python3"
  },
  "language_info": {
   "codemirror_mode": {
    "name": "ipython",
    "version": 3
   },
   "file_extension": ".py",
   "mimetype": "text/x-python",
   "name": "python",
   "nbconvert_exporter": "python",
   "pygments_lexer": "ipython3",
   "version": "3.7.11"
  }
 },
 "nbformat": 4,
 "nbformat_minor": 5
}
