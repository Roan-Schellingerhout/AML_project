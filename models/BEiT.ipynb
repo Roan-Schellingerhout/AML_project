{
 "cells": [
  {
   "cell_type": "code",
   "execution_count": 27,
   "id": "bbb6d61d",
   "metadata": {},
   "outputs": [],
   "source": [
    "import torch\n",
    "import torchvision\n",
    "import os\n",
    "\n",
    "import torchvision.transforms as transforms\n",
    "import torchvision.models as models\n",
    "import torch.nn as nn\n",
    "import torch.nn.functional as F\n",
    "import torch.optim as optim\n",
    "\n",
    "import matplotlib.pyplot as plt\n",
    "import tensorflow as tf\n",
    "import pandas as pd\n",
    "\n",
    "from torch.utils.data import DataLoader\n",
    "from torch.utils.data import Dataset\n",
    "from torchvision.io import read_image\n",
    "\n",
    "from transformers import BeitForImageClassification, BeitConfig, BeitFeatureExtractor, Trainer, TrainingArguments\n",
    "from PIL import Image\n",
    "\n",
    "from tqdm import tqdm\n",
    "from collections import defaultdict"
   ]
  },
  {
   "cell_type": "code",
   "execution_count": 2,
   "id": "6dfcdbf5",
   "metadata": {},
   "outputs": [
    {
     "data": {
      "text/plain": [
       "'cuda:0'"
      ]
     },
     "execution_count": 2,
     "metadata": {},
     "output_type": "execute_result"
    }
   ],
   "source": [
    "# Check for GPU\n",
    "device = (\"cuda:0\" if torch.cuda.is_available() else \"cpu\")\n",
    "\n",
    "device"
   ]
  },
  {
   "cell_type": "code",
   "execution_count": 55,
   "id": "817964f0",
   "metadata": {},
   "outputs": [],
   "source": [
    "class food_train(Dataset):\n",
    "\n",
    "    def __init__(self, labels_file, img_dir, transform=None, target_transform=None):\n",
    "        self.img_labels = pd.read_csv(labels_file, names=['img_name', 'label'], header=1)[:25000]\n",
    "        self.img_dir = img_dir\n",
    "        self.transform = transform\n",
    "        self.target_transform = target_transform\n",
    "\n",
    "    def __len__(self):\n",
    "        return len(self.img_labels)\n",
    "\n",
    "    def __getitem__(self, idx):\n",
    "        img_path = os.path.join(self.img_dir, self.img_labels.iloc[idx, 0])\n",
    "        image = read_image(img_path)\n",
    "        label = self.img_labels.iloc[idx, 1]\n",
    "        \n",
    "        if self.transform:\n",
    "            image = self.transform(image)\n",
    "            \n",
    "        if self.target_transform:\n",
    "            image = self.target_transform(label)\n",
    "        \n",
    "        return image, label"
   ]
  },
  {
   "cell_type": "code",
   "execution_count": 56,
   "id": "f9334590",
   "metadata": {},
   "outputs": [],
   "source": [
    "class food_val(Dataset):\n",
    "\n",
    "    def __init__(self, labels_file, img_dir, transform=None, target_transform=None):\n",
    "        self.img_labels = pd.read_csv(labels_file, names=['img_name', 'label'], header=1)[25000:]\n",
    "        self.img_dir = img_dir\n",
    "        self.transform = transform\n",
    "        self.target_transform = target_transform\n",
    "\n",
    "    def __len__(self):\n",
    "        return len(self.img_labels)\n",
    "\n",
    "    def __getitem__(self, idx):\n",
    "        img_path = os.path.join(self.img_dir, self.img_labels.iloc[idx, 0])\n",
    "        image = read_image(img_path)\n",
    "        label = self.img_labels.iloc[idx, 1]\n",
    "        \n",
    "        if self.transform:\n",
    "            image = self.transform(image)\n",
    "            \n",
    "        if self.target_transform:\n",
    "            image = self.target_transform(label)\n",
    "        \n",
    "        return image, label"
   ]
  },
  {
   "cell_type": "code",
   "execution_count": 57,
   "id": "c3e17ee6",
   "metadata": {},
   "outputs": [],
   "source": [
    "class food_test(Dataset):\n",
    "\n",
    "    def __init__(self, img_dir, transform=None):\n",
    "        self.img_dir = img_dir\n",
    "        self.transform = transform\n",
    "\n",
    "    def __len__(self):\n",
    "        return len(os.listdir(self.img_dir))\n",
    "\n",
    "    def __getitem__(self, idx):\n",
    "        file_name = os.listdir(self.img_dir)[idx]\n",
    "        img_path = os.path.join(self.img_dir, file_name)\n",
    "        image = read_image(img_path)\n",
    "       \n",
    "        if self.transform:\n",
    "            image = self.transform(image)\n",
    "        \n",
    "        return file_name, image"
   ]
  },
  {
   "cell_type": "code",
   "execution_count": 58,
   "id": "f1f56cc1",
   "metadata": {},
   "outputs": [
    {
     "data": {
      "text/plain": [
       "(25000, 5611)"
      ]
     },
     "execution_count": 58,
     "metadata": {},
     "output_type": "execute_result"
    }
   ],
   "source": [
    "img_dir = \"./AML_project/data/train_set/train_set\"\n",
    "labels = \"./AML_project/data/train_labels.csv\"\n",
    "\n",
    "# Resize image to match BEiT, convert to torch.float, normalize\n",
    "transform = transforms.Compose(\n",
    "                    [transforms.Resize((224,224)),\n",
    "                     transforms.ConvertImageDtype(torch.float),\n",
    "                     transforms.Normalize(mean=[0.485, 0.456, 0.406],\n",
    "                                          std=[0.229, 0.224, 0.225])])\n",
    "\n",
    "# Create datasets\n",
    "train_set = food_train(labels, img_dir, transform = transform)\n",
    "trainloader = DataLoader(train_set, batch_size=16, shuffle=True, num_workers=0)\n",
    "\n",
    "val_set = food_val(labels, img_dir, transform = transform)\n",
    "valloader = DataLoader(val_set, batch_size=16, shuffle=True, num_workers=0)\n",
    "\n",
    "len(train_set), len(val_set)"
   ]
  },
  {
   "cell_type": "code",
   "execution_count": 59,
   "id": "4691e8e7",
   "metadata": {},
   "outputs": [
    {
     "data": {
      "text/plain": [
       "7653"
      ]
     },
     "execution_count": 59,
     "metadata": {},
     "output_type": "execute_result"
    }
   ],
   "source": [
    "test_set = food_test(\"./AML_project/data/test_set/test_set\", transform = transform)\n",
    "testloader = DataLoader(test_set, batch_size = 16)\n",
    "\n",
    "len(test_set)"
   ]
  },
  {
   "cell_type": "code",
   "execution_count": 60,
   "id": "9638ad1d",
   "metadata": {},
   "outputs": [],
   "source": [
    "# Load BEiT\n",
    "feature_extractor = BeitFeatureExtractor.from_pretrained(\"microsoft/beit-base-patch16-224\")\n",
    "beit = BeitForImageClassification.from_pretrained(\"microsoft/beit-base-patch16-224\")"
   ]
  },
  {
   "cell_type": "code",
   "execution_count": 61,
   "id": "5c472868",
   "metadata": {},
   "outputs": [],
   "source": [
    "# CrossEntropyLoss and SGD optimizer\n",
    "criterion = nn.CrossEntropyLoss()\n",
    "optimizer = optim.SGD(beit.parameters(), lr = 0.001, momentum = 0.9)\n",
    "# optimizer = optim.Adam(beit.parameters(), lr=0.00001)"
   ]
  },
  {
   "cell_type": "code",
   "execution_count": 62,
   "id": "a6502a96",
   "metadata": {},
   "outputs": [
    {
     "data": {
      "text/plain": [
       "25000"
      ]
     },
     "execution_count": 62,
     "metadata": {},
     "output_type": "execute_result"
    }
   ],
   "source": [
    "len(trainloader.dataset)"
   ]
  },
  {
   "cell_type": "code",
   "execution_count": 64,
   "id": "69c7d2b5",
   "metadata": {},
   "outputs": [],
   "source": [
    "def train_loop(dataloader, model, criterion, optimizer):\n",
    "    # Get size of dataset\n",
    "    size = len(dataloader.dataset)\n",
    "    # Train on GPU if available\n",
    "    model = model.to(device)\n",
    "    model.train()\n",
    "    \n",
    "    # Metadata\n",
    "    stats = defaultdict(list)\n",
    "    current_acc = 0\n",
    "    max_acc = 0\n",
    "    \n",
    "    stats[\"acc_step\"].append(0)\n",
    "    stats[\"accuracy\"].append(1.25)\n",
    "    \n",
    "    for epoch in range(5):\n",
    "        for batch, (image, label) in enumerate(dataloader):\n",
    "            # Compute prediction and loss\n",
    "            image, label = image.to(device), label.to(device)\n",
    "            pred = model(image)\n",
    "            loss = criterion(pred[\"logits\"], label)\n",
    "\n",
    "            # Backpropagation\n",
    "            optimizer.zero_grad()\n",
    "            loss.backward()\n",
    "            optimizer.step()\n",
    "            \n",
    "            # Store metadata\n",
    "            stats[\"batch\"].append(batch + (epoch * len(dataloader)))\n",
    "            stats[\"loss\"].append(loss.item())\n",
    "            stats[\"epoch\"].append(epoch + 1)\n",
    "\n",
    "            # Print progress\n",
    "            if batch % 200 == 0:\n",
    "                loss, current = loss.item(), batch * len(image)\n",
    "                print(f\"loss: {loss:>7f}  [{current:>5d}/{size:>5d}] epoch: {epoch + 1}\")\n",
    "        \n",
    "        # Print performance after current number of epochs\n",
    "        print(f\"Epoch: {epoch + 1}\")\n",
    "        current_acc = test_loop(valloader, model, criterion)\n",
    "        if current_acc > max_acc:\n",
    "            PATH = f'./beit_epoch_{epoch + 1}.pth'\n",
    "            torch.save(beit.state_dict(), PATH)\n",
    "            max_acc = current_acc\n",
    "            \n",
    "        # Store metadata\n",
    "        stats[\"acc_step\"].append((epoch + 1) * len(dataloader))\n",
    "        stats[\"accuracy\"].append(current_acc)\n",
    "        \n",
    "        # Plot progress\n",
    "        fig, ax1 = plt.subplots()\n",
    "\n",
    "        color = \"tab:blue\"\n",
    "        ax1.set_xlabel(\"batch, epoch\")\n",
    "        ax1.set_ylabel(\"Loss\", color=color)\n",
    "        ax1.plot(stats[\"batch\"], stats[\"loss\"], color=color)\n",
    "        ax1.tick_params(axis=\"y\", labelcolor=color)\n",
    "\n",
    "        ax2 = ax1.twinx()\n",
    "\n",
    "        color = \"tab:orange\"\n",
    "        ax2.set_ylabel(\"Accuracy\", color=color)\n",
    "        ax2.plot(stats[\"acc_step\"], stats[\"accuracy\"], color=color)\n",
    "        ax2.tick_params(axis=\"y\", labelcolor=color)\n",
    "        plt.show()\n",
    "\n",
    "    \n",
    "    return stats\n",
    "\n",
    "\n",
    "def test_loop(dataloader, model, criterion):\n",
    "    size = len(dataloader.dataset)\n",
    "    num_batches = len(dataloader)\n",
    "    test_loss, correct = 0, 0\n",
    "\n",
    "    with torch.no_grad():\n",
    "        for image, label in dataloader:\n",
    "            image, label = image.to(device), label.to(device)\n",
    "            pred = model(image)\n",
    "            test_loss += criterion(pred[\"logits\"], label).item()\n",
    "            correct += (pred[\"logits\"].argmax(1) == label).type(torch.float).sum().item()\n",
    "\n",
    "    test_loss /= num_batches\n",
    "    correct /= size\n",
    "    print(f\"Test Error: \\n Accuracy: {(100*correct):>0.1f}%, Avg loss: {test_loss:>8f} \\n\")\n",
    "    return (100 * correct)"
   ]
  },
  {
   "cell_type": "code",
   "execution_count": null,
   "id": "403e5389",
   "metadata": {},
   "outputs": [],
   "source": [
    "stats = train_loop(trainloader, beit, criterion, optimizer)"
   ]
  },
  {
   "cell_type": "code",
   "execution_count": 33,
   "id": "d93a4c5d",
   "metadata": {},
   "outputs": [],
   "source": [
    "# PATH = './transfered_beit.pth'\n",
    "# torch.save(beit.state_dict(), PATH)"
   ]
  },
  {
   "cell_type": "code",
   "execution_count": 34,
   "id": "32434004",
   "metadata": {},
   "outputs": [
    {
     "data": {
      "application/vnd.jupyter.widget-view+json": {
       "model_id": "873b2f1bf14743a2bd1de7beb5eba0bb",
       "version_major": 2,
       "version_minor": 0
      },
      "text/plain": [
       "  0%|          | 0/479 [00:00<?, ?it/s]"
      ]
     },
     "metadata": {},
     "output_type": "display_data"
    }
   ],
   "source": [
    "test_results = {\"img_name\" : [], \"label\": []}\n",
    "\n",
    "for file_name, image in tqdm(testloader):\n",
    "    X = image.to(device)\n",
    "    pred = beit(X)[\"logits\"].argmax(1)\n",
    "    \n",
    "    test_results[\"img_name\"] += file_name\n",
    "    test_results[\"label\"] += [int(i) for i in pred.cpu()]"
   ]
  },
  {
   "cell_type": "code",
   "execution_count": 35,
   "id": "752a6d5d",
   "metadata": {},
   "outputs": [
    {
     "data": {
      "text/html": [
       "<div>\n",
       "<style scoped>\n",
       "    .dataframe tbody tr th:only-of-type {\n",
       "        vertical-align: middle;\n",
       "    }\n",
       "\n",
       "    .dataframe tbody tr th {\n",
       "        vertical-align: top;\n",
       "    }\n",
       "\n",
       "    .dataframe thead th {\n",
       "        text-align: right;\n",
       "    }\n",
       "</style>\n",
       "<table border=\"1\" class=\"dataframe\">\n",
       "  <thead>\n",
       "    <tr style=\"text-align: right;\">\n",
       "      <th></th>\n",
       "      <th>img_name</th>\n",
       "      <th>label</th>\n",
       "    </tr>\n",
       "  </thead>\n",
       "  <tbody>\n",
       "    <tr>\n",
       "      <th>0</th>\n",
       "      <td>test_1.jpg</td>\n",
       "      <td>15</td>\n",
       "    </tr>\n",
       "    <tr>\n",
       "      <th>1</th>\n",
       "      <td>test_10.jpg</td>\n",
       "      <td>45</td>\n",
       "    </tr>\n",
       "    <tr>\n",
       "      <th>2</th>\n",
       "      <td>test_100.jpg</td>\n",
       "      <td>34</td>\n",
       "    </tr>\n",
       "    <tr>\n",
       "      <th>3</th>\n",
       "      <td>test_1000.jpg</td>\n",
       "      <td>29</td>\n",
       "    </tr>\n",
       "    <tr>\n",
       "      <th>4</th>\n",
       "      <td>test_1001.jpg</td>\n",
       "      <td>37</td>\n",
       "    </tr>\n",
       "  </tbody>\n",
       "</table>\n",
       "</div>"
      ],
      "text/plain": [
       "        img_name  label\n",
       "0     test_1.jpg     15\n",
       "1    test_10.jpg     45\n",
       "2   test_100.jpg     34\n",
       "3  test_1000.jpg     29\n",
       "4  test_1001.jpg     37"
      ]
     },
     "execution_count": 35,
     "metadata": {},
     "output_type": "execute_result"
    }
   ],
   "source": [
    "test_df = pd.DataFrame(test_results)\n",
    "\n",
    "test_df.head()"
   ]
  },
  {
   "cell_type": "code",
   "execution_count": 36,
   "id": "1ab7cd7b",
   "metadata": {},
   "outputs": [],
   "source": [
    "test_df.to_csv(\"submission_beit.csv\", index=False)"
   ]
  },
  {
   "cell_type": "code",
   "execution_count": null,
   "id": "acb9942b",
   "metadata": {},
   "outputs": [],
   "source": []
  }
 ],
 "metadata": {
  "kernelspec": {
   "display_name": "Python 3",
   "language": "python",
   "name": "python3"
  },
  "language_info": {
   "codemirror_mode": {
    "name": "ipython",
    "version": 3
   },
   "file_extension": ".py",
   "mimetype": "text/x-python",
   "name": "python",
   "nbconvert_exporter": "python",
   "pygments_lexer": "ipython3",
   "version": "3.6.13"
  }
 },
 "nbformat": 4,
 "nbformat_minor": 5
}
