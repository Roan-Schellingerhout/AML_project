{
 "cells": [
  {
   "cell_type": "code",
   "execution_count": 21,
   "id": "fc3f256d",
   "metadata": {},
   "outputs": [],
   "source": [
    "import torch\n",
    "import torchvision\n",
    "import os\n",
    "\n",
    "import torchvision.transforms as transforms\n",
    "import torchvision.models as models\n",
    "import torch.nn as nn\n",
    "import torch.nn.functional as F\n",
    "import torch.optim as optim\n",
    "\n",
    "import matplotlib.pyplot as plt\n",
    "#import tensorflow as tf\n",
    "import pandas as pd\n",
    "import numpy as np\n",
    "\n",
    "from torch.utils.data import DataLoader\n",
    "from torch.utils.data import Dataset\n",
    "from torchvision.io import read_image\n",
    "from torch.optim.lr_scheduler import LinearLR\n",
    "\n",
    "from transformers import AutoModelForImageClassification, ViTForImageClassification, \\\n",
    "                         ViTFeatureExtractor, Trainer, TrainingArguments, \\\n",
    "                         AutoFeatureExtractor, DeiTForImageClassificationWithTeacher, \\\n",
    "                         BeitForImageClassification, BeitFeatureExtractor\n",
    "                         # PerceiverFeatureExtractor, PerceiverForImageClassificationConvProcessing\n",
    "\n",
    "from AutoAugment.autoaugment import ImageNetPolicy\n",
    "\n",
    "from PIL import Image\n",
    "import cv2\n",
    "\n",
    "from tqdm import tqdm\n",
    "from collections import defaultdict, OrderedDict"
   ]
  },
  {
   "cell_type": "code",
   "execution_count": 2,
   "id": "ec61bb7e",
   "metadata": {},
   "outputs": [
    {
     "data": {
      "text/plain": [
       "'cuda:0'"
      ]
     },
     "execution_count": 2,
     "metadata": {},
     "output_type": "execute_result"
    }
   ],
   "source": [
    "# Check for GPU\n",
    "device = (\"cuda:0\" if torch.cuda.is_available() else \"cpu\")\n",
    "\n",
    "device"
   ]
  },
  {
   "cell_type": "code",
   "execution_count": 4,
   "id": "665c41f9",
   "metadata": {},
   "outputs": [
    {
     "data": {
      "text/plain": [
       "(31016, 2)"
      ]
     },
     "execution_count": 4,
     "metadata": {},
     "output_type": "execute_result"
    }
   ],
   "source": [
    "df = pd.read_csv(\"../data/train_labels.csv\", names=['img_name', 'label'], header=1)\n",
    "\n",
    "df = df.append([df[df[\"label\"] == 20]] * 15, ignore_index = True)\n",
    "df = df.sample(frac=1).reset_index(drop=True)\n",
    "\n",
    "df.shape"
   ]
  },
  {
   "cell_type": "code",
   "execution_count": 41,
   "id": "7e710d7c",
   "metadata": {},
   "outputs": [],
   "source": [
    "def remove_background(img):\n",
    "    # Apply thresholds for the bound selection\n",
    "    img = np.asarray(img)\n",
    "    \n",
    "    threshold1,threshold2 = 40, 500\n",
    "    grey = cv2.cvtColor(img, cv2.COLOR_BGR2GRAY)\n",
    "    image = cv2.Canny(img, threshold1, threshold2)\n",
    "\n",
    "    # Convert images to correct sizes\n",
    "    image_new = np.repeat(image[:, :, np.newaxis], 3, axis=2)\n",
    "    grey_new = np.repeat(grey[:, :, np.newaxis], 3, axis=2)\n",
    "\n",
    "    # Applying grey scale and applying the bounds --> These need to be optimized.\n",
    "    new_image = img * image_new + (1 - grey_new)\n",
    "    new_image = img * ((new_image > 40) * (new_image < 230))\n",
    "       \n",
    "    return Image.fromarray(np.uint8(new_image))    "
   ]
  },
  {
   "cell_type": "code",
   "execution_count": 42,
   "id": "31a5c649",
   "metadata": {},
   "outputs": [],
   "source": [
    "class food_set(Dataset):\n",
    "\n",
    "    def __init__(self, labels_file, img_dir, extractor, transform = None, settype = \"train\"):\n",
    "        if settype == \"train\":\n",
    "            self.img_labels = df[:30000]\n",
    "        elif settype == \"val\":\n",
    "            self.img_labels = df[30000:]\n",
    "        self.img_dir = img_dir\n",
    "        self.feature_extractor = extractor\n",
    "        self.transform = transform\n",
    "        \n",
    "    def __len__(self):\n",
    "        return len(self.img_labels)\n",
    "\n",
    "    def __getitem__(self, idx):\n",
    "        img_path = os.path.join(self.img_dir, self.img_labels.iloc[idx, 0])\n",
    "        image = Image.open(img_path)\n",
    "        \n",
    "        # image = remove_background(image)\n",
    "        \n",
    "        if self.transform:\n",
    "            image = self.transform(image)\n",
    "                \n",
    "        features = self.feature_extractor(images=image)[\"pixel_values\"][0]      \n",
    "        \n",
    "        label = self.img_labels.iloc[idx, 1]       \n",
    "            \n",
    "        return features, label"
   ]
  },
  {
   "cell_type": "code",
   "execution_count": 43,
   "id": "bc353e4d",
   "metadata": {},
   "outputs": [],
   "source": [
    "class food_test(Dataset):\n",
    "\n",
    "    def __init__(self, img_dir, extractor, transform = None):\n",
    "        self.img_dir = img_dir\n",
    "        self.feature_extractor = extractor\n",
    "        self.transform = transform\n",
    "\n",
    "    def __len__(self):\n",
    "        return len(os.listdir(self.img_dir))\n",
    "\n",
    "    def __getitem__(self, idx):\n",
    "        file_name = os.listdir(self.img_dir)[idx]\n",
    "        img_path = os.path.join(self.img_dir, file_name)\n",
    "        image = Image.open(img_path)\n",
    "        \n",
    "        if self.transform:\n",
    "            image = self.transform(image)\n",
    "        \n",
    "        features = self.feature_extractor(images=image)[\"pixel_values\"][0]\n",
    "        \n",
    "        return file_name, features"
   ]
  },
  {
   "cell_type": "code",
   "execution_count": 44,
   "id": "047712ce",
   "metadata": {},
   "outputs": [],
   "source": [
    "model = BeitForImageClassification.from_pretrained('microsoft/beit-base-patch16-224-pt22k-ft22k')\n",
    "\n",
    "for param in model.parameters():\n",
    "    param.requires_grad = False\n",
    "\n",
    "classifier = nn.Sequential(OrderedDict([\n",
    "                          ('fc1', nn.Linear(768, 512)),\n",
    "                          ('relu', nn.ReLU()),\n",
    "                          ('fc2', nn.Linear(512, 81)),\n",
    "                          ('output', nn.LogSoftmax(dim=1))\n",
    "                          ]))\n",
    "\n",
    "model.classifier = classifier\n",
    "model = model.to(device)"
   ]
  },
  {
   "cell_type": "code",
   "execution_count": 45,
   "id": "8ed4890e",
   "metadata": {
    "scrolled": true
   },
   "outputs": [],
   "source": [
    "# PATH = './transfered_beit.pth'\n",
    "# torch.save(beit.state_dict(), PATH)"
   ]
  },
  {
   "cell_type": "code",
   "execution_count": 46,
   "id": "cf7b6607",
   "metadata": {},
   "outputs": [],
   "source": [
    "def train_loop(trainloader, valloader, model, criterion, optimizer, scheduler = None):\n",
    "    \n",
    "    # Train on GPU if available\n",
    "    model = model.to(device)\n",
    "    model.train()\n",
    "    \n",
    "    # Metadata\n",
    "    stats = defaultdict(list)\n",
    "    current_acc = 0\n",
    "    max_acc = 0\n",
    "    \n",
    "    try:\n",
    "        stats[\"epoch\"].append(0)\n",
    "        stats[\"loss\"].append(8.7)\n",
    "        stats[\"accuracy\"].append(1.25)\n",
    "\n",
    "        for epoch in range(5):\n",
    "            size = len(trainloader.dataset)\n",
    "\n",
    "            for batch, (image, label) in enumerate(trainloader):\n",
    "                # Compute prediction and loss\n",
    "                image, label = image.to(device), label.to(device)            \n",
    "                pred = model(image)[\"logits\"]\n",
    "                loss = criterion(pred, label)\n",
    "\n",
    "                # Backpropagation\n",
    "                optimizer.zero_grad()\n",
    "                loss.backward()\n",
    "                optimizer.step()\n",
    "\n",
    "                # Print progress\n",
    "                if batch % 200 == 0:\n",
    "                    loss, current = loss.item(), batch * len(image)\n",
    "                    print(f\"loss: {loss:>7f}  [{current:>5d}/{size:>5d}] epoch: {epoch + 1}\")\n",
    "\n",
    "            # Print performance after current number of epochs\n",
    "            print(f\"Epoch: {epoch + 1}\")\n",
    "            current_acc, avg_loss = test_loop(valloader, model, criterion)\n",
    "\n",
    "            if current_acc > max_acc:\n",
    "                PATH = f'../../beit_2_fc_bg_removal_imgnetpol.pth'\n",
    "                torch.save(model.state_dict(), PATH)\n",
    "                max_acc = current_acc\n",
    "\n",
    "            # Store metadata\n",
    "            stats[\"epoch\"].append(epoch + 1)\n",
    "            stats[\"accuracy\"].append(current_acc)\n",
    "            stats[\"loss\"].append(avg_loss)\n",
    "\n",
    "            # Plot progress\n",
    "            fig, ax1 = plt.subplots()\n",
    "\n",
    "            color = \"tab:blue\"\n",
    "            ax1.set_xlabel(\"Epoch\")\n",
    "            ax1.set_ylabel(\"Loss\", color=color)\n",
    "            ax1.plot(stats[\"epoch\"], stats[\"loss\"], color=color)\n",
    "            ax1.tick_params(axis=\"y\", labelcolor=color)\n",
    "\n",
    "            ax2 = ax1.twinx()\n",
    "\n",
    "            color = \"tab:orange\"\n",
    "            ax2.set_ylabel(\"Accuracy\", color=color)\n",
    "            ax2.plot(stats[\"epoch\"], stats[\"accuracy\"], color=color)\n",
    "            ax2.tick_params(axis=\"y\", labelcolor=color)\n",
    "            plt.show()\n",
    "            \n",
    "            if scheduler:\n",
    "                scheduler.step()\n",
    "\n",
    "        return stats\n",
    "    \n",
    "    except KeyboardInterrupt:\n",
    "        return stats\n",
    "\n",
    "\n",
    "def test_loop(dataloader, model, criterion):\n",
    "    size = len(dataloader.dataset)\n",
    "    num_batches = len(dataloader)\n",
    "    test_loss, correct = 0, 0\n",
    "\n",
    "    with torch.no_grad():\n",
    "        for image, label in dataloader:\n",
    "            image, label = image.to(device), label.to(device)\n",
    "            pred = model(image)[\"logits\"]\n",
    "            test_loss += criterion(pred, label).item()\n",
    "            correct += (pred.argmax(1) == label).type(torch.float).sum().item()\n",
    "\n",
    "    test_loss /= num_batches\n",
    "    correct /= size\n",
    "    print(f\"Test Error: \\n Accuracy: {(100*correct):>0.1f}%, Avg loss: {test_loss:>8f} \\n\")\n",
    "    return (100 * correct), test_loss"
   ]
  },
  {
   "cell_type": "code",
   "execution_count": 47,
   "id": "054f08ae",
   "metadata": {},
   "outputs": [],
   "source": [
    "weights = [i[0] for i in (1 / (df.groupby(\"label\").count() / len(df) * 100)).values]\n",
    "weights.append(0)\n",
    "weights = torch.Tensor(np.array(weights)).to(device)"
   ]
  },
  {
   "cell_type": "code",
   "execution_count": 48,
   "id": "e8a08053",
   "metadata": {},
   "outputs": [],
   "source": [
    "# CrossEntropyLoss and SGD optimizer\n",
    "criterion = nn.CrossEntropyLoss()\n",
    "# optimizer = optim.SGD(model.classifier.parameters(), lr = 0.01, momentum = 0.9)\n",
    "optimizer = optim.Adam(model.classifier.parameters(), lr = 0.0002, betas=[0.9, 0.999])\n",
    "\n",
    "scheduler = LinearLR(optimizer)"
   ]
  },
  {
   "cell_type": "code",
   "execution_count": 49,
   "id": "91962c76",
   "metadata": {},
   "outputs": [],
   "source": [
    "img_dir = \"../data/train_set/train_set\"\n",
    "labels = \"../data/train_labels.csv\"\n",
    "\n",
    "# Resize image to match BEiT, convert to torch.float, normalize\n",
    "train_transforms = transforms.Compose([transforms.RandomRotation(30),\n",
    "                                       transforms.RandomResizedCrop(224),\n",
    "                                       ImageNetPolicy(),\n",
    "                                       transforms.RandomHorizontalFlip()])\n",
    "\n",
    "test_transforms = transforms.Compose([transforms.Resize(256),\n",
    "                                      transforms.CenterCrop(224)])\n",
    "\n",
    "feature_extractor = BeitFeatureExtractor.from_pretrained('microsoft/beit-base-patch16-224-pt22k-ft22k')"
   ]
  },
  {
   "cell_type": "code",
   "execution_count": 50,
   "id": "d40bfce3",
   "metadata": {},
   "outputs": [
    {
     "data": {
      "text/plain": [
       "(30000, 1016)"
      ]
     },
     "execution_count": 50,
     "metadata": {},
     "output_type": "execute_result"
    }
   ],
   "source": [
    "trainset = food_set(labels, img_dir, feature_extractor, transform = train_transforms, settype = \"train\")\n",
    "valset = food_set(labels, img_dir, feature_extractor, transform = test_transforms, settype = \"val\")\n",
    "\n",
    "# Create a DataLoader with the data\n",
    "trainloader = DataLoader(trainset, batch_size=8, shuffle=True, num_workers=0)\n",
    "valloader = DataLoader(valset, batch_size=8, shuffle=True, num_workers=0)\n",
    "\n",
    "len(trainset), len(valset)"
   ]
  },
  {
   "cell_type": "code",
   "execution_count": 51,
   "id": "be63c811",
   "metadata": {},
   "outputs": [
    {
     "data": {
      "text/plain": [
       "7653"
      ]
     },
     "execution_count": 51,
     "metadata": {},
     "output_type": "execute_result"
    }
   ],
   "source": [
    "testset = food_test(\"../data/test_set/test_set\", feature_extractor)\n",
    "testloader = DataLoader(testset, batch_size = 16)\n",
    "\n",
    "len(testset)"
   ]
  },
  {
   "cell_type": "code",
   "execution_count": 53,
   "id": "5327e63e",
   "metadata": {
    "scrolled": false
   },
   "outputs": [
    {
     "name": "stdout",
     "output_type": "stream",
     "text": [
      "loss: 1.422369  [    0/30000] epoch: 1\n",
      "loss: 1.430508  [ 1600/30000] epoch: 1\n",
      "loss: 0.545031  [ 3200/30000] epoch: 1\n",
      "loss: 1.640277  [ 4800/30000] epoch: 1\n",
      "loss: 0.394577  [ 6400/30000] epoch: 1\n",
      "loss: 0.846638  [ 8000/30000] epoch: 1\n",
      "loss: 0.950632  [ 9600/30000] epoch: 1\n",
      "loss: 0.598641  [11200/30000] epoch: 1\n",
      "loss: 0.743773  [12800/30000] epoch: 1\n",
      "loss: 1.377707  [14400/30000] epoch: 1\n",
      "loss: 1.454541  [16000/30000] epoch: 1\n",
      "loss: 2.065812  [17600/30000] epoch: 1\n",
      "loss: 1.586621  [19200/30000] epoch: 1\n",
      "loss: 2.284018  [20800/30000] epoch: 1\n",
      "loss: 1.890637  [22400/30000] epoch: 1\n",
      "loss: 1.900556  [24000/30000] epoch: 1\n",
      "loss: 2.041663  [25600/30000] epoch: 1\n",
      "loss: 1.843141  [27200/30000] epoch: 1\n",
      "loss: 1.116338  [28800/30000] epoch: 1\n",
      "Epoch: 1\n",
      "Test Error: \n",
      " Accuracy: 70.8%, Avg loss: 1.167492 \n",
      "\n"
     ]
    },
    {
     "data": {
      "image/png": "[encoded data removed]",
      "text/plain": [
       "<Figure size 432x288 with 2 Axes>"
      ]
     },
     "metadata": {},
     "output_type": "display_data"
    },
    {
     "name": "stdout",
     "output_type": "stream",
     "text": [
      "loss: 1.038394  [    0/30000] epoch: 2\n",
      "loss: 1.308511  [ 1600/30000] epoch: 2\n",
      "loss: 1.220911  [ 3200/30000] epoch: 2\n",
      "loss: 2.150705  [ 4800/30000] epoch: 2\n",
      "loss: 1.267151  [ 6400/30000] epoch: 2\n",
      "loss: 1.618135  [ 8000/30000] epoch: 2\n",
      "loss: 1.119319  [ 9600/30000] epoch: 2\n",
      "loss: 2.261527  [11200/30000] epoch: 2\n",
      "loss: 0.932593  [12800/30000] epoch: 2\n",
      "loss: 1.399997  [14400/30000] epoch: 2\n",
      "loss: 0.916867  [16000/30000] epoch: 2\n",
      "loss: 3.265604  [17600/30000] epoch: 2\n",
      "loss: 1.281155  [19200/30000] epoch: 2\n",
      "loss: 1.128705  [20800/30000] epoch: 2\n",
      "loss: 0.267743  [22400/30000] epoch: 2\n",
      "loss: 1.962068  [24000/30000] epoch: 2\n",
      "loss: 1.534317  [25600/30000] epoch: 2\n",
      "loss: 1.627284  [27200/30000] epoch: 2\n",
      "loss: 1.321042  [28800/30000] epoch: 2\n",
      "Epoch: 2\n",
      "Test Error: \n",
      " Accuracy: 71.1%, Avg loss: 1.147321 \n",
      "\n"
     ]
    },
    {
     "data": {
      "image/png": "[encoded data removed]",
      "text/plain": [
       "<Figure size 432x288 with 2 Axes>"
      ]
     },
     "metadata": {},
     "output_type": "display_data"
    },
    {
     "name": "stdout",
     "output_type": "stream",
     "text": [
      "loss: 1.464295  [    0/30000] epoch: 3\n",
      "loss: 0.770217  [ 1600/30000] epoch: 3\n",
      "loss: 0.633615  [ 3200/30000] epoch: 3\n",
      "loss: 1.100450  [ 4800/30000] epoch: 3\n",
      "loss: 1.722929  [ 6400/30000] epoch: 3\n",
      "loss: 1.574654  [ 8000/30000] epoch: 3\n",
      "loss: 0.991703  [ 9600/30000] epoch: 3\n",
      "loss: 1.564118  [11200/30000] epoch: 3\n",
      "loss: 0.878242  [12800/30000] epoch: 3\n",
      "loss: 2.512037  [14400/30000] epoch: 3\n",
      "loss: 2.411611  [16000/30000] epoch: 3\n",
      "loss: 0.918228  [17600/30000] epoch: 3\n",
      "loss: 1.776257  [19200/30000] epoch: 3\n",
      "loss: 1.042340  [20800/30000] epoch: 3\n",
      "loss: 0.730905  [22400/30000] epoch: 3\n",
      "loss: 0.827491  [24000/30000] epoch: 3\n",
      "loss: 1.254757  [25600/30000] epoch: 3\n",
      "loss: 1.186708  [27200/30000] epoch: 3\n",
      "loss: 0.893290  [28800/30000] epoch: 3\n",
      "Epoch: 3\n",
      "Test Error: \n",
      " Accuracy: 69.8%, Avg loss: 1.151924 \n",
      "\n"
     ]
    },
    {
     "data": {
      "image/png": "[encoded data removed]",
      "text/plain": [
       "<Figure size 432x288 with 2 Axes>"
      ]
     },
     "metadata": {},
     "output_type": "display_data"
    },
    {
     "name": "stdout",
     "output_type": "stream",
     "text": [
      "loss: 1.365929  [    0/30000] epoch: 4\n",
      "loss: 0.802642  [ 1600/30000] epoch: 4\n",
      "loss: 0.624218  [ 3200/30000] epoch: 4\n",
      "loss: 1.571996  [ 4800/30000] epoch: 4\n",
      "loss: 1.290019  [ 6400/30000] epoch: 4\n",
      "loss: 1.566912  [ 8000/30000] epoch: 4\n",
      "loss: 1.882662  [ 9600/30000] epoch: 4\n",
      "loss: 1.061138  [11200/30000] epoch: 4\n",
      "loss: 0.932627  [12800/30000] epoch: 4\n",
      "loss: 1.864219  [14400/30000] epoch: 4\n",
      "loss: 1.796896  [16000/30000] epoch: 4\n",
      "loss: 0.933903  [17600/30000] epoch: 4\n",
      "loss: 1.000579  [19200/30000] epoch: 4\n"
     ]
    }
   ],
   "source": [
    "stats = train_loop(trainloader, valloader, model, criterion, optimizer)"
   ]
  },
  {
   "cell_type": "code",
   "execution_count": 15,
   "id": "f5221f9c",
   "metadata": {},
   "outputs": [],
   "source": [
    "pd.DataFrame(stats).to_csv(\"training_beit_data_aug_big_29k_30_epochs_imgnetpol.csv\")"
   ]
  },
  {
   "cell_type": "code",
   "execution_count": 16,
   "id": "4774c5ac",
   "metadata": {},
   "outputs": [
    {
     "data": {
      "text/plain": [
       "<All keys matched successfully>"
      ]
     },
     "execution_count": 16,
     "metadata": {},
     "output_type": "execute_result"
    }
   ],
   "source": [
    "PATH = f'./beit_2_fc_29k_30_epochs_imgnetpol.pth'\n",
    "model.load_state_dict(torch.load(PATH))"
   ]
  },
  {
   "cell_type": "code",
   "execution_count": 17,
   "id": "432eae0e",
   "metadata": {},
   "outputs": [
    {
     "name": "stderr",
     "output_type": "stream",
     "text": [
      "100%|████████████████████████████████████████| 479/479 [02:43<00:00,  2.94it/s]\n"
     ]
    }
   ],
   "source": [
    "test_results = {\"img_name\" : [], \"label\": []}\n",
    "\n",
    "for file_name, image in tqdm(testloader):\n",
    "    X = image.to(device)\n",
    "    pred = model(X)[\"logits\"].argmax(1)\n",
    "    \n",
    "    test_results[\"img_name\"] += file_name\n",
    "    test_results[\"label\"] += [int(i) for i in pred.cpu()]"
   ]
  },
  {
   "cell_type": "code",
   "execution_count": 18,
   "id": "959f9a17",
   "metadata": {},
   "outputs": [
    {
     "data": {
      "text/html": [
       "<div>\n",
       "<style scoped>\n",
       "    .dataframe tbody tr th:only-of-type {\n",
       "        vertical-align: middle;\n",
       "    }\n",
       "\n",
       "    .dataframe tbody tr th {\n",
       "        vertical-align: top;\n",
       "    }\n",
       "\n",
       "    .dataframe thead th {\n",
       "        text-align: right;\n",
       "    }\n",
       "</style>\n",
       "<table border=\"1\" class=\"dataframe\">\n",
       "  <thead>\n",
       "    <tr style=\"text-align: right;\">\n",
       "      <th></th>\n",
       "      <th>img_name</th>\n",
       "      <th>label</th>\n",
       "    </tr>\n",
       "  </thead>\n",
       "  <tbody>\n",
       "    <tr>\n",
       "      <th>0</th>\n",
       "      <td>test_1.jpg</td>\n",
       "      <td>80</td>\n",
       "    </tr>\n",
       "    <tr>\n",
       "      <th>1</th>\n",
       "      <td>test_10.jpg</td>\n",
       "      <td>45</td>\n",
       "    </tr>\n",
       "    <tr>\n",
       "      <th>2</th>\n",
       "      <td>test_100.jpg</td>\n",
       "      <td>25</td>\n",
       "    </tr>\n",
       "    <tr>\n",
       "      <th>3</th>\n",
       "      <td>test_1000.jpg</td>\n",
       "      <td>29</td>\n",
       "    </tr>\n",
       "    <tr>\n",
       "      <th>4</th>\n",
       "      <td>test_1001.jpg</td>\n",
       "      <td>37</td>\n",
       "    </tr>\n",
       "  </tbody>\n",
       "</table>\n",
       "</div>"
      ],
      "text/plain": [
       "        img_name  label\n",
       "0     test_1.jpg     80\n",
       "1    test_10.jpg     45\n",
       "2   test_100.jpg     25\n",
       "3  test_1000.jpg     29\n",
       "4  test_1001.jpg     37"
      ]
     },
     "execution_count": 18,
     "metadata": {},
     "output_type": "execute_result"
    }
   ],
   "source": [
    "test_df = pd.DataFrame(test_results)\n",
    "\n",
    "test_df.head()"
   ]
  },
  {
   "cell_type": "code",
   "execution_count": 19,
   "id": "ac83a8a0",
   "metadata": {},
   "outputs": [],
   "source": [
    "test_df.to_csv(\"./submissions/submission_beit_fc2_30_epochs_imgnetpol.csv\", index=False)"
   ]
  },
  {
   "cell_type": "code",
   "execution_count": null,
   "id": "d2d9aeb1",
   "metadata": {},
   "outputs": [],
   "source": []
  }
 ],
 "metadata": {
  "kernelspec": {
   "display_name": "Python 3",
   "language": "python",
   "name": "python3"
  },
  "language_info": {
   "codemirror_mode": {
    "name": "ipython",
    "version": 3
   },
   "file_extension": ".py",
   "mimetype": "text/x-python",
   "name": "python",
   "nbconvert_exporter": "python",
   "pygments_lexer": "ipython3",
   "version": "3.6.13"
  }
 },
 "nbformat": 4,
 "nbformat_minor": 5
}
