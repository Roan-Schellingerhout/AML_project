{
 "cells": [
  {
   "cell_type": "code",
   "execution_count": 54,
   "id": "e2dda76e",
   "metadata": {},
   "outputs": [],
   "source": [
    "import torch\n",
    "import torchvision\n",
    "import torchvision.transforms as transforms\n",
    "import torchvision.models as models\n",
    "\n",
    "import torch.nn as nn\n",
    "import torch.nn.functional as F\n",
    "import torch.optim as optim\n",
    "\n",
    "from torch.utils.data import DataLoader\n",
    "from torch.utils.data import Dataset\n",
    "from torchvision.io import read_image\n",
    "from tqdm import tqdm\n",
    "\n",
    "import pandas as pd\n",
    "import os"
   ]
  },
  {
   "cell_type": "code",
   "execution_count": 55,
   "id": "e5757cda",
   "metadata": {},
   "outputs": [
    {
     "data": {
      "text/plain": [
       "'cpu'"
      ]
     },
     "execution_count": 55,
     "metadata": {},
     "output_type": "execute_result"
    }
   ],
   "source": [
    "device = (\"cuda:0\" if torch.cuda.is_available() else \"cpu\")\n",
    "\n",
    "device"
   ]
  },
  {
   "cell_type": "code",
   "execution_count": null,
   "id": "c9c4de98",
   "metadata": {},
   "outputs": [],
   "source": [
    "df = pd.read_csv(\"../data/train_labels.csv\", names=['img_name', 'label'], header=1)\n",
    "\n",
    "df = df.append([df[df[\"label\"] == 20]] * 15, ignore_index = True)\n",
    "df = df.sample(frac=1, random_state = 42).reset_index(drop=True)\n",
    "\n",
    "df.shape"
   ]
  },
  {
   "cell_type": "code",
   "execution_count": 56,
   "id": "48442ae0",
   "metadata": {},
   "outputs": [],
   "source": [
    "class food_set(Dataset):\n",
    "\n",
    "    def __init__(self, df, labels_file, img_dir, extractor, transform = None, settype = \"train\"):\n",
    "        self.df = df\n",
    "        if settype == \"train\":\n",
    "            self.img_labels = df[:30000]\n",
    "        elif settype == \"val\":\n",
    "            self.img_labels = df[30000:]\n",
    "        self.img_dir = img_dir\n",
    "        self.feature_extractor = extractor\n",
    "        self.transform = transform\n",
    "        \n",
    "    def __len__(self):\n",
    "        return len(self.img_labels)\n",
    "\n",
    "    def __getitem__(self, idx):\n",
    "        img_path = os.path.join(self.img_dir, self.img_labels.iloc[idx, 0])\n",
    "        image = Image.open(img_path)\n",
    "        \n",
    "        if self.transform:\n",
    "            image = self.transform(image)\n",
    "                \n",
    "        features = self.feature_extractor(images=image)[\"pixel_values\"][0]      \n",
    "        \n",
    "        label = self.img_labels.iloc[idx, 1]       \n",
    "            \n",
    "        return features, label"
   ]
  },
  {
   "cell_type": "code",
   "execution_count": 58,
   "id": "49dee45f",
   "metadata": {},
   "outputs": [],
   "source": [
    "class food_test(Dataset):\n",
    "\n",
    "    def __init__(self, img_dir, transform=None):\n",
    "        self.img_dir = img_dir\n",
    "        self.transform = transform\n",
    "\n",
    "    def __len__(self):\n",
    "        return len(os.listdir(self.img_dir))\n",
    "\n",
    "    def __getitem__(self, idx):\n",
    "        file_name = os.listdir(self.img_dir)[idx]\n",
    "        img_path = os.path.join(self.img_dir, file_name)\n",
    "        image = read_image(img_path)\n",
    "       \n",
    "        if self.transform:\n",
    "            image = self.transform(image)\n",
    "        \n",
    "        return file_name, image"
   ]
  },
  {
   "cell_type": "code",
   "execution_count": 104,
   "id": "01df4f06",
   "metadata": {},
   "outputs": [
    {
     "data": {
      "text/plain": [
       "(2500, 562)"
      ]
     },
     "execution_count": 104,
     "metadata": {},
     "output_type": "execute_result"
    }
   ],
   "source": [
    "import torch.utils.data as data_utils\n",
    "\n",
    "img_dir = \"../data/train_set/train_set\"\n",
    "labels = \"../data/train_labels.csv\"\n",
    "\n",
    "transform = transforms.Compose(\n",
    "                    [transforms.Resize((256,256)),\n",
    "                     transforms.ConvertImageDtype(torch.float),\n",
    "                     transforms.Normalize(mean=[0.485, 0.456, 0.406],\n",
    "                                          std=[0.229, 0.224, 0.225])])\n",
    "\n",
    "trainset = food_set(df, labels, img_dir, feature_extractor, transform = transfors, settype = \"train\")\n",
    "valset = food_set(df, labels, img_dir, feature_extractor, settype = \"val\")\n",
    "\n",
    "# Create a DataLoader with the data\n",
    "trainloader = DataLoader(trainset, batch_size=8, shuffle=True, num_workers=0)\n",
    "valloader = DataLoader(valset, batch_size=8, shuffle=True, num_workers=0)\n",
    "\n",
    "len(trainset), len(valset)"
   ]
  },
  {
   "cell_type": "code",
   "execution_count": 60,
   "id": "860e04cc",
   "metadata": {},
   "outputs": [
    {
     "data": {
      "text/plain": [
       "7654"
      ]
     },
     "execution_count": 60,
     "metadata": {},
     "output_type": "execute_result"
    }
   ],
   "source": [
    "test_set = food_test(\"../data/test_set/test_set\", transform = transform)\n",
    "testloader = DataLoader(test_set, batch_size = 32, shuffle=True, num_workers=0)\n",
    "\n",
    "len(test_set)"
   ]
  },
  {
   "cell_type": "code",
   "execution_count": null,
   "id": "d685df3c",
   "metadata": {},
   "outputs": [],
   "source": [
    "torch.cuda.get_device_name(0)"
   ]
  },
  {
   "cell_type": "code",
   "execution_count": 63,
   "id": "2e44af5e",
   "metadata": {
    "scrolled": true
   },
   "outputs": [
    {
     "data": {
      "text/plain": [
       "ResNet(\n",
       "  (conv1): Conv2d(3, 64, kernel_size=(7, 7), stride=(2, 2), padding=(3, 3), bias=False)\n",
       "  (bn1): BatchNorm2d(64, eps=1e-05, momentum=0.1, affine=True, track_running_stats=True)\n",
       "  (relu): ReLU(inplace=True)\n",
       "  (maxpool): MaxPool2d(kernel_size=3, stride=2, padding=1, dilation=1, ceil_mode=False)\n",
       "  (layer1): Sequential(\n",
       "    (0): BasicBlock(\n",
       "      (conv1): Conv2d(64, 64, kernel_size=(3, 3), stride=(1, 1), padding=(1, 1), bias=False)\n",
       "      (bn1): BatchNorm2d(64, eps=1e-05, momentum=0.1, affine=True, track_running_stats=True)\n",
       "      (relu): ReLU(inplace=True)\n",
       "      (conv2): Conv2d(64, 64, kernel_size=(3, 3), stride=(1, 1), padding=(1, 1), bias=False)\n",
       "      (bn2): BatchNorm2d(64, eps=1e-05, momentum=0.1, affine=True, track_running_stats=True)\n",
       "    )\n",
       "    (1): BasicBlock(\n",
       "      (conv1): Conv2d(64, 64, kernel_size=(3, 3), stride=(1, 1), padding=(1, 1), bias=False)\n",
       "      (bn1): BatchNorm2d(64, eps=1e-05, momentum=0.1, affine=True, track_running_stats=True)\n",
       "      (relu): ReLU(inplace=True)\n",
       "      (conv2): Conv2d(64, 64, kernel_size=(3, 3), stride=(1, 1), padding=(1, 1), bias=False)\n",
       "      (bn2): BatchNorm2d(64, eps=1e-05, momentum=0.1, affine=True, track_running_stats=True)\n",
       "    )\n",
       "  )\n",
       "  (layer2): Sequential(\n",
       "    (0): BasicBlock(\n",
       "      (conv1): Conv2d(64, 128, kernel_size=(3, 3), stride=(2, 2), padding=(1, 1), bias=False)\n",
       "      (bn1): BatchNorm2d(128, eps=1e-05, momentum=0.1, affine=True, track_running_stats=True)\n",
       "      (relu): ReLU(inplace=True)\n",
       "      (conv2): Conv2d(128, 128, kernel_size=(3, 3), stride=(1, 1), padding=(1, 1), bias=False)\n",
       "      (bn2): BatchNorm2d(128, eps=1e-05, momentum=0.1, affine=True, track_running_stats=True)\n",
       "      (downsample): Sequential(\n",
       "        (0): Conv2d(64, 128, kernel_size=(1, 1), stride=(2, 2), bias=False)\n",
       "        (1): BatchNorm2d(128, eps=1e-05, momentum=0.1, affine=True, track_running_stats=True)\n",
       "      )\n",
       "    )\n",
       "    (1): BasicBlock(\n",
       "      (conv1): Conv2d(128, 128, kernel_size=(3, 3), stride=(1, 1), padding=(1, 1), bias=False)\n",
       "      (bn1): BatchNorm2d(128, eps=1e-05, momentum=0.1, affine=True, track_running_stats=True)\n",
       "      (relu): ReLU(inplace=True)\n",
       "      (conv2): Conv2d(128, 128, kernel_size=(3, 3), stride=(1, 1), padding=(1, 1), bias=False)\n",
       "      (bn2): BatchNorm2d(128, eps=1e-05, momentum=0.1, affine=True, track_running_stats=True)\n",
       "    )\n",
       "  )\n",
       "  (layer3): Sequential(\n",
       "    (0): BasicBlock(\n",
       "      (conv1): Conv2d(128, 256, kernel_size=(3, 3), stride=(2, 2), padding=(1, 1), bias=False)\n",
       "      (bn1): BatchNorm2d(256, eps=1e-05, momentum=0.1, affine=True, track_running_stats=True)\n",
       "      (relu): ReLU(inplace=True)\n",
       "      (conv2): Conv2d(256, 256, kernel_size=(3, 3), stride=(1, 1), padding=(1, 1), bias=False)\n",
       "      (bn2): BatchNorm2d(256, eps=1e-05, momentum=0.1, affine=True, track_running_stats=True)\n",
       "      (downsample): Sequential(\n",
       "        (0): Conv2d(128, 256, kernel_size=(1, 1), stride=(2, 2), bias=False)\n",
       "        (1): BatchNorm2d(256, eps=1e-05, momentum=0.1, affine=True, track_running_stats=True)\n",
       "      )\n",
       "    )\n",
       "    (1): BasicBlock(\n",
       "      (conv1): Conv2d(256, 256, kernel_size=(3, 3), stride=(1, 1), padding=(1, 1), bias=False)\n",
       "      (bn1): BatchNorm2d(256, eps=1e-05, momentum=0.1, affine=True, track_running_stats=True)\n",
       "      (relu): ReLU(inplace=True)\n",
       "      (conv2): Conv2d(256, 256, kernel_size=(3, 3), stride=(1, 1), padding=(1, 1), bias=False)\n",
       "      (bn2): BatchNorm2d(256, eps=1e-05, momentum=0.1, affine=True, track_running_stats=True)\n",
       "    )\n",
       "  )\n",
       "  (layer4): Sequential(\n",
       "    (0): BasicBlock(\n",
       "      (conv1): Conv2d(256, 512, kernel_size=(3, 3), stride=(2, 2), padding=(1, 1), bias=False)\n",
       "      (bn1): BatchNorm2d(512, eps=1e-05, momentum=0.1, affine=True, track_running_stats=True)\n",
       "      (relu): ReLU(inplace=True)\n",
       "      (conv2): Conv2d(512, 512, kernel_size=(3, 3), stride=(1, 1), padding=(1, 1), bias=False)\n",
       "      (bn2): BatchNorm2d(512, eps=1e-05, momentum=0.1, affine=True, track_running_stats=True)\n",
       "      (downsample): Sequential(\n",
       "        (0): Conv2d(256, 512, kernel_size=(1, 1), stride=(2, 2), bias=False)\n",
       "        (1): BatchNorm2d(512, eps=1e-05, momentum=0.1, affine=True, track_running_stats=True)\n",
       "      )\n",
       "    )\n",
       "    (1): BasicBlock(\n",
       "      (conv1): Conv2d(512, 512, kernel_size=(3, 3), stride=(1, 1), padding=(1, 1), bias=False)\n",
       "      (bn1): BatchNorm2d(512, eps=1e-05, momentum=0.1, affine=True, track_running_stats=True)\n",
       "      (relu): ReLU(inplace=True)\n",
       "      (conv2): Conv2d(512, 512, kernel_size=(3, 3), stride=(1, 1), padding=(1, 1), bias=False)\n",
       "      (bn2): BatchNorm2d(512, eps=1e-05, momentum=0.1, affine=True, track_running_stats=True)\n",
       "    )\n",
       "  )\n",
       "  (avgpool): AdaptiveAvgPool2d(output_size=(1, 1))\n",
       "  (fc): Linear(in_features=512, out_features=1000, bias=True)\n",
       ")"
      ]
     },
     "execution_count": 63,
     "metadata": {},
     "output_type": "execute_result"
    }
   ],
   "source": [
    "resnet = models.resnet18(pretrained=True)\n",
    "resnet.to(device)"
   ]
  },
  {
   "cell_type": "code",
   "execution_count": 79,
   "id": "4b6c448c",
   "metadata": {},
   "outputs": [],
   "source": [
    "from ray import tune\n",
    "from ray.tune.schedulers import ASHAScheduler\n",
    "\n",
    "criterion = nn.CrossEntropyLoss()\n",
    "search_space = {\n",
    "    \"lr\": tune.sample_from(lambda spec: 10**(-10 * np.random.rand())),\n",
    "    \"momentum\": tune.uniform(0.1, 0.9)\n",
    "}"
   ]
  },
  {
   "cell_type": "code",
   "execution_count": 80,
   "id": "312a3201",
   "metadata": {},
   "outputs": [],
   "source": [
    "def train_loop(config):\n",
    "    \n",
    "    dataloader = DataLoader(train_set, batch_size=32, shuffle=True, num_workers=0)\n",
    "    criterion = nn.CrossEntropyLoss()\n",
    "    size = len(dataloader.dataset)\n",
    "    resnet.train()\n",
    "    optimizer = optim.SGD(resnet.parameters(), lr=config[\"lr\"], momentum=config[\"momentum\"])\n",
    "    \n",
    "    for epoch in range(15):\n",
    "        for batch, (image, label) in enumerate(dataloader):\n",
    "            # Compute prediction and loss\n",
    "            image, label = image.to(device), label.to(device)\n",
    "            pred = resnet(image)\n",
    "            loss = criterion(pred, label)\n",
    "\n",
    "            # Backpropagation\n",
    "            optimizer.zero_grad()\n",
    "            loss.backward()\n",
    "            optimizer.step()\n",
    "\n",
    "            if batch % 200 == 0:\n",
    "                loss, current = loss.item(), batch * len(image)\n",
    "                print(f\"loss: {loss:>7f}  [{current:>5d}/{size:>5d}] epoch: {epoch}\")\n",
    "                \n",
    "        print(f\"Epoch: {epoch}\")\n",
    "        test_loop(valloader, resnet)\n",
    "\n",
    "\n",
    "def test_loop(dataloader, model):\n",
    "    \n",
    "    criterion = nn.CrossEntropyLoss()\n",
    "    size = len(dataloader.dataset)\n",
    "    num_batches = len(dataloader)\n",
    "    test_loss, correct = 0, 0\n",
    "\n",
    "    with torch.no_grad():\n",
    "        for image, label in dataloader:\n",
    "            image, label = image.to(device), label.to(device)\n",
    "            pred = model(image)\n",
    "            test_loss += criterion(pred, label).item()\n",
    "            correct += (pred.argmax(1) == label).type(torch.float).sum().item()\n",
    "\n",
    "    test_loss /= num_batches\n",
    "    correct /= size\n",
    "    \n",
    "    tune.report(mean_accuracy=correct)\n",
    "    \n",
    "    print(f\"Test Error: \\n Accuracy: {(100*correct):>0.1f}%, Avg loss: {test_loss:>8f} \\n\")"
   ]
  },
  {
   "cell_type": "code",
   "execution_count": 89,
   "id": "1d08c106",
   "metadata": {},
   "outputs": [],
   "source": [
    "from ray.tune import JupyterNotebookReporter\n",
    "reporter = JupyterNotebookReporter(overwrite=True, max_report_frequency = 60)"
   ]
  },
  {
   "cell_type": "code",
   "execution_count": 90,
   "id": "7a583f61",
   "metadata": {
    "scrolled": false
   },
   "outputs": [
    {
     "data": {
      "text/html": [
       "== Status ==<br>Current time: 2021-12-10 14:37:14 (running for 00:36:23.60)<br>Memory usage on this node: 5.3/8.0 GiB<br>Using AsyncHyperBand: num_stopped=2\n",
       "Bracket: Iter 64.000: None | Iter 16.000: None | Iter 4.000: None | Iter 1.000: 0.2677935943060498<br>Resources requested: 1.0/4 CPUs, 0/0 GPUs, 0.0/2.32 GiB heap, 0.0/1.16 GiB objects<br>Result logdir: /Users/Cas/ray_results/train_loop_2021-12-10_14-00-51<br>Number of trials: 3/3 (1 RUNNING, 2 TERMINATED)<br><table>\n",
       "<thead>\n",
       "<tr><th>Trial name            </th><th>status    </th><th>loc            </th><th style=\"text-align: right;\">         lr</th><th style=\"text-align: right;\">  momentum</th><th style=\"text-align: right;\">     acc</th><th style=\"text-align: right;\">  iter</th><th style=\"text-align: right;\">  total time (s)</th></tr>\n",
       "</thead>\n",
       "<tbody>\n",
       "<tr><td>train_loop_33bf8_00000</td><td>RUNNING   </td><td>127.0.0.1:77232</td><td style=\"text-align: right;\">1.01845e-09</td><td style=\"text-align: right;\">  0.291646</td><td style=\"text-align: right;\">0.256228</td><td style=\"text-align: right;\">     2</td><td style=\"text-align: right;\">         2149.4 </td></tr>\n",
       "<tr><td>train_loop_33bf8_00001</td><td>TERMINATED</td><td>127.0.0.1:77231</td><td style=\"text-align: right;\">1.2407e-05 </td><td style=\"text-align: right;\">  0.853832</td><td style=\"text-align: right;\">0.252669</td><td style=\"text-align: right;\">     1</td><td style=\"text-align: right;\">         1306.31</td></tr>\n",
       "<tr><td>train_loop_33bf8_00002</td><td>TERMINATED</td><td>127.0.0.1:77135</td><td style=\"text-align: right;\">0.000517434</td><td style=\"text-align: right;\">  0.713206</td><td style=\"text-align: right;\">0.263345</td><td style=\"text-align: right;\">     1</td><td style=\"text-align: right;\">         1308.25</td></tr>\n",
       "</tbody>\n",
       "</table><br><br>"
      ],
      "text/plain": [
       "<IPython.core.display.HTML object>"
      ]
     },
     "metadata": {},
     "output_type": "display_data"
    },
    {
     "name": "stderr",
     "output_type": "stream",
     "text": [
      "\u001b[2m\u001b[36m(ImplicitFunc pid=77232)\u001b[0m 2021-12-10 14:37:15,073\tERROR worker.py:431 -- SystemExit was raised from the worker\n",
      "\u001b[2m\u001b[36m(ImplicitFunc pid=77232)\u001b[0m Traceback (most recent call last):\n",
      "\u001b[2m\u001b[36m(ImplicitFunc pid=77232)\u001b[0m   File \"python/ray/_raylet.pyx\", line 759, in ray._raylet.task_execution_handler\n",
      "\u001b[2m\u001b[36m(ImplicitFunc pid=77232)\u001b[0m   File \"python/ray/_raylet.pyx\", line 580, in ray._raylet.execute_task\n",
      "\u001b[2m\u001b[36m(ImplicitFunc pid=77232)\u001b[0m   File \"python/ray/_raylet.pyx\", line 618, in ray._raylet.execute_task\n",
      "\u001b[2m\u001b[36m(ImplicitFunc pid=77232)\u001b[0m   File \"python/ray/_raylet.pyx\", line 625, in ray._raylet.execute_task\n",
      "\u001b[2m\u001b[36m(ImplicitFunc pid=77232)\u001b[0m   File \"python/ray/_raylet.pyx\", line 629, in ray._raylet.execute_task\n",
      "\u001b[2m\u001b[36m(ImplicitFunc pid=77232)\u001b[0m   File \"python/ray/_raylet.pyx\", line 578, in ray._raylet.execute_task.function_executor\n",
      "\u001b[2m\u001b[36m(ImplicitFunc pid=77232)\u001b[0m   File \"/Library/Frameworks/Python.framework/Versions/3.6/lib/python3.6/site-packages/ray/_private/function_manager.py\", line 609, in actor_method_executor\n",
      "\u001b[2m\u001b[36m(ImplicitFunc pid=77232)\u001b[0m     return method(__ray_actor, *args, **kwargs)\n",
      "\u001b[2m\u001b[36m(ImplicitFunc pid=77232)\u001b[0m   File \"/Library/Frameworks/Python.framework/Versions/3.6/lib/python3.6/site-packages/ray/util/tracing/tracing_helper.py\", line 451, in _resume_span\n",
      "\u001b[2m\u001b[36m(ImplicitFunc pid=77232)\u001b[0m     return method(self, *_args, **_kwargs)\n",
      "\u001b[2m\u001b[36m(ImplicitFunc pid=77232)\u001b[0m   File \"/Library/Frameworks/Python.framework/Versions/3.6/lib/python3.6/site-packages/ray/tune/trainable.py\", line 255, in train_buffered\n",
      "\u001b[2m\u001b[36m(ImplicitFunc pid=77232)\u001b[0m     result = self.train()\n",
      "\u001b[2m\u001b[36m(ImplicitFunc pid=77232)\u001b[0m   File \"/Library/Frameworks/Python.framework/Versions/3.6/lib/python3.6/site-packages/ray/util/tracing/tracing_helper.py\", line 451, in _resume_span\n",
      "\u001b[2m\u001b[36m(ImplicitFunc pid=77232)\u001b[0m     return method(self, *_args, **_kwargs)\n",
      "\u001b[2m\u001b[36m(ImplicitFunc pid=77232)\u001b[0m   File \"/Library/Frameworks/Python.framework/Versions/3.6/lib/python3.6/site-packages/ray/tune/trainable.py\", line 314, in train\n",
      "\u001b[2m\u001b[36m(ImplicitFunc pid=77232)\u001b[0m     result = self.step()\n",
      "\u001b[2m\u001b[36m(ImplicitFunc pid=77232)\u001b[0m   File \"/Library/Frameworks/Python.framework/Versions/3.6/lib/python3.6/site-packages/ray/util/tracing/tracing_helper.py\", line 451, in _resume_span\n",
      "\u001b[2m\u001b[36m(ImplicitFunc pid=77232)\u001b[0m     return method(self, *_args, **_kwargs)\n",
      "\u001b[2m\u001b[36m(ImplicitFunc pid=77232)\u001b[0m   File \"/Library/Frameworks/Python.framework/Versions/3.6/lib/python3.6/site-packages/ray/tune/function_runner.py\", line 364, in step\n",
      "\u001b[2m\u001b[36m(ImplicitFunc pid=77232)\u001b[0m     block=True, timeout=RESULT_FETCH_TIMEOUT)\n",
      "\u001b[2m\u001b[36m(ImplicitFunc pid=77232)\u001b[0m   File \"/Library/Frameworks/Python.framework/Versions/3.6/lib/python3.6/queue.py\", line 173, in get\n",
      "\u001b[2m\u001b[36m(ImplicitFunc pid=77232)\u001b[0m     self.not_empty.wait(remaining)\n",
      "\u001b[2m\u001b[36m(ImplicitFunc pid=77232)\u001b[0m   File \"/Library/Frameworks/Python.framework/Versions/3.6/lib/python3.6/threading.py\", line 299, in wait\n",
      "\u001b[2m\u001b[36m(ImplicitFunc pid=77232)\u001b[0m     gotit = waiter.acquire(True, timeout)\n",
      "\u001b[2m\u001b[36m(ImplicitFunc pid=77232)\u001b[0m   File \"/Library/Frameworks/Python.framework/Versions/3.6/lib/python3.6/site-packages/ray/worker.py\", line 428, in sigterm_handler\n",
      "\u001b[2m\u001b[36m(ImplicitFunc pid=77232)\u001b[0m     sys.exit(1)\n",
      "\u001b[2m\u001b[36m(ImplicitFunc pid=77232)\u001b[0m SystemExit: 1\n",
      "\u001b[2m\u001b[36m(ImplicitFunc pid=77232)\u001b[0m [2021-12-10 14:37:15,086 C 77232 6174741] core_worker.cc:835:  Check failed: _s.ok() Bad status: IOError: Broken pipe\n",
      "\u001b[2m\u001b[36m(ImplicitFunc pid=77232)\u001b[0m *** StackTrace Information ***\n",
      "\u001b[2m\u001b[36m(ImplicitFunc pid=77232)\u001b[0m     ray::GetCallTrace()\n",
      "\u001b[2m\u001b[36m(ImplicitFunc pid=77232)\u001b[0m     ray::SpdLogMessage::Flush()\n",
      "\u001b[2m\u001b[36m(ImplicitFunc pid=77232)\u001b[0m     ray::SpdLogMessage::~SpdLogMessage()\n",
      "\u001b[2m\u001b[36m(ImplicitFunc pid=77232)\u001b[0m     ray::RayLog::~RayLog()\n",
      "\u001b[2m\u001b[36m(ImplicitFunc pid=77232)\u001b[0m     ray::core::CoreWorker::Exit()\n",
      "\u001b[2m\u001b[36m(ImplicitFunc pid=77232)\u001b[0m     ray::core::CoreWorker::ExecuteTask()\n",
      "\u001b[2m\u001b[36m(ImplicitFunc pid=77232)\u001b[0m     std::__1::__function::__func<>::operator()()\n",
      "\u001b[2m\u001b[36m(ImplicitFunc pid=77232)\u001b[0m     std::__1::__function::__func<>::operator()()\n",
      "\u001b[2m\u001b[36m(ImplicitFunc pid=77232)\u001b[0m     ray::core::InboundRequest::Accept()\n",
      "\u001b[2m\u001b[36m(ImplicitFunc pid=77232)\u001b[0m     ray::core::ActorSchedulingQueue::ScheduleRequests()\n",
      "\u001b[2m\u001b[36m(ImplicitFunc pid=77232)\u001b[0m     ray::core::ActorSchedulingQueue::Add()\n",
      "\u001b[2m\u001b[36m(ImplicitFunc pid=77232)\u001b[0m     ray::core::CoreWorkerDirectTaskReceiver::HandleTask()\n",
      "\u001b[2m\u001b[36m(ImplicitFunc pid=77232)\u001b[0m     std::__1::__function::__func<>::operator()()\n",
      "\u001b[2m\u001b[36m(ImplicitFunc pid=77232)\u001b[0m     boost::asio::detail::completion_handler<>::do_complete()\n",
      "\u001b[2m\u001b[36m(ImplicitFunc pid=77232)\u001b[0m     boost::asio::detail::scheduler::do_run_one()\n",
      "\u001b[2m\u001b[36m(ImplicitFunc pid=77232)\u001b[0m     boost::asio::detail::scheduler::run()\n",
      "\u001b[2m\u001b[36m(ImplicitFunc pid=77232)\u001b[0m     boost::asio::io_context::run()\n",
      "\u001b[2m\u001b[36m(ImplicitFunc pid=77232)\u001b[0m     ray::core::CoreWorkerProcess::RunTaskExecutionLoop()\n",
      "\u001b[2m\u001b[36m(ImplicitFunc pid=77232)\u001b[0m     __pyx_pw_3ray_7_raylet_10CoreWorker_9run_task_loop()\n",
      "\u001b[2m\u001b[36m(ImplicitFunc pid=77232)\u001b[0m     _PyCFunction_FastCallDict\n",
      "\u001b[2m\u001b[36m(ImplicitFunc pid=77232)\u001b[0m     call_function\n",
      "\u001b[2m\u001b[36m(ImplicitFunc pid=77232)\u001b[0m     _PyEval_EvalFrameDefault\n",
      "\u001b[2m\u001b[36m(ImplicitFunc pid=77232)\u001b[0m     fast_function\n",
      "\u001b[2m\u001b[36m(ImplicitFunc pid=77232)\u001b[0m     call_function\n",
      "\u001b[2m\u001b[36m(ImplicitFunc pid=77232)\u001b[0m     _PyEval_EvalFrameDefault\n",
      "\u001b[2m\u001b[36m(ImplicitFunc pid=77232)\u001b[0m     _PyEval_EvalCodeWithName\n",
      "\u001b[2m\u001b[36m(ImplicitFunc pid=77232)\u001b[0m     PyEval_EvalCode\n",
      "\u001b[2m\u001b[36m(ImplicitFunc pid=77232)\u001b[0m     PyRun_FileExFlags\n",
      "\u001b[2m\u001b[36m(ImplicitFunc pid=77232)\u001b[0m     PyRun_SimpleFileExFlags\n",
      "\u001b[2m\u001b[36m(ImplicitFunc pid=77232)\u001b[0m     Py_Main\n",
      "\u001b[2m\u001b[36m(ImplicitFunc pid=77232)\u001b[0m     Python\n",
      "\u001b[2m\u001b[36m(ImplicitFunc pid=77232)\u001b[0m     Python\n",
      "\u001b[2m\u001b[36m(ImplicitFunc pid=77232)\u001b[0m \n",
      "2021-12-10 14:37:15,250\tERROR tune.py:622 -- Trials did not complete: [train_loop_33bf8_00000]\n",
      "2021-12-10 14:37:15,253\tINFO tune.py:626 -- Total run time: 2185.11 seconds (2183.60 seconds for the tuning loop).\n",
      "2021-12-10 14:37:15,256\tWARNING tune.py:631 -- Experiment has been interrupted, but the most recent state was saved. You can continue running this experiment by passing `resume=True` to `tune.run()`\n"
     ]
    }
   ],
   "source": [
    "#train_loop(trainloader, resnet, criterion, optimizer)\n",
    "analysis = tune.run(\n",
    "    train_loop,\n",
    "    num_samples=10,\n",
    "    scheduler=ASHAScheduler(metric=\"mean_accuracy\", mode=\"max\"),\n",
    "    config=search_space,\n",
    "    progress_reporter=reporter)"
   ]
  },
  {
   "cell_type": "code",
   "execution_count": 103,
   "id": "f8abf036",
   "metadata": {},
   "outputs": [
    {
     "data": {
      "image/png": "[encoded data removed]",
      "text/plain": [
       "<Figure size 432x288 with 1 Axes>"
      ]
     },
     "metadata": {},
     "output_type": "display_data"
    }
   ],
   "source": [
    "dfs = analysis.trial_dataframes\n",
    "ax = None  # This plots everything on the same plot\n",
    "for dataframe in dfs.values():\n",
    "    ax = dataframe.mean_accuracy.plot(ax=ax, legend=False)\n",
    "    ax.set_xlabel('Epoch')\n",
    "    ax.set_ylabel('Mean Accuracy');\n",
    "plt.show()"
   ]
  },
  {
   "cell_type": "code",
   "execution_count": 69,
   "id": "5c9fb5d3",
   "metadata": {},
   "outputs": [],
   "source": [
    "PATH = './transfered_resnet.pth'\n",
    "torch.save(resnet.state_dict(), PATH)"
   ]
  },
  {
   "cell_type": "code",
   "execution_count": 71,
   "id": "b6086fcc",
   "metadata": {},
   "outputs": [
    {
     "data": {
      "text/plain": [
       "ResNet(\n",
       "  (conv1): Conv2d(3, 64, kernel_size=(7, 7), stride=(2, 2), padding=(3, 3), bias=False)\n",
       "  (bn1): BatchNorm2d(64, eps=1e-05, momentum=0.1, affine=True, track_running_stats=True)\n",
       "  (relu): ReLU(inplace=True)\n",
       "  (maxpool): MaxPool2d(kernel_size=3, stride=2, padding=1, dilation=1, ceil_mode=False)\n",
       "  (layer1): Sequential(\n",
       "    (0): BasicBlock(\n",
       "      (conv1): Conv2d(64, 64, kernel_size=(3, 3), stride=(1, 1), padding=(1, 1), bias=False)\n",
       "      (bn1): BatchNorm2d(64, eps=1e-05, momentum=0.1, affine=True, track_running_stats=True)\n",
       "      (relu): ReLU(inplace=True)\n",
       "      (conv2): Conv2d(64, 64, kernel_size=(3, 3), stride=(1, 1), padding=(1, 1), bias=False)\n",
       "      (bn2): BatchNorm2d(64, eps=1e-05, momentum=0.1, affine=True, track_running_stats=True)\n",
       "    )\n",
       "    (1): BasicBlock(\n",
       "      (conv1): Conv2d(64, 64, kernel_size=(3, 3), stride=(1, 1), padding=(1, 1), bias=False)\n",
       "      (bn1): BatchNorm2d(64, eps=1e-05, momentum=0.1, affine=True, track_running_stats=True)\n",
       "      (relu): ReLU(inplace=True)\n",
       "      (conv2): Conv2d(64, 64, kernel_size=(3, 3), stride=(1, 1), padding=(1, 1), bias=False)\n",
       "      (bn2): BatchNorm2d(64, eps=1e-05, momentum=0.1, affine=True, track_running_stats=True)\n",
       "    )\n",
       "  )\n",
       "  (layer2): Sequential(\n",
       "    (0): BasicBlock(\n",
       "      (conv1): Conv2d(64, 128, kernel_size=(3, 3), stride=(2, 2), padding=(1, 1), bias=False)\n",
       "      (bn1): BatchNorm2d(128, eps=1e-05, momentum=0.1, affine=True, track_running_stats=True)\n",
       "      (relu): ReLU(inplace=True)\n",
       "      (conv2): Conv2d(128, 128, kernel_size=(3, 3), stride=(1, 1), padding=(1, 1), bias=False)\n",
       "      (bn2): BatchNorm2d(128, eps=1e-05, momentum=0.1, affine=True, track_running_stats=True)\n",
       "      (downsample): Sequential(\n",
       "        (0): Conv2d(64, 128, kernel_size=(1, 1), stride=(2, 2), bias=False)\n",
       "        (1): BatchNorm2d(128, eps=1e-05, momentum=0.1, affine=True, track_running_stats=True)\n",
       "      )\n",
       "    )\n",
       "    (1): BasicBlock(\n",
       "      (conv1): Conv2d(128, 128, kernel_size=(3, 3), stride=(1, 1), padding=(1, 1), bias=False)\n",
       "      (bn1): BatchNorm2d(128, eps=1e-05, momentum=0.1, affine=True, track_running_stats=True)\n",
       "      (relu): ReLU(inplace=True)\n",
       "      (conv2): Conv2d(128, 128, kernel_size=(3, 3), stride=(1, 1), padding=(1, 1), bias=False)\n",
       "      (bn2): BatchNorm2d(128, eps=1e-05, momentum=0.1, affine=True, track_running_stats=True)\n",
       "    )\n",
       "  )\n",
       "  (layer3): Sequential(\n",
       "    (0): BasicBlock(\n",
       "      (conv1): Conv2d(128, 256, kernel_size=(3, 3), stride=(2, 2), padding=(1, 1), bias=False)\n",
       "      (bn1): BatchNorm2d(256, eps=1e-05, momentum=0.1, affine=True, track_running_stats=True)\n",
       "      (relu): ReLU(inplace=True)\n",
       "      (conv2): Conv2d(256, 256, kernel_size=(3, 3), stride=(1, 1), padding=(1, 1), bias=False)\n",
       "      (bn2): BatchNorm2d(256, eps=1e-05, momentum=0.1, affine=True, track_running_stats=True)\n",
       "      (downsample): Sequential(\n",
       "        (0): Conv2d(128, 256, kernel_size=(1, 1), stride=(2, 2), bias=False)\n",
       "        (1): BatchNorm2d(256, eps=1e-05, momentum=0.1, affine=True, track_running_stats=True)\n",
       "      )\n",
       "    )\n",
       "    (1): BasicBlock(\n",
       "      (conv1): Conv2d(256, 256, kernel_size=(3, 3), stride=(1, 1), padding=(1, 1), bias=False)\n",
       "      (bn1): BatchNorm2d(256, eps=1e-05, momentum=0.1, affine=True, track_running_stats=True)\n",
       "      (relu): ReLU(inplace=True)\n",
       "      (conv2): Conv2d(256, 256, kernel_size=(3, 3), stride=(1, 1), padding=(1, 1), bias=False)\n",
       "      (bn2): BatchNorm2d(256, eps=1e-05, momentum=0.1, affine=True, track_running_stats=True)\n",
       "    )\n",
       "  )\n",
       "  (layer4): Sequential(\n",
       "    (0): BasicBlock(\n",
       "      (conv1): Conv2d(256, 512, kernel_size=(3, 3), stride=(2, 2), padding=(1, 1), bias=False)\n",
       "      (bn1): BatchNorm2d(512, eps=1e-05, momentum=0.1, affine=True, track_running_stats=True)\n",
       "      (relu): ReLU(inplace=True)\n",
       "      (conv2): Conv2d(512, 512, kernel_size=(3, 3), stride=(1, 1), padding=(1, 1), bias=False)\n",
       "      (bn2): BatchNorm2d(512, eps=1e-05, momentum=0.1, affine=True, track_running_stats=True)\n",
       "      (downsample): Sequential(\n",
       "        (0): Conv2d(256, 512, kernel_size=(1, 1), stride=(2, 2), bias=False)\n",
       "        (1): BatchNorm2d(512, eps=1e-05, momentum=0.1, affine=True, track_running_stats=True)\n",
       "      )\n",
       "    )\n",
       "    (1): BasicBlock(\n",
       "      (conv1): Conv2d(512, 512, kernel_size=(3, 3), stride=(1, 1), padding=(1, 1), bias=False)\n",
       "      (bn1): BatchNorm2d(512, eps=1e-05, momentum=0.1, affine=True, track_running_stats=True)\n",
       "      (relu): ReLU(inplace=True)\n",
       "      (conv2): Conv2d(512, 512, kernel_size=(3, 3), stride=(1, 1), padding=(1, 1), bias=False)\n",
       "      (bn2): BatchNorm2d(512, eps=1e-05, momentum=0.1, affine=True, track_running_stats=True)\n",
       "    )\n",
       "  )\n",
       "  (avgpool): AdaptiveAvgPool2d(output_size=(1, 1))\n",
       "  (fc): Linear(in_features=512, out_features=1000, bias=True)\n",
       ")"
      ]
     },
     "execution_count": 71,
     "metadata": {},
     "output_type": "execute_result"
    }
   ],
   "source": [
    "resnet2 = models.resnet18()\n",
    "resnet2.load_state_dict(torch.load(\"../transfered_resnet.pth\"))\n",
    "resnet2.to(device)"
   ]
  },
  {
   "cell_type": "code",
   "execution_count": null,
   "id": "17ad2473",
   "metadata": {},
   "outputs": [],
   "source": [
    "test_results = {\"img_name\" : [], \"label\": []}\n",
    "\n",
    "for file_name, image in tqdm(testloader):\n",
    "    X = image.to(device)\n",
    "    pred = resnet2(X).argmax(1)\n",
    "    \n",
    "    test_results[\"img_name\"] += file_name\n",
    "    test_results[\"label\"] += [int(i) for i in pred.cpu()]"
   ]
  },
  {
   "cell_type": "code",
   "execution_count": 26,
   "id": "fd393cbb",
   "metadata": {},
   "outputs": [
    {
     "data": {
      "text/html": [
       "<div>\n",
       "<style scoped>\n",
       "    .dataframe tbody tr th:only-of-type {\n",
       "        vertical-align: middle;\n",
       "    }\n",
       "\n",
       "    .dataframe tbody tr th {\n",
       "        vertical-align: top;\n",
       "    }\n",
       "\n",
       "    .dataframe thead th {\n",
       "        text-align: right;\n",
       "    }\n",
       "</style>\n",
       "<table border=\"1\" class=\"dataframe\">\n",
       "  <thead>\n",
       "    <tr style=\"text-align: right;\">\n",
       "      <th></th>\n",
       "      <th>img_name</th>\n",
       "      <th>label</th>\n",
       "    </tr>\n",
       "  </thead>\n",
       "  <tbody>\n",
       "    <tr>\n",
       "      <th>0</th>\n",
       "      <td>test_6060.jpg</td>\n",
       "      <td>21</td>\n",
       "    </tr>\n",
       "    <tr>\n",
       "      <th>1</th>\n",
       "      <td>test_3540.jpg</td>\n",
       "      <td>6</td>\n",
       "    </tr>\n",
       "    <tr>\n",
       "      <th>2</th>\n",
       "      <td>test_4430.jpg</td>\n",
       "      <td>72</td>\n",
       "    </tr>\n",
       "    <tr>\n",
       "      <th>3</th>\n",
       "      <td>test_695.jpg</td>\n",
       "      <td>10</td>\n",
       "    </tr>\n",
       "    <tr>\n",
       "      <th>4</th>\n",
       "      <td>test_4999.jpg</td>\n",
       "      <td>37</td>\n",
       "    </tr>\n",
       "  </tbody>\n",
       "</table>\n",
       "</div>"
      ],
      "text/plain": [
       "        img_name  label\n",
       "0  test_6060.jpg     21\n",
       "1  test_3540.jpg      6\n",
       "2  test_4430.jpg     72\n",
       "3   test_695.jpg     10\n",
       "4  test_4999.jpg     37"
      ]
     },
     "execution_count": 26,
     "metadata": {},
     "output_type": "execute_result"
    }
   ],
   "source": [
    "test_df = pd.DataFrame(test_results)\n",
    "\n",
    "test_df.head()"
   ]
  },
  {
   "cell_type": "code",
   "execution_count": 27,
   "id": "64d73b37",
   "metadata": {},
   "outputs": [],
   "source": [
    "test_df.to_csv(\"submission.csv\", index=False)"
   ]
  },
  {
   "cell_type": "code",
   "execution_count": null,
   "id": "3de32739",
   "metadata": {},
   "outputs": [],
   "source": []
  }
 ],
 "metadata": {
  "kernelspec": {
   "display_name": "Python 3",
   "language": "python",
   "name": "python3"
  },
  "language_info": {
   "codemirror_mode": {
    "name": "ipython",
    "version": 3
   },
   "file_extension": ".py",
   "mimetype": "text/x-python",
   "name": "python",
   "nbconvert_exporter": "python",
   "pygments_lexer": "ipython3",
   "version": "3.6.13"
  }
 },
 "nbformat": 4,
 "nbformat_minor": 5
}
