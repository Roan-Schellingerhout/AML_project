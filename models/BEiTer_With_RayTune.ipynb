{
 "cells": [
  {
   "cell_type": "code",
   "execution_count": 2,
   "metadata": {},
   "outputs": [],
   "source": [
    "import torch\n",
    "import torchvision\n",
    "import os\n",
    "\n",
    "import torchvision.transforms as transforms\n",
    "import torchvision.models as models\n",
    "import torch.nn as nn\n",
    "import torch.nn.functional as F\n",
    "import torch.optim as optim\n",
    "\n",
    "import matplotlib.pyplot as plt\n",
    "#import tensorflow as tf\n",
    "import pandas as pd\n",
    "import numpy as np\n",
    "\n",
    "from torch.utils.data import DataLoader\n",
    "from torch.utils.data import Dataset\n",
    "from torchvision.io import read_image\n",
    "from torch.optim.lr_scheduler import LinearLR, CosineAnnealingLR\n",
    "\n",
    "from transformers import AutoModelForImageClassification, ViTForImageClassification, \\\n",
    "                         ViTFeatureExtractor, Trainer, TrainingArguments, \\\n",
    "                         AutoFeatureExtractor, DeiTForImageClassificationWithTeacher, \\\n",
    "                         BeitForImageClassification, BeitFeatureExtractor\n",
    "                         # PerceiverFeatureExtractor, PerceiverForImageClassificationConvProcessing\n",
    "\n",
    "from AutoAugment.autoaugment import ImageNetPolicy\n",
    "\n",
    "from PIL import Image\n",
    "\n",
    "from tqdm import tqdm\n",
    "from collections import defaultdict, OrderedDict"
   ]
  },
  {
   "cell_type": "code",
   "execution_count": 3,
   "metadata": {},
   "outputs": [
    {
     "data": {
      "text/plain": [
       "'cpu'"
      ]
     },
     "execution_count": 3,
     "metadata": {},
     "output_type": "execute_result"
    }
   ],
   "source": [
    "# Check for GPU\n",
    "device = (\"cuda:0\" if torch.cuda.is_available() else \"cpu\")\n",
    "\n",
    "device"
   ]
  },
  {
   "cell_type": "code",
   "execution_count": 4,
   "metadata": {},
   "outputs": [
    {
     "data": {
      "text/plain": [
       "(31016, 2)"
      ]
     },
     "execution_count": 4,
     "metadata": {},
     "output_type": "execute_result"
    }
   ],
   "source": [
    "df = pd.read_csv(\"../data/train_labels.csv\", names=['img_name', 'label'], header=1)\n",
    "\n",
    "df = df.append([df[df[\"label\"] == 20]] * 15, ignore_index = True)\n",
    "df = df.sample(frac=1, random_state = 42).reset_index(drop=True)\n",
    "\n",
    "df.shape"
   ]
  },
  {
   "cell_type": "code",
   "execution_count": 5,
   "metadata": {},
   "outputs": [],
   "source": [
    "class food_set(Dataset):\n",
    "\n",
    "    def __init__(self, df, labels_file, img_dir, extractor, transform = None, settype = \"train\"):\n",
    "        self.df = df\n",
    "        if settype == \"train\":\n",
    "            self.img_labels = df[:29000]\n",
    "        elif settype == \"val\":\n",
    "            self.img_labels = df[29000:]\n",
    "        self.img_dir = img_dir\n",
    "        self.feature_extractor = extractor\n",
    "        self.transform = transform\n",
    "        \n",
    "    def __len__(self):\n",
    "        return len(self.img_labels)\n",
    "\n",
    "    def __getitem__(self, idx):\n",
    "        img_path = os.path.join(self.img_dir, self.img_labels.iloc[idx, 0])\n",
    "        image = Image.open(img_path)\n",
    "        \n",
    "        if self.transform:\n",
    "            image = self.transform(image)\n",
    "                \n",
    "        features = self.feature_extractor(images=image)[\"pixel_values\"][0]      \n",
    "        \n",
    "        label = self.img_labels.iloc[idx, 1]       \n",
    "            \n",
    "        return features, label"
   ]
  },
  {
   "cell_type": "code",
   "execution_count": 6,
   "metadata": {},
   "outputs": [],
   "source": [
    "class food_test(Dataset):\n",
    "\n",
    "    def __init__(self, img_dir, extractor, transform = None):\n",
    "        self.img_dir = img_dir\n",
    "        self.feature_extractor = extractor\n",
    "        self.transform = transform\n",
    "\n",
    "    def __len__(self):\n",
    "        return len(os.listdir(self.img_dir))\n",
    "\n",
    "    def __getitem__(self, idx):\n",
    "        file_name = os.listdir(self.img_dir)[idx]\n",
    "        img_path = os.path.join(self.img_dir, file_name)\n",
    "        image = Image.open(img_path)        \n",
    "        \n",
    "        if self.transform:\n",
    "            image = self.transform(image)\n",
    "        \n",
    "        features = self.feature_extractor(images=image)[\"pixel_values\"][0]\n",
    "        \n",
    "        return file_name, features"
   ]
  },
  {
   "cell_type": "code",
   "execution_count": 7,
   "metadata": {},
   "outputs": [],
   "source": [
    "weights = [i[0] for i in (1 / (df.groupby(\"label\").count() / len(df) * 100)).values]\n",
    "weights.append(0)\n",
    "weights = torch.Tensor(np.array(weights)).to(device)"
   ]
  },
  {
   "cell_type": "code",
   "execution_count": 8,
   "metadata": {},
   "outputs": [
    {
     "data": {
      "application/vnd.jupyter.widget-view+json": {
       "model_id": "2267ff058b8b470ab4f06e727ba0572f",
       "version_major": 2,
       "version_minor": 0
      },
      "text/html": [
       "<p>Failed to display Jupyter Widget of type <code>TqdmHBox</code>.</p>\n",
       "<p>\n",
       "  If you're reading this message in Jupyter Notebook or JupyterLab, it may mean\n",
       "  that the widgets JavaScript is still loading. If this message persists, it\n",
       "  likely means that the widgets JavaScript library is either not installed or\n",
       "  not enabled. See the <a href=\"https://ipywidgets.readthedocs.io/en/stable/user_install.html\">Jupyter\n",
       "  Widgets Documentation</a> for setup instructions.\n",
       "</p>\n",
       "<p>\n",
       "  If you're reading this message in another notebook frontend (for example, a static\n",
       "  rendering on GitHub or <a href=\"https://nbviewer.jupyter.org/\">NBViewer</a>),\n",
       "  it may mean that your frontend doesn't currently support widgets.\n",
       "</p>\n"
      ],
      "text/plain": [
       "Downloading:   0%|          | 0.00/276 [00:00<?, ?B/s]"
      ]
     },
     "metadata": {},
     "output_type": "display_data"
    }
   ],
   "source": [
    "img_dir = \"../data/train_set/train_set\"\n",
    "labels = \"../data/train_labels.csv\"\n",
    "\n",
    "# Resize image to match BEiT, convert to torch.float, normalize\n",
    "train_transforms = transforms.Compose([transforms.RandomRotation(30),\n",
    "                                       transforms.RandomResizedCrop(224),\n",
    "                                       ImageNetPolicy(),\n",
    "                                       transforms.RandomHorizontalFlip()])\n",
    "\n",
    "test_transforms = transforms.Compose([transforms.Resize(256),\n",
    "                                      transforms.CenterCrop(224)])\n",
    "\n",
    "feature_extractor = BeitFeatureExtractor.from_pretrained('microsoft/beit-base-patch16-224-pt22k-ft22k')"
   ]
  },
  {
   "cell_type": "code",
   "execution_count": 9,
   "metadata": {},
   "outputs": [
    {
     "data": {
      "text/plain": [
       "(29000, 2016)"
      ]
     },
     "execution_count": 9,
     "metadata": {},
     "output_type": "execute_result"
    }
   ],
   "source": [
    "trainset = food_set(df, labels, img_dir, feature_extractor, transform = train_transforms, settype = \"train\")\n",
    "valset = food_set(df, labels, img_dir, feature_extractor, transform = test_transforms, settype = \"val\")\n",
    "\n",
    "# Create a DataLoader with the data\n",
    "trainloader = DataLoader(trainset, batch_size=8, shuffle=True, num_workers=0)\n",
    "valloader = DataLoader(valset, batch_size=8, shuffle=True, num_workers=0)\n",
    "\n",
    "len(trainset), len(valset)"
   ]
  },
  {
   "cell_type": "code",
   "execution_count": 10,
   "metadata": {},
   "outputs": [
    {
     "ename": "FileNotFoundError",
     "evalue": "[Errno 2] No such file or directory: '../data/test_set/test_set'",
     "output_type": "error",
     "traceback": [
      "\u001b[0;31m---------------------------------------------------------------------------\u001b[0m",
      "\u001b[0;31mFileNotFoundError\u001b[0m                         Traceback (most recent call last)",
      "\u001b[0;32m<ipython-input-10-0c0be8e6a5cb>\u001b[0m in \u001b[0;36m<module>\u001b[0;34m()\u001b[0m\n\u001b[1;32m      2\u001b[0m \u001b[0mtestloader\u001b[0m \u001b[0;34m=\u001b[0m \u001b[0mDataLoader\u001b[0m\u001b[0;34m(\u001b[0m\u001b[0mtestset\u001b[0m\u001b[0;34m,\u001b[0m \u001b[0mbatch_size\u001b[0m \u001b[0;34m=\u001b[0m \u001b[0;36m16\u001b[0m\u001b[0;34m)\u001b[0m\u001b[0;34m\u001b[0m\u001b[0m\n\u001b[1;32m      3\u001b[0m \u001b[0;34m\u001b[0m\u001b[0m\n\u001b[0;32m----> 4\u001b[0;31m \u001b[0mlen\u001b[0m\u001b[0;34m(\u001b[0m\u001b[0mtestset\u001b[0m\u001b[0;34m)\u001b[0m\u001b[0;34m\u001b[0m\u001b[0m\n\u001b[0m",
      "\u001b[0;32m<ipython-input-6-2703d0dec9dc>\u001b[0m in \u001b[0;36m__len__\u001b[0;34m(self)\u001b[0m\n\u001b[1;32m      7\u001b[0m \u001b[0;34m\u001b[0m\u001b[0m\n\u001b[1;32m      8\u001b[0m     \u001b[0;32mdef\u001b[0m \u001b[0m__len__\u001b[0m\u001b[0;34m(\u001b[0m\u001b[0mself\u001b[0m\u001b[0;34m)\u001b[0m\u001b[0;34m:\u001b[0m\u001b[0;34m\u001b[0m\u001b[0m\n\u001b[0;32m----> 9\u001b[0;31m         \u001b[0;32mreturn\u001b[0m \u001b[0mlen\u001b[0m\u001b[0;34m(\u001b[0m\u001b[0mos\u001b[0m\u001b[0;34m.\u001b[0m\u001b[0mlistdir\u001b[0m\u001b[0;34m(\u001b[0m\u001b[0mself\u001b[0m\u001b[0;34m.\u001b[0m\u001b[0mimg_dir\u001b[0m\u001b[0;34m)\u001b[0m\u001b[0;34m)\u001b[0m\u001b[0;34m\u001b[0m\u001b[0m\n\u001b[0m\u001b[1;32m     10\u001b[0m \u001b[0;34m\u001b[0m\u001b[0m\n\u001b[1;32m     11\u001b[0m     \u001b[0;32mdef\u001b[0m \u001b[0m__getitem__\u001b[0m\u001b[0;34m(\u001b[0m\u001b[0mself\u001b[0m\u001b[0;34m,\u001b[0m \u001b[0midx\u001b[0m\u001b[0;34m)\u001b[0m\u001b[0;34m:\u001b[0m\u001b[0;34m\u001b[0m\u001b[0m\n",
      "\u001b[0;31mFileNotFoundError\u001b[0m: [Errno 2] No such file or directory: '../data/test_set/test_set'"
     ]
    }
   ],
   "source": [
    "testset = food_test(\"../data/test_set/test_set\", feature_extractor)\n",
    "testloader = DataLoader(testset, batch_size = 16)\n",
    "\n",
    "len(testset)"
   ]
  },
  {
   "cell_type": "code",
   "execution_count": 11,
   "metadata": {},
   "outputs": [
    {
     "data": {
      "application/vnd.jupyter.widget-view+json": {
       "model_id": "329faffe78cf46aebdaef0cff6d2dd3f",
       "version_major": 2,
       "version_minor": 0
      },
      "text/html": [
       "<p>Failed to display Jupyter Widget of type <code>TqdmHBox</code>.</p>\n",
       "<p>\n",
       "  If you're reading this message in Jupyter Notebook or JupyterLab, it may mean\n",
       "  that the widgets JavaScript is still loading. If this message persists, it\n",
       "  likely means that the widgets JavaScript library is either not installed or\n",
       "  not enabled. See the <a href=\"https://ipywidgets.readthedocs.io/en/stable/user_install.html\">Jupyter\n",
       "  Widgets Documentation</a> for setup instructions.\n",
       "</p>\n",
       "<p>\n",
       "  If you're reading this message in another notebook frontend (for example, a static\n",
       "  rendering on GitHub or <a href=\"https://nbviewer.jupyter.org/\">NBViewer</a>),\n",
       "  it may mean that your frontend doesn't currently support widgets.\n",
       "</p>\n"
      ],
      "text/plain": [
       "Downloading:   0%|          | 0.00/1.59M [00:00<?, ?B/s]"
      ]
     },
     "metadata": {},
     "output_type": "display_data"
    },
    {
     "data": {
      "application/vnd.jupyter.widget-view+json": {
       "model_id": "a6bc4e0919f943b58c085ff0e9e632bd",
       "version_major": 2,
       "version_minor": 0
      },
      "text/html": [
       "<p>Failed to display Jupyter Widget of type <code>TqdmHBox</code>.</p>\n",
       "<p>\n",
       "  If you're reading this message in Jupyter Notebook or JupyterLab, it may mean\n",
       "  that the widgets JavaScript is still loading. If this message persists, it\n",
       "  likely means that the widgets JavaScript library is either not installed or\n",
       "  not enabled. See the <a href=\"https://ipywidgets.readthedocs.io/en/stable/user_install.html\">Jupyter\n",
       "  Widgets Documentation</a> for setup instructions.\n",
       "</p>\n",
       "<p>\n",
       "  If you're reading this message in another notebook frontend (for example, a static\n",
       "  rendering on GitHub or <a href=\"https://nbviewer.jupyter.org/\">NBViewer</a>),\n",
       "  it may mean that your frontend doesn't currently support widgets.\n",
       "</p>\n"
      ],
      "text/plain": [
       "Downloading:   0%|          | 0.00/395M [00:00<?, ?B/s]"
      ]
     },
     "metadata": {},
     "output_type": "display_data"
    },
    {
     "name": "stderr",
     "output_type": "stream",
     "text": [
      "/Library/Frameworks/Python.framework/Versions/3.6/lib/python3.6/site-packages/torch/functional.py:445: UserWarning: torch.meshgrid: in an upcoming release, it will be required to pass the indexing argument. (Triggered internally at  ../aten/src/ATen/native/TensorShape.cpp:2157.)\n",
      "  return _VF.meshgrid(tensors, **kwargs)  # type: ignore[attr-defined]\n"
     ]
    }
   ],
   "source": [
    "model = BeitForImageClassification.from_pretrained('microsoft/beit-base-patch16-224-pt22k-ft22k')\n",
    "\n",
    "for param in model.parameters():\n",
    "    param.requires_grad = False\n",
    "\n",
    "classifier = nn.Sequential(OrderedDict([\n",
    "                          ('fc1', nn.Linear(768, 512)),\n",
    "                          ('relu', nn.ReLU()),\n",
    "                          ('fc2', nn.Linear(512, 81)),\n",
    "                          ('output', nn.LogSoftmax(dim=1))\n",
    "                          ]))\n",
    "\n",
    "model.classifier = classifier\n",
    "model = model.to(device)"
   ]
  },
  {
   "cell_type": "code",
   "execution_count": null,
   "metadata": {},
   "outputs": [],
   "source": [
    "# CrossEntropyLoss and SGD optimizer\n",
    "criterion = nn.CrossEntropyLoss()\n",
    "# optimizer = optim.SGD(model.classifier.parameters(), lr = 0.01, momentum = 0.9)\n",
    "optimizer = optim.Adam(model.classifier.parameters(), lr = 0.0002, betas=[0.9, 0.999])\n",
    "\n",
    "scheduler = LinearLR(optimizer)"
   ]
  },
  {
   "cell_type": "code",
   "execution_count": null,
   "metadata": {},
   "outputs": [],
   "source": [
    "from ray import tune\n",
    "from ray.tune.schedulers import ASHAScheduler\n",
    "\n",
    "search_space = {\n",
    "    \"lr\": tune.uniform(0.001, 0.01),\n",
    "    \"wd\": tune.uniform(0.0001,0.001)\n",
    "}"
   ]
  },
  {
   "cell_type": "code",
   "execution_count": 7,
   "metadata": {
    "scrolled": true
   },
   "outputs": [],
   "source": [
    "# PATH = './transfered_beit.pth'\n",
    "# torch.save(beit.state_dict(), PATH)"
   ]
  },
  {
   "cell_type": "code",
   "execution_count": 8,
   "metadata": {},
   "outputs": [],
   "source": [
    "def train_loop(config, scheduler = None):\n",
    "    \n",
    "    model = BeitForImageClassification.from_pretrained('microsoft/beit-base-patch16-224-pt22k-ft22k')\n",
    "\n",
    "    for param in model.parameters():\n",
    "        param.requires_grad = False\n",
    "\n",
    "    classifier = nn.Sequential(OrderedDict([\n",
    "                              ('fc1', nn.Linear(768, 512)),\n",
    "                              ('relu', nn.ReLU()),\n",
    "                              ('fc2', nn.Linear(512, 81)),\n",
    "                              ('output', nn.LogSoftmax(dim=1))\n",
    "                              ]))\n",
    "\n",
    "    model.classifier = classifier\n",
    "    \n",
    "    # Train on GPU if available\n",
    "    model = model.to(device)\n",
    "    model.train()\n",
    "    \n",
    "    trainloader = DataLoader(trainset, batch_size=8, shuffle=True, num_workers=0)\n",
    "    valloader = DataLoader(valset, batch_size=8, shuffle=True, num_workers=0)\n",
    "    criterion = nn.CrossEntropyLoss()\n",
    "    optimizer = optim.Adam(model.classifier.parameters(), lr = config[\"lr\"], betas=[0.9, 0.999], weight_decay = config[\"wd\"])\n",
    "    \n",
    "    # Train on GPU if available\n",
    "    model = model.to(device)\n",
    "    model.train()\n",
    "    \n",
    "    # Metadata\n",
    "    stats = defaultdict(list)\n",
    "    current_acc = 0\n",
    "    max_acc = 0\n",
    "    \n",
    "    try:\n",
    "        stats[\"epoch\"].append(0)\n",
    "        stats[\"loss\"].append(5)\n",
    "        stats[\"accuracy\"].append(1.25)\n",
    "\n",
    "        for epoch in range(5):\n",
    "            size = len(trainloader.dataset)\n",
    "\n",
    "            for batch, (image, label) in enumerate(trainloader):\n",
    "                # Compute prediction and loss\n",
    "                image, label = image.to(device), label.to(device)            \n",
    "                pred = model(image)[\"logits\"]\n",
    "                loss = criterion(pred, label)\n",
    "\n",
    "                # Backpropagation\n",
    "                optimizer.zero_grad()\n",
    "                loss.backward()\n",
    "                optimizer.step()\n",
    "\n",
    "                # Print progress\n",
    "                if batch % 200 == 0:\n",
    "                    loss, current = loss.item(), batch * len(image)\n",
    "                    print(f\"loss: {loss:>7f}  [{current:>5d}/{size:>5d}] epoch: {epoch + 1}\")\n",
    "\n",
    "            # Print performance after current number of epochs\n",
    "            print(f\"Epoch: {epoch + 1}\")\n",
    "            current_acc, avg_loss = test_loop(valloader, model, criterion)\n",
    "\n",
    "            if current_acc > max_acc:\n",
    "                PATH = f'../../beit_2_fc_5_epochs.pth'\n",
    "                torch.save(model.state_dict(), PATH)\n",
    "                max_acc = current_acc\n",
    "\n",
    "            # Store metadata\n",
    "            stats[\"epoch\"].append(epoch + 1)\n",
    "            stats[\"accuracy\"].append(current_acc)\n",
    "            stats[\"loss\"].append(avg_loss)\n",
    "\n",
    "            # Plot progress\n",
    "            fig, ax1 = plt.subplots()\n",
    "\n",
    "            color = \"tab:blue\"\n",
    "            ax1.set_xlabel(\"Epoch\")\n",
    "            ax1.set_ylabel(\"Loss\", color=color)\n",
    "            ax1.plot(stats[\"epoch\"], stats[\"loss\"], color=color)\n",
    "            ax1.tick_params(axis=\"y\", labelcolor=color)\n",
    "\n",
    "            ax2 = ax1.twinx()\n",
    "\n",
    "            color = \"tab:orange\"\n",
    "            ax2.set_ylabel(\"Accuracy\", color=color)\n",
    "            ax2.plot(stats[\"epoch\"], stats[\"accuracy\"], color=color)\n",
    "            ax2.tick_params(axis=\"y\", labelcolor=color)\n",
    "            plt.show()\n",
    "            \n",
    "            if scheduler:\n",
    "                scheduler.step()\n",
    "\n",
    "        return stats\n",
    "    \n",
    "    except KeyboardInterrupt:\n",
    "        return stats\n",
    "\n",
    "\n",
    "def test_loop(dataloader, model, criterion):\n",
    "    size = len(dataloader.dataset)\n",
    "    num_batches = len(dataloader)\n",
    "    test_loss, correct = 0, 0\n",
    "\n",
    "    with torch.no_grad():\n",
    "        for image, label in dataloader:\n",
    "            image, label = image.to(device), label.to(device)\n",
    "            pred = model(image)[\"logits\"]\n",
    "            test_loss += criterion(pred, label).item()\n",
    "            correct += (pred.argmax(1) == label).type(torch.float).sum().item()\n",
    "\n",
    "    test_loss /= num_batches\n",
    "    correct /= size\n",
    "    \n",
    "    tune.report(mean_accuracy=correct)\n",
    "    \n",
    "    print(f\"Test Error: \\n Accuracy: {(100*correct):>0.1f}%, Avg loss: {test_loss:>8f} \\n\")\n",
    "    return (100 * correct), test_loss"
   ]
  },
  {
   "cell_type": "code",
   "execution_count": null,
   "metadata": {},
   "outputs": [],
   "source": [
    "from ray.tune import JupyterNotebookReporter\n",
    "reporter = JupyterNotebookReporter(overwrite=True, max_report_frequency = 5)"
   ]
  },
  {
   "cell_type": "code",
   "execution_count": null,
   "metadata": {},
   "outputs": [],
   "source": [
    "#Run the Raytune\n",
    "analysis = tune.run(\n",
    "    train_loop,\n",
    "    num_samples=10,\n",
    "    scheduler=ASHAScheduler(metric=\"mean_accuracy\", mode=\"max\"),\n",
    "    config=search_space,\n",
    "    progress_reporter=reporter)"
   ]
  },
  {
   "cell_type": "code",
   "execution_count": 15,
   "metadata": {
    "scrolled": false
   },
   "outputs": [
    {
     "name": "stdout",
     "output_type": "stream",
     "text": [
      "loss: 4.314755  [    0/29000] epoch: 1\n",
      "loss: 4.029017  [ 1600/29000] epoch: 1\n",
      "loss: 3.888720  [ 3200/29000] epoch: 1\n",
      "loss: 2.891151  [ 4800/29000] epoch: 1\n",
      "loss: 2.906246  [ 6400/29000] epoch: 1\n",
      "loss: 2.543405  [ 8000/29000] epoch: 1\n",
      "loss: 3.301522  [ 9600/29000] epoch: 1\n",
      "loss: 3.085182  [11200/29000] epoch: 1\n",
      "loss: 1.646264  [12800/29000] epoch: 1\n",
      "loss: 1.973597  [14400/29000] epoch: 1\n",
      "loss: 0.992402  [16000/29000] epoch: 1\n",
      "loss: 0.783397  [17600/29000] epoch: 1\n",
      "loss: 1.244717  [19200/29000] epoch: 1\n",
      "loss: 2.109953  [20800/29000] epoch: 1\n",
      "loss: 0.992811  [22400/29000] epoch: 1\n",
      "loss: 1.694929  [24000/29000] epoch: 1\n",
      "loss: 2.773054  [25600/29000] epoch: 1\n",
      "loss: 1.294542  [27200/29000] epoch: 1\n",
      "loss: 0.773396  [28800/29000] epoch: 1\n",
      "Epoch: 1\n",
      "Test Error: \n",
      " Accuracy: 71.0%, Avg loss: 1.214206 \n",
      "\n"
     ]
    },
    {
     "data": {
      "image/png": "[encoded data removed]",
      "text/plain": [
       "<Figure size 432x288 with 2 Axes>"
      ]
     },
     "metadata": {},
     "output_type": "display_data"
    },
    {
     "name": "stdout",
     "output_type": "stream",
     "text": [
      "loss: 0.996334  [    0/29000] epoch: 2\n",
      "loss: 0.429161  [ 1600/29000] epoch: 2\n",
      "loss: 1.355429  [ 3200/29000] epoch: 2\n",
      "loss: 1.517044  [ 4800/29000] epoch: 2\n",
      "loss: 1.690464  [ 6400/29000] epoch: 2\n",
      "loss: 0.714293  [ 8000/29000] epoch: 2\n",
      "loss: 1.193516  [ 9600/29000] epoch: 2\n",
      "loss: 1.178714  [11200/29000] epoch: 2\n",
      "loss: 1.862382  [12800/29000] epoch: 2\n",
      "loss: 1.511536  [14400/29000] epoch: 2\n",
      "loss: 0.854852  [16000/29000] epoch: 2\n",
      "loss: 0.611524  [17600/29000] epoch: 2\n",
      "loss: 1.453357  [19200/29000] epoch: 2\n",
      "loss: 1.939988  [20800/29000] epoch: 2\n",
      "loss: 1.360332  [22400/29000] epoch: 2\n",
      "loss: 0.685119  [24000/29000] epoch: 2\n",
      "loss: 1.175933  [25600/29000] epoch: 2\n",
      "loss: 0.269042  [27200/29000] epoch: 2\n",
      "loss: 0.959424  [28800/29000] epoch: 2\n",
      "Epoch: 2\n",
      "Test Error: \n",
      " Accuracy: 73.5%, Avg loss: 1.064955 \n",
      "\n"
     ]
    },
    {
     "data": {
      "image/png": "[encoded data removed]",
      "text/plain": [
       "<Figure size 432x288 with 2 Axes>"
      ]
     },
     "metadata": {},
     "output_type": "display_data"
    },
    {
     "name": "stdout",
     "output_type": "stream",
     "text": [
      "loss: 0.670938  [    0/29000] epoch: 3\n",
      "loss: 1.261236  [ 1600/29000] epoch: 3\n",
      "loss: 1.309055  [ 3200/29000] epoch: 3\n",
      "loss: 0.295688  [ 4800/29000] epoch: 3\n",
      "loss: 2.278414  [ 6400/29000] epoch: 3\n",
      "loss: 0.251820  [ 8000/29000] epoch: 3\n",
      "loss: 1.480039  [ 9600/29000] epoch: 3\n",
      "loss: 2.078063  [11200/29000] epoch: 3\n",
      "loss: 0.923717  [12800/29000] epoch: 3\n",
      "loss: 0.301671  [14400/29000] epoch: 3\n",
      "loss: 1.707372  [16000/29000] epoch: 3\n",
      "loss: 2.210188  [17600/29000] epoch: 3\n",
      "loss: 2.493220  [19200/29000] epoch: 3\n",
      "loss: 0.476755  [20800/29000] epoch: 3\n",
      "loss: 1.072693  [22400/29000] epoch: 3\n",
      "loss: 1.495187  [24000/29000] epoch: 3\n",
      "loss: 1.059433  [25600/29000] epoch: 3\n",
      "loss: 0.600278  [27200/29000] epoch: 3\n",
      "loss: 1.714086  [28800/29000] epoch: 3\n",
      "Epoch: 3\n",
      "Test Error: \n",
      " Accuracy: 75.1%, Avg loss: 1.001283 \n",
      "\n"
     ]
    },
    {
     "data": {
      "image/png": "[encoded data removed]",
      "text/plain": [
       "<Figure size 432x288 with 2 Axes>"
      ]
     },
     "metadata": {},
     "output_type": "display_data"
    },
    {
     "name": "stdout",
     "output_type": "stream",
     "text": [
      "loss: 0.260397  [    0/29000] epoch: 4\n",
      "loss: 0.467472  [ 1600/29000] epoch: 4\n",
      "loss: 1.400018  [ 3200/29000] epoch: 4\n",
      "loss: 0.554619  [ 4800/29000] epoch: 4\n",
      "loss: 0.451944  [ 6400/29000] epoch: 4\n",
      "loss: 0.981406  [ 8000/29000] epoch: 4\n",
      "loss: 1.566610  [ 9600/29000] epoch: 4\n",
      "loss: 2.069041  [11200/29000] epoch: 4\n",
      "loss: 1.759398  [12800/29000] epoch: 4\n",
      "loss: 0.741818  [14400/29000] epoch: 4\n",
      "loss: 1.474681  [16000/29000] epoch: 4\n",
      "loss: 1.597664  [17600/29000] epoch: 4\n",
      "loss: 1.385096  [19200/29000] epoch: 4\n",
      "loss: 1.252769  [20800/29000] epoch: 4\n",
      "loss: 1.168023  [22400/29000] epoch: 4\n",
      "loss: 1.796345  [24000/29000] epoch: 4\n",
      "loss: 2.295390  [25600/29000] epoch: 4\n",
      "loss: 1.471257  [27200/29000] epoch: 4\n",
      "loss: 0.845698  [28800/29000] epoch: 4\n",
      "Epoch: 4\n",
      "Test Error: \n",
      " Accuracy: 74.7%, Avg loss: 0.981960 \n",
      "\n"
     ]
    },
    {
     "data": {
      "image/png": "[encoded data removed]",
      "text/plain": [
       "<Figure size 432x288 with 2 Axes>"
      ]
     },
     "metadata": {},
     "output_type": "display_data"
    },
    {
     "name": "stdout",
     "output_type": "stream",
     "text": [
      "loss: 2.207216  [    0/29000] epoch: 5\n",
      "loss: 1.983005  [ 1600/29000] epoch: 5\n",
      "loss: 1.014561  [ 3200/29000] epoch: 5\n",
      "loss: 1.219368  [ 4800/29000] epoch: 5\n",
      "loss: 0.767215  [ 6400/29000] epoch: 5\n",
      "loss: 1.137175  [ 8000/29000] epoch: 5\n",
      "loss: 1.032646  [ 9600/29000] epoch: 5\n",
      "loss: 0.897925  [11200/29000] epoch: 5\n",
      "loss: 1.414832  [12800/29000] epoch: 5\n",
      "loss: 0.787019  [14400/29000] epoch: 5\n",
      "loss: 0.204325  [16000/29000] epoch: 5\n",
      "loss: 1.443088  [17600/29000] epoch: 5\n",
      "loss: 0.509816  [19200/29000] epoch: 5\n",
      "loss: 0.866165  [20800/29000] epoch: 5\n",
      "loss: 0.843159  [22400/29000] epoch: 5\n",
      "loss: 0.751359  [24000/29000] epoch: 5\n",
      "loss: 1.566610  [25600/29000] epoch: 5\n",
      "loss: 1.144917  [27200/29000] epoch: 5\n",
      "loss: 0.707998  [28800/29000] epoch: 5\n",
      "Epoch: 5\n",
      "Test Error: \n",
      " Accuracy: 76.6%, Avg loss: 0.955678 \n",
      "\n"
     ]
    },
    {
     "data": {
      "image/png": "[encoded data removed]",
      "text/plain": [
       "<Figure size 432x288 with 2 Axes>"
      ]
     },
     "metadata": {},
     "output_type": "display_data"
    }
   ],
   "source": [
    "stats = train_loop(trainloader, valloader, model, criterion, optimizer)"
   ]
  },
  {
   "cell_type": "code",
   "execution_count": 15,
   "metadata": {},
   "outputs": [],
   "source": [
    "pd.DataFrame(stats).to_csv(\"training_beit_data_aug_big_29k_30_epochs_imgnetpol.csv\")"
   ]
  },
  {
   "cell_type": "code",
   "execution_count": 16,
   "metadata": {},
   "outputs": [
    {
     "data": {
      "text/plain": [
       "<All keys matched successfully>"
      ]
     },
     "execution_count": 16,
     "metadata": {},
     "output_type": "execute_result"
    }
   ],
   "source": [
    "PATH = f'./beit_2_fc_5_epochs.pth'\n",
    "model.load_state_dict(torch.load(PATH))"
   ]
  },
  {
   "cell_type": "code",
   "execution_count": 17,
   "metadata": {},
   "outputs": [
    {
     "name": "stderr",
     "output_type": "stream",
     "text": [
      "100%|████████████████████████████████████████| 479/479 [02:43<00:00,  2.94it/s]\n"
     ]
    }
   ],
   "source": [
    "test_results = {\"img_name\" : [], \"label\": []}\n",
    "\n",
    "for file_name, image in tqdm(testloader):\n",
    "    X = image.to(device)\n",
    "    pred = model(X)[\"logits\"].argmax(1)\n",
    "    \n",
    "    test_results[\"img_name\"] += file_name\n",
    "    test_results[\"label\"] += [int(i) for i in pred.cpu()]"
   ]
  },
  {
   "cell_type": "code",
   "execution_count": 18,
   "metadata": {},
   "outputs": [
    {
     "data": {
      "text/html": [
       "<div>\n",
       "<style scoped>\n",
       "    .dataframe tbody tr th:only-of-type {\n",
       "        vertical-align: middle;\n",
       "    }\n",
       "\n",
       "    .dataframe tbody tr th {\n",
       "        vertical-align: top;\n",
       "    }\n",
       "\n",
       "    .dataframe thead th {\n",
       "        text-align: right;\n",
       "    }\n",
       "</style>\n",
       "<table border=\"1\" class=\"dataframe\">\n",
       "  <thead>\n",
       "    <tr style=\"text-align: right;\">\n",
       "      <th></th>\n",
       "      <th>img_name</th>\n",
       "      <th>label</th>\n",
       "    </tr>\n",
       "  </thead>\n",
       "  <tbody>\n",
       "    <tr>\n",
       "      <th>0</th>\n",
       "      <td>test_1.jpg</td>\n",
       "      <td>80</td>\n",
       "    </tr>\n",
       "    <tr>\n",
       "      <th>1</th>\n",
       "      <td>test_10.jpg</td>\n",
       "      <td>45</td>\n",
       "    </tr>\n",
       "    <tr>\n",
       "      <th>2</th>\n",
       "      <td>test_100.jpg</td>\n",
       "      <td>25</td>\n",
       "    </tr>\n",
       "    <tr>\n",
       "      <th>3</th>\n",
       "      <td>test_1000.jpg</td>\n",
       "      <td>29</td>\n",
       "    </tr>\n",
       "    <tr>\n",
       "      <th>4</th>\n",
       "      <td>test_1001.jpg</td>\n",
       "      <td>37</td>\n",
       "    </tr>\n",
       "  </tbody>\n",
       "</table>\n",
       "</div>"
      ],
      "text/plain": [
       "        img_name  label\n",
       "0     test_1.jpg     80\n",
       "1    test_10.jpg     45\n",
       "2   test_100.jpg     25\n",
       "3  test_1000.jpg     29\n",
       "4  test_1001.jpg     37"
      ]
     },
     "execution_count": 18,
     "metadata": {},
     "output_type": "execute_result"
    }
   ],
   "source": [
    "test_df = pd.DataFrame(test_results)\n",
    "\n",
    "test_df.head()"
   ]
  },
  {
   "cell_type": "code",
   "execution_count": 19,
   "metadata": {},
   "outputs": [],
   "source": [
    "test_df.to_csv(\"./submissions/submission_beit_fc2_30_epochs_imgnetpol.csv\", index=False)"
   ]
  },
  {
   "cell_type": "code",
   "execution_count": null,
   "metadata": {},
   "outputs": [],
   "source": []
  }
 ],
 "metadata": {
  "kernelspec": {
   "display_name": "Python 3",
   "language": "python",
   "name": "python3"
  },
  "language_info": {
   "codemirror_mode": {
    "name": "ipython",
    "version": 3
   },
   "file_extension": ".py",
   "mimetype": "text/x-python",
   "name": "python",
   "nbconvert_exporter": "python",
   "pygments_lexer": "ipython3",
   "version": "3.6.2"
  }
 },
 "nbformat": 4,
 "nbformat_minor": 5
}
