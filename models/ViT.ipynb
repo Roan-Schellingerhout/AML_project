{
 "cells": [
  {
   "cell_type": "code",
   "execution_count": null,
   "metadata": {
    "execution": {
     "iopub.execute_input": "2021-12-09T13:48:03.043763Z",
     "iopub.status.busy": "2021-12-09T13:48:03.0432Z",
     "iopub.status.idle": "2021-12-09T13:48:05.006562Z",
     "shell.execute_reply": "2021-12-09T13:48:05.005633Z",
     "shell.execute_reply.started": "2021-12-09T13:48:03.04367Z"
    }
   },
   "outputs": [],
   "source": [
    "import torch\n",
    "import torchvision\n",
    "import os\n",
    "\n",
    "import torchvision.transforms as transforms\n",
    "import torchvision.models as models\n",
    "import torch.nn as nn\n",
    "import torch.optim as optim\n",
    "\n",
    "import matplotlib.pyplot as plt\n",
    "import pandas as pd\n",
    "import numpy as np\n",
    "\n",
    "from torch.utils.data import DataLoader\n",
    "from torch.utils.data import Dataset\n",
    "from torchvision.io import read_image\n",
    "\n",
    "from transformers import ViTFeatureExtractor, ViTForImageClassification\n",
    "#from transformers import BitForImageClassification, BeitConfig, BeitFeatureExtractor, Trainer, TrainingArguments\n",
    "from PIL import Image\n",
    "\n",
    "from tqdm import tqdm\n",
    "from collections import defaultdict"
   ]
  },
  {
   "cell_type": "code",
   "execution_count": null,
   "metadata": {
    "execution": {
     "iopub.execute_input": "2021-12-09T13:48:06.194203Z",
     "iopub.status.busy": "2021-12-09T13:48:06.193733Z",
     "iopub.status.idle": "2021-12-09T13:48:06.246279Z",
     "shell.execute_reply": "2021-12-09T13:48:06.245605Z",
     "shell.execute_reply.started": "2021-12-09T13:48:06.194165Z"
    }
   },
   "outputs": [],
   "source": [
    "# Check for GPU\n",
    "device = (\"cuda:0\" if torch.cuda.is_available() else \"cpu\")\n",
    "\n",
    "device"
   ]
  },
  {
   "cell_type": "code",
   "execution_count": null,
   "metadata": {},
   "outputs": [],
   "source": [
    "class food_set(Dataset):\n",
    "\n",
    "    def __init__(self, labels_file, img_dir, extractor, transform = None, settype = \"train\"):\n",
    "        if settype == \"train\":\n",
    "            self.img_labels = pd.read_csv(labels_file, names=['img_name', 'label'], header=1)[:30000]\n",
    "        elif settype == \"val\":\n",
    "            self.img_labels = pd.read_csv(labels_file, names=['img_name', 'label'], header=1)[30000:]\n",
    "        self.img_dir = img_dir\n",
    "        self.feature_extractor = extractor\n",
    "        self.transform = transform\n",
    "        \n",
    "    def __len__(self):\n",
    "        return len(self.img_labels)\n",
    "\n",
    "    def __getitem__(self, idx):\n",
    "        img_path = os.path.join(self.img_dir, self.img_labels.iloc[idx, 0])\n",
    "        image = Image.open(img_path)\n",
    "        \n",
    "        if self.transform:\n",
    "            image = self.transform(image)\n",
    "                \n",
    "        features = self.feature_extractor(images=image, \n",
    "                                          mean=[0.485, 0.456, 0.406],\n",
    "                                          std=[0.229, 0.224, 0.225])[\"pixel_values\"][0]\n",
    "        label = self.img_labels.iloc[idx, 1]       \n",
    "            \n",
    "        return features, label"
   ]
  },
  {
   "cell_type": "code",
   "execution_count": null,
   "metadata": {},
   "outputs": [],
   "source": [
    "class food_test(Dataset):\n",
    "\n",
    "    def __init__(self, img_dir, extractor):\n",
    "        self.img_dir = img_dir\n",
    "        self.feature_extractor = extractor\n",
    "        self.transform = transform\n",
    "\n",
    "    def __len__(self):\n",
    "        return len(os.listdir(self.img_dir))\n",
    "\n",
    "    def __getitem__(self, idx):\n",
    "        file_name = os.listdir(self.img_dir)[idx]\n",
    "        img_path = os.path.join(self.img_dir, file_name)\n",
    "        image = Image.open(img_path)\n",
    "        \n",
    "        features = self.feature_extractor(images=image, \n",
    "                                          mean=[0.485, 0.456, 0.406],\n",
    "                                          std=[0.229, 0.224, 0.225])[\"pixel_values\"][0]\n",
    "        \n",
    "        return file_name, features"
   ]
  },
  {
   "cell_type": "code",
   "execution_count": null,
   "metadata": {},
   "outputs": [],
   "source": [
    "# Load ViT\n",
    "\n",
    "vit = ViTForImageClassification.from_pretrained('google/vit-base-patch16-224')\n",
    "vit.classifier = torch.nn.Linear(768, 81)"
   ]
  },
  {
   "cell_type": "code",
   "execution_count": null,
   "metadata": {},
   "outputs": [],
   "source": [
    "def train_loop(trainloader, valloader, model, criterion, optimizer, labels, \n",
    "               img_dir, feature_extractor = None, transform = None):\n",
    "    \n",
    "    \n",
    "    # Train on GPU if available\n",
    "    model = model.to(device)\n",
    "    model.train()\n",
    "    \n",
    "    # Metadata\n",
    "    stats = defaultdict(list)\n",
    "    current_acc = 0\n",
    "    max_acc = 0\n",
    "    \n",
    "    try:\n",
    "        stats[\"epoch\"].append(0)\n",
    "        stats[\"loss\"].append(8.7)\n",
    "        stats[\"accuracy\"].append(1.25)\n",
    "\n",
    "        size = len(trainloader.dataset)\n",
    "        \n",
    "        for epoch in range(10):        \n",
    "            for batch, (image, label) in enumerate(trainloader):\n",
    "                # Compute prediction and loss\n",
    "                image, label = image.to(device), label.to(device)            \n",
    "                pred = model(image)\n",
    "                loss = criterion(pred[\"logits\"], label)\n",
    "\n",
    "                # Backpropagation\n",
    "                optimizer.zero_grad()\n",
    "                loss.backward()\n",
    "                optimizer.step()\n",
    "\n",
    "                # Print progress\n",
    "                if batch % 200 == 0:\n",
    "                    loss, current = loss.item(), batch * len(image)\n",
    "                    print(f\"loss: {loss:>7f}  [{current:>5d}/{size:>5d}] epoch: {epoch + 1}\")\n",
    "\n",
    "            # Print performance after current number of epochs\n",
    "            print(f\"Epoch: {epoch + 1}\")\n",
    "            current_acc, avg_loss = test_loop(valloader, model, criterion)\n",
    "\n",
    "            if current_acc > max_acc:\n",
    "                PATH = f'../../vit_weights.pth'\n",
    "                torch.save(vit.state_dict(), PATH)\n",
    "                max_acc = current_acc\n",
    "            \n",
    "            # Store metadata\n",
    "            stats[\"epoch\"].append(epoch + 1)\n",
    "            stats[\"accuracy\"].append(current_acc)\n",
    "            stats[\"loss\"].append(avg_loss)\n",
    "\n",
    "            # Plot progress\n",
    "            fig, ax1 = plt.subplots()\n",
    "\n",
    "            color = \"tab:blue\"\n",
    "            ax1.set_xlabel(\"Epoch\")\n",
    "            ax1.set_ylabel(\"Loss\", color=color)\n",
    "            ax1.plot(stats[\"epoch\"], stats[\"loss\"], color=color)\n",
    "            ax1.tick_params(axis=\"y\", labelcolor=color)\n",
    "\n",
    "            ax2 = ax1.twinx()\n",
    "\n",
    "            color = \"tab:orange\"\n",
    "            ax2.set_ylabel(\"Accuracy\", color=color)\n",
    "            ax2.plot(stats[\"epoch\"], stats[\"accuracy\"], color=color)\n",
    "            ax2.tick_params(axis=\"y\", labelcolor=color)\n",
    "            plt.show()\n",
    "\n",
    "        return stats\n",
    "    \n",
    "    except KeyboardInterrupt:\n",
    "        return stats\n",
    "\n",
    "\n",
    "def test_loop(dataloader, model, criterion):\n",
    "    size = len(dataloader.dataset)\n",
    "    num_batches = len(dataloader)\n",
    "    test_loss, correct = 0, 0\n",
    "\n",
    "    with torch.no_grad():\n",
    "        for image, label in dataloader:\n",
    "            image, label = image.to(device), label.to(device)\n",
    "            pred = model(image)\n",
    "            test_loss += criterion(pred[\"logits\"], label).item()\n",
    "            correct += (pred[\"logits\"].argmax(1) == label).type(torch.float).sum().item()\n",
    "\n",
    "    test_loss /= num_batches\n",
    "    correct /= size\n",
    "    print(f\"Test Error: \\n Accuracy: {(100*correct):>0.1f}%, Avg loss: {test_loss:>8f} \\n\")\n",
    "    return (100 * correct), test_loss"
   ]
  },
  {
   "cell_type": "code",
   "execution_count": null,
   "metadata": {},
   "outputs": [],
   "source": [
    "# CrossEntropyLoss and SGD optimizer\n",
    "criterion = nn.CrossEntropyLoss()\n",
    "optimizer = optim.SGD(vit.parameters(), lr = 0.001, momentum = 0.9)\n",
    "# optimizer = optim.Adam(vit.parameters(), lr=0.00001)"
   ]
  },
  {
   "cell_type": "code",
   "execution_count": null,
   "metadata": {
    "execution": {
     "iopub.execute_input": "2021-12-09T13:48:29.195303Z",
     "iopub.status.busy": "2021-12-09T13:48:29.194777Z",
     "iopub.status.idle": "2021-12-09T13:48:29.978851Z",
     "shell.execute_reply": "2021-12-09T13:48:29.978128Z",
     "shell.execute_reply.started": "2021-12-09T13:48:29.195254Z"
    }
   },
   "outputs": [],
   "source": [
    "img_dir = \"../data/train_set/train_set\"\n",
    "labels = \"../data/train_labels.csv\"\n",
    "\n",
    "\n",
    "transform = transforms.Compose(\n",
    "                    [transforms.RandomApply([transforms.ColorJitter()], p=0.3),\n",
    "                     transforms.RandomApply([transforms.Grayscale(3)], p=0.3),\n",
    "                     transforms.RandomApply([transforms.RandomAffine(180)], p=0.3),\n",
    "                     transforms.RandomHorizontalFlip()])\n",
    "\n",
    "feature_extractor = ViTFeatureExtractor.from_pretrained('google/vit-base-patch16-224-in21k')\n"
   ]
  },
  {
   "cell_type": "code",
   "execution_count": null,
   "metadata": {},
   "outputs": [],
   "source": [
    "trainset = food_set(labels, img_dir, feature_extractor, transform = transform, settype = \"train\")\n",
    "valset = food_set(labels, img_dir, feature_extractor, settype = \"val\")\n",
    "\n",
    "# Create a DataLoader with the data\n",
    "trainloader = DataLoader(trainset, batch_size=16, shuffle=True, num_workers=0)\n",
    "valloader = DataLoader(valset, batch_size=16, shuffle=True, num_workers=0)"
   ]
  },
  {
   "cell_type": "code",
   "execution_count": null,
   "metadata": {
    "execution": {
     "iopub.execute_input": "2021-12-09T13:48:33.04497Z",
     "iopub.status.busy": "2021-12-09T13:48:33.044276Z",
     "iopub.status.idle": "2021-12-09T13:48:33.367581Z",
     "shell.execute_reply": "2021-12-09T13:48:33.366856Z",
     "shell.execute_reply.started": "2021-12-09T13:48:33.044935Z"
    }
   },
   "outputs": [],
   "source": [
    "test_set = food_test(\"../data/test_set/test_set\", feature_extractor)\n",
    "testloader = DataLoader(test_set, batch_size = 16)\n",
    "\n",
    "len(test_set)"
   ]
  },
  {
   "cell_type": "code",
   "execution_count": null,
   "metadata": {
    "execution": {
     "iopub.execute_input": "2021-12-09T14:01:13.780228Z",
     "iopub.status.busy": "2021-12-09T14:01:13.779943Z",
     "iopub.status.idle": "2021-12-09T15:46:14.135927Z",
     "shell.execute_reply": "2021-12-09T15:46:14.135238Z",
     "shell.execute_reply.started": "2021-12-09T14:01:13.780193Z"
    }
   },
   "outputs": [],
   "source": [
    "stats = train_loop(trainloader, valloader, vit, criterion, optimizer, \n",
    "                   labels, img_dir, feature_extractor)"
   ]
  },
  {
   "cell_type": "code",
   "execution_count": null,
   "metadata": {
    "execution": {
     "iopub.execute_input": "2021-12-09T15:46:20.941961Z",
     "iopub.status.busy": "2021-12-09T15:46:20.941683Z",
     "iopub.status.idle": "2021-12-09T15:46:20.951681Z",
     "shell.execute_reply": "2021-12-09T15:46:20.950814Z",
     "shell.execute_reply.started": "2021-12-09T15:46:20.941933Z"
    }
   },
   "outputs": [],
   "source": [
    "df_stats = pd.DataFrame(stats)\n",
    "df_stats.to_csv(\"../../stats_vit.csv\")"
   ]
  },
  {
   "cell_type": "code",
   "execution_count": null,
   "metadata": {
    "execution": {
     "iopub.execute_input": "2021-12-09T15:46:34.115252Z",
     "iopub.status.busy": "2021-12-09T15:46:34.114521Z",
     "iopub.status.idle": "2021-12-09T15:46:34.598594Z",
     "shell.execute_reply": "2021-12-09T15:46:34.597775Z",
     "shell.execute_reply.started": "2021-12-09T15:46:34.115203Z"
    }
   },
   "outputs": [],
   "source": [
    "PATH = './transfered_vit.pth'\n",
    "torch.save(vit.state_dict(), PATH)\n",
    "\n",
    "# vit.load_state_dict(torch.load(\"../../other_vit_optimal.pth\"))\n",
    "# vit.to(device)"
   ]
  },
  {
   "cell_type": "code",
   "execution_count": null,
   "metadata": {
    "execution": {
     "iopub.execute_input": "2021-12-09T15:46:38.881238Z",
     "iopub.status.busy": "2021-12-09T15:46:38.880987Z",
     "iopub.status.idle": "2021-12-09T15:49:09.323002Z",
     "shell.execute_reply": "2021-12-09T15:49:09.322256Z",
     "shell.execute_reply.started": "2021-12-09T15:46:38.88121Z"
    }
   },
   "outputs": [],
   "source": [
    "test_results = {\"img_name\" : [], \"label\": []}\n",
    "\n",
    "for file_name, image in tqdm(testloader):\n",
    "    X = image.to(device)\n",
    "    pred = vit(X)[\"logits\"].argmax(1)\n",
    "    \n",
    "    test_results[\"img_name\"] += file_name\n",
    "    test_results[\"label\"] += [int(i) for i in pred.cpu()]"
   ]
  },
  {
   "cell_type": "code",
   "execution_count": null,
   "metadata": {
    "execution": {
     "iopub.execute_input": "2021-12-09T16:41:09.306023Z",
     "iopub.status.busy": "2021-12-09T16:41:09.305586Z",
     "iopub.status.idle": "2021-12-09T16:41:09.321859Z",
     "shell.execute_reply": "2021-12-09T16:41:09.320957Z",
     "shell.execute_reply.started": "2021-12-09T16:41:09.305988Z"
    }
   },
   "outputs": [],
   "source": [
    "test_df = pd.DataFrame(test_results)\n",
    "\n",
    "test_df.head()"
   ]
  },
  {
   "cell_type": "code",
   "execution_count": null,
   "metadata": {
    "execution": {
     "iopub.execute_input": "2021-12-09T16:41:03.729939Z",
     "iopub.status.busy": "2021-12-09T16:41:03.729563Z",
     "iopub.status.idle": "2021-12-09T16:41:03.808766Z",
     "shell.execute_reply": "2021-12-09T16:41:03.807863Z",
     "shell.execute_reply.started": "2021-12-09T16:41:03.729848Z"
    }
   },
   "outputs": [],
   "source": [
    "# test_df.to_csv(\"submission_vit_standard.csv\", index=False)\n",
    "test_df.to_csv(\"submission.csv\", index=False)"
   ]
  },
  {
   "cell_type": "code",
   "execution_count": null,
   "metadata": {},
   "outputs": [],
   "source": []
  },
  {
   "cell_type": "code",
   "execution_count": null,
   "metadata": {},
   "outputs": [],
   "source": []
  },
  {
   "cell_type": "code",
   "execution_count": null,
   "metadata": {},
   "outputs": [],
   "source": []
  }
 ],
 "metadata": {
  "kernelspec": {
   "display_name": "Python 3 (ipykernel)",
   "language": "python",
   "name": "python3"
  },
  "language_info": {
   "codemirror_mode": {
    "name": "ipython",
    "version": 3
   },
   "file_extension": ".py",
   "mimetype": "text/x-python",
   "name": "python",
   "nbconvert_exporter": "python",
   "pygments_lexer": "ipython3",
   "version": "3.9.1"
  }
 },
 "nbformat": 4,
 "nbformat_minor": 4
}
