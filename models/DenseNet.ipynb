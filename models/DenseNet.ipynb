{
 "cells": [
  {
   "cell_type": "code",
   "execution_count": 20,
   "id": "28cec1d2",
   "metadata": {},
   "outputs": [],
   "source": [
    "import torch\n",
    "import torchvision\n",
    "import os\n",
    "\n",
    "import torchvision.transforms as transforms\n",
    "import torchvision.models as models\n",
    "import torch.nn as nn\n",
    "import torch.nn.functional as F\n",
    "import torch.optim as optim\n",
    "\n",
    "import matplotlib.pyplot as plt\n",
    "#import tensorflow as tf\n",
    "import pandas as pd\n",
    "import numpy as np\n",
    "\n",
    "from torch.utils.data import DataLoader\n",
    "from torch.utils.data import Dataset\n",
    "from torchvision.io import read_image\n",
    "from torch.optim.lr_scheduler import ExponentialLR\n",
    "\n",
    "from transformers import BeitForImageClassification, BeitConfig, BeitFeatureExtractor, Trainer, TrainingArguments\n",
    "from AutoAugment.autoaugment import ImageNetPolicy\n",
    "# from AutoAugment.ops import *\n",
    "\n",
    "# from autoaugment import ImageNetPolicy\n",
    "\n",
    "from PIL import Image\n",
    "\n",
    "from tqdm import tqdm\n",
    "from collections import defaultdict, OrderedDict"
   ]
  },
  {
   "cell_type": "code",
   "execution_count": 2,
   "id": "6169d4bd",
   "metadata": {},
   "outputs": [
    {
     "data": {
      "text/plain": [
       "'cuda:0'"
      ]
     },
     "execution_count": 2,
     "metadata": {},
     "output_type": "execute_result"
    }
   ],
   "source": [
    "# Check for GPU\n",
    "device = (\"cuda:0\" if torch.cuda.is_available() else \"cpu\")\n",
    "\n",
    "device"
   ]
  },
  {
   "cell_type": "code",
   "execution_count": 3,
   "id": "84a8728f",
   "metadata": {},
   "outputs": [
    {
     "data": {
      "text/plain": [
       "(31016, 2)"
      ]
     },
     "execution_count": 3,
     "metadata": {},
     "output_type": "execute_result"
    }
   ],
   "source": [
    "df = pd.read_csv(\"./AML_project/data/train_labels.csv\", names=['img_name', 'label'], header=1)\n",
    "\n",
    "df = df.append([df[df[\"label\"] == 20]] * 15, ignore_index = True)\n",
    "df = df.sample(frac=1).reset_index(drop=True)\n",
    "\n",
    "df.shape"
   ]
  },
  {
   "cell_type": "code",
   "execution_count": 4,
   "id": "e4e7d8b8",
   "metadata": {},
   "outputs": [],
   "source": [
    "class food_set(Dataset):\n",
    "\n",
    "    def __init__(self, labels_file, img_dir, transform = None, settype = \"train\"):\n",
    "        if settype == \"train\":\n",
    "            self.img_labels = df[:28000]\n",
    "        elif settype == \"val\":\n",
    "            self.img_labels = df[28000:]\n",
    "        self.img_dir = img_dir\n",
    "        self.transform = transform\n",
    "        \n",
    "    def __len__(self):\n",
    "        return len(self.img_labels)\n",
    "\n",
    "    def __getitem__(self, idx):\n",
    "        img_path = os.path.join(self.img_dir, self.img_labels.iloc[idx, 0])\n",
    "        image = Image.open(img_path)\n",
    "        \n",
    "        if self.transform:\n",
    "            image = self.transform(image)\n",
    "                   \n",
    "        label = self.img_labels.iloc[idx, 1]       \n",
    "            \n",
    "        return image, label"
   ]
  },
  {
   "cell_type": "code",
   "execution_count": 5,
   "id": "c85ce4b0",
   "metadata": {},
   "outputs": [],
   "source": [
    "class food_test(Dataset):\n",
    "\n",
    "    def __init__(self, img_dir, transform = None):\n",
    "        self.img_dir = img_dir\n",
    "        self.transform = transform\n",
    "\n",
    "    def __len__(self):\n",
    "        return len(os.listdir(self.img_dir))\n",
    "\n",
    "    def __getitem__(self, idx):\n",
    "        file_name = os.listdir(self.img_dir)[idx]\n",
    "        img_path = os.path.join(self.img_dir, file_name)\n",
    "        image = read_image(img_path)\n",
    "\n",
    "        if self.transform:\n",
    "            image = self.transform(image)\n",
    "        \n",
    "        return file_name, features"
   ]
  },
  {
   "cell_type": "code",
   "execution_count": 6,
   "id": "b3095d0e",
   "metadata": {},
   "outputs": [],
   "source": [
    "# Load BEiT\n",
    "model = models.densenet161(pretrained=True)\n",
    "\n",
    "classifier = nn.Sequential(OrderedDict([\n",
    "                          ('fc1', nn.Linear(2208, 1104)),\n",
    "                          ('relu', nn.ReLU()),\n",
    "                          (\"dropout\", nn.Dropout(0.1)),\n",
    "                          ('fc2', nn.Linear(1104, 81)),\n",
    "                          ('output', nn.LogSoftmax(dim=1))\n",
    "                          ]))\n",
    "\n",
    "model.classifier = classifier\n",
    "model = model.to(device)"
   ]
  },
  {
   "cell_type": "code",
   "execution_count": 7,
   "id": "e6cd8038",
   "metadata": {
    "scrolled": true
   },
   "outputs": [],
   "source": [
    "# PATH = './transfered_beit.pth'\n",
    "# torch.save(beit.state_dict(), PATH)"
   ]
  },
  {
   "cell_type": "code",
   "execution_count": 14,
   "id": "876736c0",
   "metadata": {},
   "outputs": [],
   "source": [
    "def train_loop(trainloader, valloader, model, criterion, optimizer, scheduler = None):\n",
    "    \n",
    "    # Train on GPU if available\n",
    "    model = model.to(device)\n",
    "    model.train()\n",
    "    \n",
    "    # Metadata\n",
    "    stats = defaultdict(list)\n",
    "    current_acc = 0\n",
    "    max_acc = 0\n",
    "    \n",
    "    try:\n",
    "        stats[\"epoch\"].append(0)\n",
    "        stats[\"loss\"].append(8.7)\n",
    "        stats[\"accuracy\"].append(1.25)\n",
    "\n",
    "        for epoch in range(5):\n",
    "            size = len(trainloader.dataset)\n",
    "\n",
    "            for batch, (image, label) in enumerate(trainloader):\n",
    "                # Compute prediction and loss\n",
    "                image, label = image.to(device), label.to(device)            \n",
    "                pred = model(image)\n",
    "                loss = criterion(pred, label)\n",
    "\n",
    "                # Backpropagation\n",
    "                optimizer.zero_grad()\n",
    "                loss.backward()\n",
    "                optimizer.step()\n",
    "\n",
    "                # Print progress\n",
    "                if batch % 200 == 0:\n",
    "                    loss, current = loss.item(), batch * len(image)\n",
    "                    print(f\"loss: {loss:>7f}  [{current:>5d}/{size:>5d}] epoch: {epoch + 1}\")\n",
    "\n",
    "            # Print performance after current number of epochs\n",
    "            print(f\"Epoch: {epoch + 1}\")\n",
    "            current_acc, avg_loss = test_loop(valloader, model, criterion)\n",
    "\n",
    "            if current_acc > max_acc:\n",
    "                PATH = f'./beiter.pth'\n",
    "                torch.save(model.state_dict(), PATH)\n",
    "                max_acc = current_acc\n",
    "\n",
    "            # Store metadata\n",
    "            stats[\"epoch\"].append(epoch + 1)\n",
    "            stats[\"accuracy\"].append(current_acc)\n",
    "            stats[\"loss\"].append(avg_loss)\n",
    "\n",
    "            # Plot progress\n",
    "            fig, ax1 = plt.subplots()\n",
    "\n",
    "            color = \"tab:blue\"\n",
    "            ax1.set_xlabel(\"Epoch\")\n",
    "            ax1.set_ylabel(\"Loss\", color=color)\n",
    "            ax1.plot(stats[\"epoch\"], stats[\"loss\"], color=color)\n",
    "            ax1.tick_params(axis=\"y\", labelcolor=color)\n",
    "\n",
    "            ax2 = ax1.twinx()\n",
    "\n",
    "            color = \"tab:orange\"\n",
    "            ax2.set_ylabel(\"Accuracy\", color=color)\n",
    "            ax2.plot(stats[\"epoch\"], stats[\"accuracy\"], color=color)\n",
    "            ax2.tick_params(axis=\"y\", labelcolor=color)\n",
    "            plt.show()\n",
    "            \n",
    "            if scheduler:\n",
    "                scheduler.step()\n",
    "\n",
    "        return stats\n",
    "    \n",
    "    except KeyboardInterrupt:\n",
    "        return stats\n",
    "\n",
    "\n",
    "def test_loop(dataloader, model, criterion):\n",
    "    size = len(dataloader.dataset)\n",
    "    num_batches = len(dataloader)\n",
    "    test_loss, correct = 0, 0\n",
    "\n",
    "    with torch.no_grad():\n",
    "        for image, label in dataloader:\n",
    "            image, label = image.to(device), label.to(device)\n",
    "            pred = model(image)\n",
    "            test_loss += criterion(pred, label).item()\n",
    "            correct += (pred.argmax(1) == label).type(torch.float).sum().item()\n",
    "\n",
    "    test_loss /= num_batches\n",
    "    correct /= size\n",
    "    print(f\"Test Error: \\n Accuracy: {(100*correct):>0.1f}%, Avg loss: {test_loss:>8f} \\n\")\n",
    "    return (100 * correct), test_loss"
   ]
  },
  {
   "cell_type": "code",
   "execution_count": 15,
   "id": "305cb99b",
   "metadata": {},
   "outputs": [],
   "source": [
    "# CrossEntropyLoss and SGD optimizer\n",
    "criterion = nn.NLLLoss()\n",
    "# optimizer = optim.SGD(beit.classifier.parameters(), lr = 0.01, momentum = 0.9)\n",
    "optimizer = optim.Adam(model.classifier.parameters(), lr=0.001, betas=[0.9, 0.999])\n",
    "\n",
    "scheduler = ExponentialLR(optimizer, gamma=0.9)"
   ]
  },
  {
   "cell_type": "code",
   "execution_count": 16,
   "id": "1046d329",
   "metadata": {},
   "outputs": [],
   "source": [
    "img_dir = \"./AML_project/data/train_set/train_set\"\n",
    "labels = \"./AML_project/data/train_labels.csv\"\n",
    "\n",
    "# Resize image to match BEiT, convert to torch.float, normalize\n",
    "train_transforms = transforms.Compose([transforms.RandomRotation(30),\n",
    "                                       transforms.RandomResizedCrop(224),\n",
    "                                       transforms.RandomHorizontalFlip(),\n",
    "                                       ImageNetPolicy(),\n",
    "                                       transforms.ToTensor()])\n",
    "\n",
    "test_transforms = transforms.Compose([transforms.Resize(255),\n",
    "                                      transforms.CenterCrop(224),\n",
    "                                      transforms.ToTensor()])"
   ]
  },
  {
   "cell_type": "code",
   "execution_count": 17,
   "id": "a1f6178a",
   "metadata": {},
   "outputs": [
    {
     "data": {
      "text/plain": [
       "(28000, 3016)"
      ]
     },
     "execution_count": 17,
     "metadata": {},
     "output_type": "execute_result"
    }
   ],
   "source": [
    "trainset = food_set(labels, img_dir, transform = train_transforms, settype = \"train\")\n",
    "valset = food_set(labels, img_dir, transform = test_transforms, settype = \"val\")\n",
    "\n",
    "# Create a DataLoader with the data\n",
    "trainloader = DataLoader(trainset, batch_size=8, shuffle=True, num_workers=0)\n",
    "valloader = DataLoader(valset, batch_size=8, shuffle=True, num_workers=0)\n",
    "\n",
    "len(trainset), len(valset)"
   ]
  },
  {
   "cell_type": "code",
   "execution_count": 18,
   "id": "30d2ab35",
   "metadata": {},
   "outputs": [
    {
     "data": {
      "text/plain": [
       "7653"
      ]
     },
     "execution_count": 18,
     "metadata": {},
     "output_type": "execute_result"
    }
   ],
   "source": [
    "testset = food_test(\"./AML_project/data/test_set/test_set\", transform = test_transforms)\n",
    "testloader = DataLoader(testset, batch_size = 16)\n",
    "\n",
    "len(testset)"
   ]
  },
  {
   "cell_type": "code",
   "execution_count": null,
   "id": "98f43d35",
   "metadata": {
    "scrolled": false
   },
   "outputs": [
    {
     "name": "stdout",
     "output_type": "stream",
     "text": [
      "loss: 3.812976  [    0/28000] epoch: 1\n",
      "loss: 3.734556  [ 1600/28000] epoch: 1\n",
      "loss: 4.166220  [ 3200/28000] epoch: 1\n",
      "loss: 3.763161  [ 4800/28000] epoch: 1\n",
      "loss: 2.700737  [ 6400/28000] epoch: 1\n",
      "loss: 3.770247  [ 8000/28000] epoch: 1\n",
      "loss: 3.712273  [ 9600/28000] epoch: 1\n",
      "loss: 3.654370  [11200/28000] epoch: 1\n",
      "loss: 3.615163  [12800/28000] epoch: 1\n",
      "loss: 4.186538  [14400/28000] epoch: 1\n",
      "loss: 4.207715  [16000/28000] epoch: 1\n",
      "loss: 3.706409  [17600/28000] epoch: 1\n",
      "loss: 4.277236  [19200/28000] epoch: 1\n",
      "loss: 3.840226  [20800/28000] epoch: 1\n",
      "loss: 4.078212  [22400/28000] epoch: 1\n",
      "loss: 3.884763  [24000/28000] epoch: 1\n",
      "loss: 3.918366  [25600/28000] epoch: 1\n",
      "loss: 3.744817  [27200/28000] epoch: 1\n",
      "Epoch: 1\n",
      "Test Error: \n",
      " Accuracy: 10.8%, Avg loss: 3.670241 \n",
      "\n"
     ]
    },
    {
     "data": {
      "image/png": "[encoded data removed]",
      "text/plain": [
       "<Figure size 432x288 with 2 Axes>"
      ]
     },
     "metadata": {},
     "output_type": "display_data"
    },
    {
     "name": "stdout",
     "output_type": "stream",
     "text": [
      "loss: 4.056753  [    0/28000] epoch: 2\n",
      "loss: 3.815264  [ 1600/28000] epoch: 2\n",
      "loss: 3.487237  [ 3200/28000] epoch: 2\n",
      "loss: 3.808142  [ 4800/28000] epoch: 2\n",
      "loss: 3.759459  [ 6400/28000] epoch: 2\n",
      "loss: 3.694066  [ 8000/28000] epoch: 2\n",
      "loss: 3.651486  [ 9600/28000] epoch: 2\n",
      "loss: 3.718845  [11200/28000] epoch: 2\n",
      "loss: 3.842450  [12800/28000] epoch: 2\n"
     ]
    }
   ],
   "source": [
    "stats = train_loop(trainloader, valloader, model, criterion, optimizer, scheduler)"
   ]
  },
  {
   "cell_type": "code",
   "execution_count": 17,
   "id": "b170a6eb",
   "metadata": {},
   "outputs": [
    {
     "data": {
      "text/html": [
       "<div>\n",
       "<style scoped>\n",
       "    .dataframe tbody tr th:only-of-type {\n",
       "        vertical-align: middle;\n",
       "    }\n",
       "\n",
       "    .dataframe tbody tr th {\n",
       "        vertical-align: top;\n",
       "    }\n",
       "\n",
       "    .dataframe thead th {\n",
       "        text-align: right;\n",
       "    }\n",
       "</style>\n",
       "<table border=\"1\" class=\"dataframe\">\n",
       "  <thead>\n",
       "    <tr style=\"text-align: right;\">\n",
       "      <th></th>\n",
       "      <th>epoch</th>\n",
       "      <th>loss</th>\n",
       "      <th>accuracy</th>\n",
       "    </tr>\n",
       "  </thead>\n",
       "  <tbody>\n",
       "    <tr>\n",
       "      <th>0</th>\n",
       "      <td>0</td>\n",
       "      <td>8.700000</td>\n",
       "      <td>1.250000</td>\n",
       "    </tr>\n",
       "    <tr>\n",
       "      <th>1</th>\n",
       "      <td>1</td>\n",
       "      <td>1.153709</td>\n",
       "      <td>73.143236</td>\n",
       "    </tr>\n",
       "    <tr>\n",
       "      <th>2</th>\n",
       "      <td>2</td>\n",
       "      <td>1.159672</td>\n",
       "      <td>73.441645</td>\n",
       "    </tr>\n",
       "    <tr>\n",
       "      <th>3</th>\n",
       "      <td>3</td>\n",
       "      <td>1.177926</td>\n",
       "      <td>73.839523</td>\n",
       "    </tr>\n",
       "    <tr>\n",
       "      <th>4</th>\n",
       "      <td>4</td>\n",
       "      <td>1.158152</td>\n",
       "      <td>73.541114</td>\n",
       "    </tr>\n",
       "  </tbody>\n",
       "</table>\n",
       "</div>"
      ],
      "text/plain": [
       "   epoch      loss   accuracy\n",
       "0      0  8.700000   1.250000\n",
       "1      1  1.153709  73.143236\n",
       "2      2  1.159672  73.441645\n",
       "3      3  1.177926  73.839523\n",
       "4      4  1.158152  73.541114"
      ]
     },
     "execution_count": 17,
     "metadata": {},
     "output_type": "execute_result"
    }
   ],
   "source": [
    "stats = train_loop(trainloader, model, criterion, optimizer)\n",
    "stats.to_csv(\"stats_densenet.csv\")"
   ]
  },
  {
   "cell_type": "code",
   "execution_count": 18,
   "id": "e8216ded",
   "metadata": {},
   "outputs": [],
   "source": [
    "PATH = f'beiter.pth'\n",
    "torch.save(beit.state_dict(), PATH)"
   ]
  },
  {
   "cell_type": "code",
   "execution_count": 32,
   "id": "16c50105",
   "metadata": {},
   "outputs": [
    {
     "name": "stderr",
     "output_type": "stream",
     "text": [
      "100%|████████████████████████████████████████| 479/479 [02:50<00:00,  2.81it/s]\n"
     ]
    }
   ],
   "source": [
    "test_results = {\"img_name\" : [], \"label\": []}\n",
    "\n",
    "for file_name, image in tqdm(testloader):\n",
    "    X = image.to(device)\n",
    "    pred = beit(X)[\"logits\"].argmax(1)\n",
    "    \n",
    "    test_results[\"img_name\"] += file_name\n",
    "    test_results[\"label\"] += [int(i) for i in pred.cpu()]"
   ]
  },
  {
   "cell_type": "code",
   "execution_count": 33,
   "id": "f3b20024",
   "metadata": {},
   "outputs": [
    {
     "data": {
      "text/html": [
       "<div>\n",
       "<style scoped>\n",
       "    .dataframe tbody tr th:only-of-type {\n",
       "        vertical-align: middle;\n",
       "    }\n",
       "\n",
       "    .dataframe tbody tr th {\n",
       "        vertical-align: top;\n",
       "    }\n",
       "\n",
       "    .dataframe thead th {\n",
       "        text-align: right;\n",
       "    }\n",
       "</style>\n",
       "<table border=\"1\" class=\"dataframe\">\n",
       "  <thead>\n",
       "    <tr style=\"text-align: right;\">\n",
       "      <th></th>\n",
       "      <th>img_name</th>\n",
       "      <th>label</th>\n",
       "    </tr>\n",
       "  </thead>\n",
       "  <tbody>\n",
       "    <tr>\n",
       "      <th>0</th>\n",
       "      <td>test_1.jpg</td>\n",
       "      <td>15</td>\n",
       "    </tr>\n",
       "    <tr>\n",
       "      <th>1</th>\n",
       "      <td>test_10.jpg</td>\n",
       "      <td>45</td>\n",
       "    </tr>\n",
       "    <tr>\n",
       "      <th>2</th>\n",
       "      <td>test_100.jpg</td>\n",
       "      <td>34</td>\n",
       "    </tr>\n",
       "    <tr>\n",
       "      <th>3</th>\n",
       "      <td>test_1000.jpg</td>\n",
       "      <td>29</td>\n",
       "    </tr>\n",
       "    <tr>\n",
       "      <th>4</th>\n",
       "      <td>test_1001.jpg</td>\n",
       "      <td>10</td>\n",
       "    </tr>\n",
       "  </tbody>\n",
       "</table>\n",
       "</div>"
      ],
      "text/plain": [
       "        img_name  label\n",
       "0     test_1.jpg     15\n",
       "1    test_10.jpg     45\n",
       "2   test_100.jpg     34\n",
       "3  test_1000.jpg     29\n",
       "4  test_1001.jpg     10"
      ]
     },
     "execution_count": 33,
     "metadata": {},
     "output_type": "execute_result"
    }
   ],
   "source": [
    "test_df = pd.DataFrame(test_results)\n",
    "\n",
    "test_df.head()"
   ]
  },
  {
   "cell_type": "code",
   "execution_count": 34,
   "id": "993f6b34",
   "metadata": {},
   "outputs": [],
   "source": [
    "test_df.to_csv(\"./submissions/submission_beit_full_training_aug_5_epochs.csv\", index=False)"
   ]
  },
  {
   "cell_type": "code",
   "execution_count": null,
   "id": "887e7ab2",
   "metadata": {},
   "outputs": [],
   "source": []
  }
 ],
 "metadata": {
  "kernelspec": {
   "display_name": "Python 3",
   "language": "python",
   "name": "python3"
  },
  "language_info": {
   "codemirror_mode": {
    "name": "ipython",
    "version": 3
   },
   "file_extension": ".py",
   "mimetype": "text/x-python",
   "name": "python",
   "nbconvert_exporter": "python",
   "pygments_lexer": "ipython3",
   "version": "3.6.13"
  }
 },
 "nbformat": 4,
 "nbformat_minor": 5
}
