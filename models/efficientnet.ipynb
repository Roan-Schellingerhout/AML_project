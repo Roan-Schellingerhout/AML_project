{
 "cells": [
  {
   "cell_type": "code",
   "execution_count": 1,
   "id": "bbb6d61d",
   "metadata": {},
   "outputs": [],
   "source": [
    "import torch\n",
    "import torchvision\n",
    "import os\n",
    "\n",
    "import torchvision.transforms as transforms\n",
    "import torchvision.models as models\n",
    "import torch.nn as nn\n",
    "import torch.optim as optim\n",
    "\n",
    "import matplotlib.pyplot as plt\n",
    "import pandas as pd\n",
    "import numpy as np\n",
    "\n",
    "from torch.utils.data import DataLoader\n",
    "from torch.utils.data import Dataset\n",
    "from torchvision.io import read_image\n",
    "\n",
    "from PIL import Image\n",
    "\n",
    "from tqdm import tqdm\n",
    "from collections import defaultdict"
   ]
  },
  {
   "cell_type": "code",
   "execution_count": 2,
   "id": "6dfcdbf5",
   "metadata": {},
   "outputs": [
    {
     "data": {
      "text/plain": [
       "'cuda:0'"
      ]
     },
     "execution_count": 2,
     "metadata": {},
     "output_type": "execute_result"
    }
   ],
   "source": [
    "# Check for GPU\n",
    "device = (\"cuda:0\" if torch.cuda.is_available() else \"cpu\")\n",
    "\n",
    "device"
   ]
  },
  {
   "cell_type": "code",
   "execution_count": 3,
   "id": "817964f0",
   "metadata": {},
   "outputs": [],
   "source": [
    "class food_train(Dataset):\n",
    "\n",
    "    def __init__(self, labels_file, img_dir, transform = None):\n",
    "        self.img_labels = pd.read_csv(labels_file, names=['img_name', 'label'], header=1)[:25000]\n",
    "        self.img_dir = img_dir\n",
    "        self.transform = transform\n",
    "        \n",
    "    def __len__(self):\n",
    "        return len(self.img_labels)\n",
    "\n",
    "    def __getitem__(self, idx):\n",
    "        img_path = os.path.join(self.img_dir, self.img_labels.iloc[idx, 0])\n",
    "        image = Image.open(img_path)\n",
    "        \n",
    "        if self.transform:\n",
    "            image = self.transform(image)\n",
    "                \n",
    "        # features = self.feature_extractor(images=image)[\"pixel_values\"][0]\n",
    "        label = self.img_labels.iloc[idx, 1]       \n",
    "            \n",
    "        return image, label"
   ]
  },
  {
   "cell_type": "code",
   "execution_count": 4,
   "id": "f9334590",
   "metadata": {},
   "outputs": [],
   "source": [
    "class food_val(Dataset):\n",
    "\n",
    "    def __init__(self, labels_file, img_dir, transform = None):\n",
    "        self.img_labels = pd.read_csv(labels_file, names=['img_name', 'label'], header=1)[25000:]\n",
    "        self.img_dir = img_dir\n",
    "        self.transform = transform\n",
    "\n",
    "    def __len__(self):\n",
    "        return len(self.img_labels)\n",
    "\n",
    "    def __getitem__(self, idx):\n",
    "        img_path = os.path.join(self.img_dir, self.img_labels.iloc[idx, 0])\n",
    "        image = Image.open(img_path)\n",
    "        \n",
    "        # features = self.feature_extractor(images=image)[\"pixel_values\"][0]\n",
    "        label = self.img_labels.iloc[idx, 1]       \n",
    "        \n",
    "        if self.transform:\n",
    "            image = self.transform(image)\n",
    "                        \n",
    "        return image, label"
   ]
  },
  {
   "cell_type": "code",
   "execution_count": 5,
   "id": "c3e17ee6",
   "metadata": {},
   "outputs": [],
   "source": [
    "class food_test(Dataset):\n",
    "\n",
    "    def __init__(self, img_dir, transform = None):\n",
    "        self.img_dir = img_dir\n",
    "        self.transform = transform\n",
    "\n",
    "    def __len__(self):\n",
    "        return len(os.listdir(self.img_dir))\n",
    "\n",
    "    def __getitem__(self, idx):\n",
    "        file_name = os.listdir(self.img_dir)[idx]\n",
    "        img_path = os.path.join(self.img_dir, file_name)\n",
    "        image = Image.open(img_path)\n",
    "        \n",
    "        if self.transform:\n",
    "            image = self.transform(image)\n",
    "        \n",
    "        # features = self.feature_extractor(images=image)[\"pixel_values\"][0]\n",
    "        \n",
    "        return image, features"
   ]
  },
  {
   "cell_type": "code",
   "execution_count": 6,
   "id": "f1f56cc1",
   "metadata": {},
   "outputs": [
    {
     "data": {
      "text/plain": [
       "(25000, 5611)"
      ]
     },
     "execution_count": 6,
     "metadata": {},
     "output_type": "execute_result"
    }
   ],
   "source": [
    "img_dir = \"./AML_project/data/train_set/train_set\"\n",
    "labels = \"./AML_project/data/train_labels.csv\"\n",
    "\n",
    "# Resize image to match BEiT, convert to torch.float, normalize\n",
    "transform = transforms.Compose(\n",
    "                    [transforms.RandomApply(\n",
    "                        [transforms.ColorJitter(),\n",
    "                         transforms.CenterCrop(100),\n",
    "                         transforms.Grayscale(3),\n",
    "                         transforms.RandomAffine(180)]),\n",
    "                     transforms.RandomHorizontalFlip(),\n",
    "                     transforms.Resize((256, 256)),\n",
    "                     transforms.ToTensor(),\n",
    "                     transforms.Normalize(mean=[0.485, 0.456, 0.406], \n",
    "                                          std=[0.229, 0.224, 0.225]),\n",
    "])\n",
    "\n",
    "transforms2 = transforms.Compose([transforms.Resize((256, 256)),  \n",
    "                                  transforms.ToTensor(),\n",
    "                                  transforms.Normalize(mean=[0.485, 0.456, 0.406], \n",
    "                                                       std=[0.229, 0.224, 0.225])])\n",
    "\n",
    "# feature_extractor = BeitFeatureExtractor.from_pretrained(\"microsoft/beit-base-patch16-224-pt22k-ft22k\")\n",
    "\n",
    "# Create datasets\n",
    "train_set = food_train(labels, img_dir, transform = transforms2)\n",
    "trainloader = DataLoader(train_set, batch_size=8, shuffle=True, num_workers=0)\n",
    "\n",
    "val_set = food_val(labels, img_dir, transform=transforms2)\n",
    "valloader = DataLoader(val_set, batch_size=8, shuffle=True, num_workers=0)\n",
    "\n",
    "len(train_set), len(val_set)"
   ]
  },
  {
   "cell_type": "code",
   "execution_count": 7,
   "id": "4691e8e7",
   "metadata": {},
   "outputs": [
    {
     "data": {
      "text/plain": [
       "7653"
      ]
     },
     "execution_count": 7,
     "metadata": {},
     "output_type": "execute_result"
    }
   ],
   "source": [
    "test_set = food_test(\"./AML_project/data/test_set/test_set\")\n",
    "testloader = DataLoader(test_set, batch_size = 8)\n",
    "\n",
    "len(test_set)"
   ]
  },
  {
   "cell_type": "code",
   "execution_count": 8,
   "id": "241322fd",
   "metadata": {},
   "outputs": [],
   "source": [
    "# Load EfficientNet\n",
    "efficientnet_b7 = models.efficientnet_b7(pretrained=True)\n",
    "\n",
    "efficientnet_b7.classifier = torch.nn.Linear(2560, 81)"
   ]
  },
  {
   "cell_type": "code",
   "execution_count": 9,
   "id": "5c472868",
   "metadata": {},
   "outputs": [],
   "source": [
    "# CrossEntropyLoss and SGD optimizer\n",
    "criterion = nn.CrossEntropyLoss()\n",
    "optimizer = optim.SGD(efficientnet_b7.parameters(), lr = 0.001, momentum = 0.9)\n",
    "# optimizer = optim.Adam(beit.parameters(), lr=0.00001)"
   ]
  },
  {
   "cell_type": "code",
   "execution_count": 10,
   "id": "a6502a96",
   "metadata": {},
   "outputs": [
    {
     "data": {
      "text/plain": [
       "25000"
      ]
     },
     "execution_count": 10,
     "metadata": {},
     "output_type": "execute_result"
    }
   ],
   "source": [
    "len(trainloader.dataset)"
   ]
  },
  {
   "cell_type": "code",
   "execution_count": 11,
   "id": "69c7d2b5",
   "metadata": {},
   "outputs": [],
   "source": [
    "def train_loop(dataloader, model, criterion, optimizer):\n",
    "    # Get size of dataset\n",
    "    size = len(dataloader.dataset)\n",
    "    # Train on GPU if available\n",
    "    model = model.to(device)\n",
    "    model.train()\n",
    "    \n",
    "    # Metadata\n",
    "    stats = defaultdict(list)\n",
    "    current_acc = 0\n",
    "    max_acc = 0\n",
    "    \n",
    "    stats[\"epoch\"].append(0)\n",
    "    stats[\"loss\"].append(8.7)\n",
    "    stats[\"accuracy\"].append(1.25)\n",
    "    \n",
    "    for epoch in range(10):\n",
    "        for batch, (image, label) in enumerate(dataloader):\n",
    "            # Compute prediction and loss\n",
    "            image, label = image.to(device), label.to(device)            \n",
    "            pred = model(image)\n",
    "            loss = criterion(pred, label)\n",
    "\n",
    "            # Backpropagation\n",
    "            optimizer.zero_grad()\n",
    "            loss.backward()\n",
    "            optimizer.step()\n",
    "\n",
    "            # Print progress\n",
    "            if batch % 200 == 0:\n",
    "                loss, current = loss.item(), batch * len(image)\n",
    "                print(f\"loss: {loss:>7f}  [{current:>5d}/{size:>5d}] epoch: {epoch + 1}\")\n",
    "        \n",
    "        # Print performance after current number of epochs\n",
    "        print(f\"Epoch: {epoch + 1}\")\n",
    "        current_acc, avg_loss = test_loop(valloader, model, criterion)\n",
    "        \n",
    "        if current_acc > max_acc:\n",
    "            PATH = f'./efficientnet.pth'\n",
    "            torch.save(model.state_dict(), PATH)\n",
    "            max_acc = current_acc\n",
    "            \n",
    "        # Store metadata\n",
    "        stats[\"epoch\"].append(epoch + 1)\n",
    "        stats[\"accuracy\"].append(current_acc)\n",
    "        stats[\"loss\"].append(avg_loss)\n",
    "        \n",
    "        # Plot progress\n",
    "        fig, ax1 = plt.subplots()\n",
    "\n",
    "        color = \"tab:blue\"\n",
    "        ax1.set_xlabel(\"Epoch\")\n",
    "        ax1.set_ylabel(\"Loss\", color=color)\n",
    "        ax1.plot(stats[\"epoch\"], stats[\"loss\"], color=color)\n",
    "        ax1.tick_params(axis=\"y\", labelcolor=color)\n",
    "\n",
    "        ax2 = ax1.twinx()\n",
    "\n",
    "        color = \"tab:orange\"\n",
    "        ax2.set_ylabel(\"Accuracy\", color=color)\n",
    "        ax2.plot(stats[\"epoch\"], stats[\"accuracy\"], color=color)\n",
    "        ax2.tick_params(axis=\"y\", labelcolor=color)\n",
    "        plt.show()\n",
    "    \n",
    "    return stats\n",
    "\n",
    "\n",
    "def test_loop(dataloader, model, criterion):\n",
    "    size = len(dataloader.dataset)\n",
    "    num_batches = len(dataloader)\n",
    "    test_loss, correct = 0, 0\n",
    "\n",
    "    with torch.no_grad():\n",
    "        for image, label in dataloader:\n",
    "            image, label = image.to(device), label.to(device)\n",
    "            pred = model(image)\n",
    "            test_loss += criterion(pred, label).item()\n",
    "            correct += (pred.argmax(1) == label).type(torch.float).sum().item()\n",
    "\n",
    "    test_loss /= num_batches\n",
    "    correct /= size\n",
    "    print(f\"Test Error: \\n Accuracy: {(100*correct):>0.1f}%, Avg loss: {test_loss:>8f} \\n\")\n",
    "    return (100 * correct), test_loss"
   ]
  },
  {
   "cell_type": "code",
   "execution_count": null,
   "id": "f7d83882",
   "metadata": {},
   "outputs": [],
   "source": [
    "stats = train_loop(trainloader, efficientnet_b7, criterion, optimizer)"
   ]
  },
  {
   "cell_type": "code",
   "execution_count": null,
   "id": "acb9942b",
   "metadata": {},
   "outputs": [],
   "source": []
  }
 ],
 "metadata": {
  "kernelspec": {
   "display_name": "Python 3",
   "language": "python",
   "name": "python3"
  },
  "language_info": {
   "codemirror_mode": {
    "name": "ipython",
    "version": 3
   },
   "file_extension": ".py",
   "mimetype": "text/x-python",
   "name": "python",
   "nbconvert_exporter": "python",
   "pygments_lexer": "ipython3",
   "version": "3.6.13"
  }
 },
 "nbformat": 4,
 "nbformat_minor": 5
}
