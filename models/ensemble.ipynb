{
 "cells": [
  {
   "cell_type": "code",
   "execution_count": 1,
   "id": "1d1eec0a",
   "metadata": {},
   "outputs": [],
   "source": [
    "import torch\n",
    "import torchvision\n",
    "import os\n",
    "import random\n",
    "\n",
    "import torchvision.transforms as transforms\n",
    "import torchvision.models as models\n",
    "import torch.nn as nn\n",
    "import torch.nn.functional as F\n",
    "import torch.optim as optim\n",
    "\n",
    "import matplotlib.pyplot as plt\n",
    "import pandas as pd\n",
    "import numpy as np\n",
    "\n",
    "from torch.utils.data import DataLoader\n",
    "from torch.utils.data import Dataset\n",
    "from torchvision.io import read_image\n",
    "\n",
    "from transformers import BeitForImageClassification, BeitConfig, BeitFeatureExtractor, \\\n",
    "                         ViTForImageClassification, ViTFeatureExtractor\n",
    "from PIL import Image\n",
    "\n",
    "from tqdm import tqdm\n",
    "from collections import defaultdict"
   ]
  },
  {
   "cell_type": "code",
   "execution_count": 2,
   "id": "cfdaac99",
   "metadata": {},
   "outputs": [
    {
     "data": {
      "text/plain": [
       "'cuda:0'"
      ]
     },
     "execution_count": 2,
     "metadata": {},
     "output_type": "execute_result"
    }
   ],
   "source": [
    "# Check for GPU\n",
    "device = (\"cuda:0\" if torch.cuda.is_available() else \"cpu\")\n",
    "\n",
    "device"
   ]
  },
  {
   "cell_type": "code",
   "execution_count": 3,
   "id": "92857d3e",
   "metadata": {},
   "outputs": [],
   "source": [
    "class food_set(Dataset):\n",
    "\n",
    "    def __init__(self, labels_file, img_dir, extractor, transform = None, settype = \"train\"):\n",
    "        if settype == \"train\":\n",
    "            self.img_labels = pd.read_csv(labels_file, names=['img_name', 'label'], header=1)[:30000]\n",
    "        elif settype == \"val\":\n",
    "            self.img_labels = pd.read_csv(labels_file, names=['img_name', 'label'], header=1)[30000:]\n",
    "        self.img_dir = img_dir\n",
    "        self.feature_extractor = extractor\n",
    "        self.transform = transform\n",
    "        \n",
    "    def __len__(self):\n",
    "        return len(self.img_labels)\n",
    "\n",
    "    def __getitem__(self, idx):\n",
    "        img_path = os.path.join(self.img_dir, self.img_labels.iloc[idx, 0])\n",
    "        image = Image.open(img_path)\n",
    "        \n",
    "        if self.transform:\n",
    "            image = self.transform(image)\n",
    "                \n",
    "        features = self.feature_extractor(images=image, \n",
    "                                          mean=[0.485, 0.456, 0.406],\n",
    "                                          std=[0.229, 0.224, 0.225])[\"pixel_values\"][0]        \n",
    "        label = self.img_labels.iloc[idx, 1]       \n",
    "            \n",
    "        return features, label"
   ]
  },
  {
   "cell_type": "code",
   "execution_count": 4,
   "id": "3d423093",
   "metadata": {},
   "outputs": [],
   "source": [
    "class food_test(Dataset):\n",
    "\n",
    "    def __init__(self, img_dir, extractor, transform = None):\n",
    "        self.img_dir = img_dir\n",
    "        self.feature_extractor = extractor\n",
    "        self.transform = transform\n",
    "\n",
    "    def __len__(self):\n",
    "        return len(os.listdir(self.img_dir))\n",
    "\n",
    "    def __getitem__(self, idx):\n",
    "        file_name = os.listdir(self.img_dir)[idx]\n",
    "        img_path = os.path.join(self.img_dir, file_name)\n",
    "        image = Image.open(img_path)\n",
    "        \n",
    "        if self.transform:\n",
    "            image = self.transform(image)\n",
    "        \n",
    "        features = self.feature_extractor(images=image, \n",
    "                                          mean=[0.485, 0.456, 0.406],\n",
    "                                          std=[0.229, 0.224, 0.225])[\"pixel_values\"][0]\n",
    "        \n",
    "        return file_name, features"
   ]
  },
  {
   "cell_type": "code",
   "execution_count": 5,
   "id": "e4a2cbc8",
   "metadata": {},
   "outputs": [
    {
     "name": "stderr",
     "output_type": "stream",
     "text": [
      "D:\\ProgramData\\Anaconda3\\envs\\R + Python\\lib\\site-packages\\torch\\functional.py:445: UserWarning: torch.meshgrid: in an upcoming release, it will be required to pass the indexing argument. (Triggered internally at  ..\\aten\\src\\ATen\\native\\TensorShape.cpp:2157.)\n",
      "  return _VF.meshgrid(tensors, **kwargs)  # type: ignore[attr-defined]\n"
     ]
    }
   ],
   "source": [
    "# Load BEiT\n",
    "beit = BeitForImageClassification.from_pretrained(\"microsoft/beit-base-patch16-224\")\n",
    "\n",
    "beit.classifier = torch.nn.Linear(768, 81)\n",
    "\n",
    "beit.load_state_dict(torch.load(\"./optimal_models/beit_data_augmented.pth\"))\n",
    "beit.to(device);"
   ]
  },
  {
   "cell_type": "code",
   "execution_count": 6,
   "id": "202a1f82",
   "metadata": {},
   "outputs": [],
   "source": [
    "# Load ViT\n",
    "vit = ViTForImageClassification.from_pretrained(\"google/vit-base-patch16-224\")\n",
    "\n",
    "vit.classifier = torch.nn.Linear(768, 81)\n",
    "\n",
    "vit.load_state_dict(torch.load(\"./optimal_models/ViT_data_aug_locked_sets.pth\"))\n",
    "vit.to(device);"
   ]
  },
  {
   "cell_type": "code",
   "execution_count": 12,
   "id": "392d8f74",
   "metadata": {},
   "outputs": [],
   "source": [
    "class ensemble(nn.Module):\n",
    "    \n",
    "    def __init__(self, BEiT, ViT):\n",
    "        \n",
    "        super(ensemble, self).__init__()\n",
    "        \n",
    "        self.beit = BEiT\n",
    "        self.vit = ViT\n",
    "        \n",
    "        self.beit.classifier = nn.Identity()\n",
    "        self.vit.classifier = nn.Identity()\n",
    "        \n",
    "        # dropout layer\n",
    "        self.dropout = nn.Dropout(0.1)\n",
    "        \n",
    "        # dense layer 1\n",
    "        self.fc1 = nn.Linear(768+768, 1000)\n",
    "\n",
    "        # dense layer 2 (Output layer)\n",
    "        self.classifier = nn.Linear(1000, 81)\n",
    "\n",
    "        #softmax activation function\n",
    "        self.softmax = nn.LogSoftmax(dim=1)       \n",
    "        \n",
    "    def forward(self, image):\n",
    "        \n",
    "        x1 = self.beit(image)[\"logits\"]\n",
    "        x2 = self.vit(image)[\"logits\"]\n",
    "               \n",
    "        x = torch.cat((x1, x2), dim=1)\n",
    "        \n",
    "        x = self.dropout(x)\n",
    "        x = self.fc1(F.relu(x))\n",
    "        x = self.classifier(F.relu(x))\n",
    "        x = self.softmax(x)\n",
    "       \n",
    "        return x"
   ]
  },
  {
   "cell_type": "code",
   "execution_count": 13,
   "id": "b54efe0d",
   "metadata": {},
   "outputs": [],
   "source": [
    "ensemble = ensemble(beit, vit)\n",
    "\n",
    "ensemble.to(device);"
   ]
  },
  {
   "cell_type": "code",
   "execution_count": 14,
   "id": "94f4c9d0",
   "metadata": {},
   "outputs": [],
   "source": [
    "def train_loop(trainloader, valloader, model, criterion, optimizer):\n",
    "    \n",
    "    # Train on GPU if available\n",
    "    model = model.to(device)\n",
    "    model.train()\n",
    "    \n",
    "    # Metadata\n",
    "    stats = defaultdict(list)\n",
    "    current_acc = 0\n",
    "    max_acc = 0\n",
    "    \n",
    "    try:\n",
    "        stats[\"epoch\"].append(0)\n",
    "        stats[\"loss\"].append(8.7)\n",
    "        stats[\"accuracy\"].append(1.25)\n",
    "\n",
    "        for epoch in range(5):\n",
    "            size = len(trainloader.dataset)\n",
    "\n",
    "            for batch, (image, label) in enumerate(trainloader):\n",
    "                # Compute prediction and loss\n",
    "                image, label = image.to(device), label.to(device)            \n",
    "                pred = model(image)\n",
    "                loss = criterion(pred, label)\n",
    "\n",
    "                # Backpropagation\n",
    "                optimizer.zero_grad()\n",
    "                loss.backward()\n",
    "                optimizer.step()\n",
    "\n",
    "                # Print progress\n",
    "                if batch % 200 == 0:\n",
    "                    loss, current = loss.item(), batch * len(image)\n",
    "                    print(f\"loss: {loss:>7f}  [{current:>5d}/{size:>5d}] epoch: {epoch + 1}\")\n",
    "\n",
    "            # Print performance after current number of epochs\n",
    "            print(f\"Epoch: {epoch + 1}\")\n",
    "            current_acc, avg_loss = test_loop(valloader, model, criterion)\n",
    "\n",
    "            if current_acc > max_acc:\n",
    "                PATH = f'./ensemble.pth'\n",
    "                torch.save(model.state_dict(), PATH)\n",
    "                max_acc = current_acc\n",
    "\n",
    "            # Store metadata\n",
    "            stats[\"epoch\"].append(epoch + 1)\n",
    "            stats[\"accuracy\"].append(current_acc)\n",
    "            stats[\"loss\"].append(avg_loss)\n",
    "\n",
    "            # Plot progress\n",
    "            fig, ax1 = plt.subplots()\n",
    "\n",
    "            color = \"tab:blue\"\n",
    "            ax1.set_xlabel(\"Epoch\")\n",
    "            ax1.set_ylabel(\"Loss\", color=color)\n",
    "            ax1.plot(stats[\"epoch\"], stats[\"loss\"], color=color)\n",
    "            ax1.tick_params(axis=\"y\", labelcolor=color)\n",
    "\n",
    "            ax2 = ax1.twinx()\n",
    "\n",
    "            color = \"tab:orange\"\n",
    "            ax2.set_ylabel(\"Accuracy\", color=color)\n",
    "            ax2.plot(stats[\"epoch\"], stats[\"accuracy\"], color=color)\n",
    "            ax2.tick_params(axis=\"y\", labelcolor=color)\n",
    "            plt.show()\n",
    "\n",
    "        return stats\n",
    "    \n",
    "    except KeyboardInterrupt:\n",
    "        return stats\n",
    "\n",
    "\n",
    "def test_loop(dataloader, model, criterion):\n",
    "    size = len(dataloader.dataset)\n",
    "    num_batches = len(dataloader)\n",
    "    test_loss, correct = 0, 0\n",
    "\n",
    "    with torch.no_grad():\n",
    "        for image, label in dataloader:\n",
    "            image, label = image.to(device), label.to(device)\n",
    "            pred = model(image)\n",
    "            test_loss += criterion(pred, label).item()\n",
    "            correct += (pred.argmax(1) == label).type(torch.float).sum().item()\n",
    "\n",
    "    test_loss /= num_batches\n",
    "    correct /= size\n",
    "    print(f\"Test Error: \\n Accuracy: {(100*correct):>0.1f}%, Avg loss: {test_loss:>8f} \\n\")\n",
    "    return (100 * correct), test_loss"
   ]
  },
  {
   "cell_type": "code",
   "execution_count": 15,
   "id": "45a32b16",
   "metadata": {},
   "outputs": [],
   "source": [
    "# CrossEntropyLoss and SGD optimizer\n",
    "criterion = nn.CrossEntropyLoss()\n",
    "optimizer = optim.SGD(ensemble.parameters(), lr = 0.01, momentum = 0.9)\n",
    "# optimizer = optim.Adam(ensemble.parameters(), lr=0.00001)"
   ]
  },
  {
   "cell_type": "code",
   "execution_count": 16,
   "id": "b4683150",
   "metadata": {},
   "outputs": [],
   "source": [
    "img_dir = \"./AML_project/data/train_set/train_set\"\n",
    "labels = \"./AML_project/data/train_labels.csv\"\n",
    "\n",
    "transform = transforms.Compose(\n",
    "                    [transforms.RandomApply([transforms.ColorJitter()]),\n",
    "                     transforms.RandomApply([transforms.RandomAffine(180)]),\n",
    "                     transforms.RandomHorizontalFlip()])\n",
    "\n",
    "feature_extractor = ViTFeatureExtractor.from_pretrained(\"google/vit-base-patch16-224\")"
   ]
  },
  {
   "cell_type": "code",
   "execution_count": 17,
   "id": "a75027d9",
   "metadata": {},
   "outputs": [],
   "source": [
    "trainset = food_set(labels, img_dir, feature_extractor, transform = transform, settype = \"train\")\n",
    "valset = food_set(labels, img_dir, feature_extractor, settype = \"val\")\n",
    "\n",
    "# Create a DataLoader with the data\n",
    "trainloader = DataLoader(trainset, batch_size=8, shuffle=True, num_workers=0)\n",
    "valloader = DataLoader(valset, batch_size=8, shuffle=True, num_workers=0)"
   ]
  },
  {
   "cell_type": "code",
   "execution_count": 18,
   "id": "f440c1e1",
   "metadata": {},
   "outputs": [
    {
     "data": {
      "text/plain": [
       "7653"
      ]
     },
     "execution_count": 18,
     "metadata": {},
     "output_type": "execute_result"
    }
   ],
   "source": [
    "test_set = food_test(\"./AML_project/data/test_set/test_set\", feature_extractor)\n",
    "testloader = DataLoader(test_set, batch_size = 8)\n",
    "\n",
    "len(test_set)"
   ]
  },
  {
   "cell_type": "code",
   "execution_count": null,
   "id": "c84e215b",
   "metadata": {
    "scrolled": false
   },
   "outputs": [
    {
     "name": "stdout",
     "output_type": "stream",
     "text": [
      "loss: 4.484857  [    0/30000] epoch: 1\n",
      "loss: 2.021559  [ 1600/30000] epoch: 1\n",
      "loss: 4.270358  [ 3200/30000] epoch: 1\n",
      "loss: 3.396354  [ 4800/30000] epoch: 1\n",
      "loss: 3.521563  [ 6400/30000] epoch: 1\n",
      "loss: 3.900926  [ 8000/30000] epoch: 1\n",
      "loss: 3.577565  [ 9600/30000] epoch: 1\n",
      "loss: 2.345327  [11200/30000] epoch: 1\n",
      "loss: 3.148907  [12800/30000] epoch: 1\n",
      "loss: 2.377322  [14400/30000] epoch: 1\n",
      "loss: 3.301033  [16000/30000] epoch: 1\n",
      "loss: 3.135596  [17600/30000] epoch: 1\n",
      "loss: 2.564212  [19200/30000] epoch: 1\n",
      "loss: 3.292595  [20800/30000] epoch: 1\n",
      "loss: 3.122515  [22400/30000] epoch: 1\n",
      "loss: 3.302952  [24000/30000] epoch: 1\n",
      "loss: 3.230280  [25600/30000] epoch: 1\n",
      "loss: 1.655823  [27200/30000] epoch: 1\n",
      "loss: 3.501533  [28800/30000] epoch: 1\n",
      "Epoch: 1\n",
      "Test Error: \n",
      " Accuracy: 39.1%, Avg loss: 2.492979 \n",
      "\n"
     ]
    },
    {
     "data": {
      "image/png": "[encoded data removed]",
      "text/plain": [
       "<Figure size 432x288 with 2 Axes>"
      ]
     },
     "metadata": {},
     "output_type": "display_data"
    },
    {
     "name": "stdout",
     "output_type": "stream",
     "text": [
      "loss: 2.246133  [    0/30000] epoch: 2\n"
     ]
    }
   ],
   "source": [
    "stats = train_loop(trainloader, valloader, ensemble, criterion, optimizer)"
   ]
  },
  {
   "cell_type": "code",
   "execution_count": 23,
   "id": "e41bb11d",
   "metadata": {},
   "outputs": [],
   "source": [
    "df_stats = pd.DataFrame(stats)\n",
    "df_stats.to_csv(\"./ensemble.csv\")"
   ]
  },
  {
   "cell_type": "code",
   "execution_count": null,
   "id": "c42c7cd2",
   "metadata": {
    "scrolled": false
   },
   "outputs": [],
   "source": [
    "# PATH = './transfered_beit.pth'\n",
    "# torch.save(beit.state_dict(), PATH)\n",
    "\n",
    "beit.load_state_dict(torch.load(\"../../other_beit_optimal.pth\"))\n",
    "beit.to(device)"
   ]
  },
  {
   "cell_type": "code",
   "execution_count": 24,
   "id": "bf8d64ae",
   "metadata": {},
   "outputs": [
    {
     "name": "stderr",
     "output_type": "stream",
     "text": [
      "100%|██████████████████████████████████████████████████████████████████████████████████████████| 957/957 [05:38<00:00,  2.82it/s]\n"
     ]
    }
   ],
   "source": [
    "test_results = {\"img_name\" : [], \"label\": []}\n",
    "\n",
    "for file_name, image in tqdm(testloader):\n",
    "    X = image.to(device)\n",
    "    pred = ensemble(X).argmax(1)\n",
    "    \n",
    "    test_results[\"img_name\"] += file_name\n",
    "    test_results[\"label\"] += [int(i) for i in pred.cpu()]"
   ]
  },
  {
   "cell_type": "code",
   "execution_count": 25,
   "id": "40f8bd8e",
   "metadata": {},
   "outputs": [
    {
     "data": {
      "text/html": [
       "<div>\n",
       "<style scoped>\n",
       "    .dataframe tbody tr th:only-of-type {\n",
       "        vertical-align: middle;\n",
       "    }\n",
       "\n",
       "    .dataframe tbody tr th {\n",
       "        vertical-align: top;\n",
       "    }\n",
       "\n",
       "    .dataframe thead th {\n",
       "        text-align: right;\n",
       "    }\n",
       "</style>\n",
       "<table border=\"1\" class=\"dataframe\">\n",
       "  <thead>\n",
       "    <tr style=\"text-align: right;\">\n",
       "      <th></th>\n",
       "      <th>img_name</th>\n",
       "      <th>label</th>\n",
       "    </tr>\n",
       "  </thead>\n",
       "  <tbody>\n",
       "    <tr>\n",
       "      <th>0</th>\n",
       "      <td>test_1.jpg</td>\n",
       "      <td>15</td>\n",
       "    </tr>\n",
       "    <tr>\n",
       "      <th>1</th>\n",
       "      <td>test_10.jpg</td>\n",
       "      <td>45</td>\n",
       "    </tr>\n",
       "    <tr>\n",
       "      <th>2</th>\n",
       "      <td>test_100.jpg</td>\n",
       "      <td>23</td>\n",
       "    </tr>\n",
       "    <tr>\n",
       "      <th>3</th>\n",
       "      <td>test_1000.jpg</td>\n",
       "      <td>29</td>\n",
       "    </tr>\n",
       "    <tr>\n",
       "      <th>4</th>\n",
       "      <td>test_1001.jpg</td>\n",
       "      <td>10</td>\n",
       "    </tr>\n",
       "  </tbody>\n",
       "</table>\n",
       "</div>"
      ],
      "text/plain": [
       "        img_name  label\n",
       "0     test_1.jpg     15\n",
       "1    test_10.jpg     45\n",
       "2   test_100.jpg     23\n",
       "3  test_1000.jpg     29\n",
       "4  test_1001.jpg     10"
      ]
     },
     "execution_count": 25,
     "metadata": {},
     "output_type": "execute_result"
    }
   ],
   "source": [
    "test_df = pd.DataFrame(test_results)\n",
    "\n",
    "test_df.head()"
   ]
  },
  {
   "cell_type": "code",
   "execution_count": 26,
   "id": "56f62dbd",
   "metadata": {},
   "outputs": [],
   "source": [
    "test_df.to_csv(\"./submissions/submission_ensemble_2.csv\", index=False)"
   ]
  },
  {
   "cell_type": "code",
   "execution_count": null,
   "id": "520c5648",
   "metadata": {},
   "outputs": [],
   "source": []
  }
 ],
 "metadata": {
  "kernelspec": {
   "display_name": "Python 3",
   "language": "python",
   "name": "python3"
  },
  "language_info": {
   "codemirror_mode": {
    "name": "ipython",
    "version": 3
   },
   "file_extension": ".py",
   "mimetype": "text/x-python",
   "name": "python",
   "nbconvert_exporter": "python",
   "pygments_lexer": "ipython3",
   "version": "3.6.13"
  }
 },
 "nbformat": 4,
 "nbformat_minor": 5
}
