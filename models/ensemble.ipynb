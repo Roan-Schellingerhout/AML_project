{
 "cells": [
  {
   "cell_type": "code",
   "execution_count": 95,
   "id": "1d1eec0a",
   "metadata": {},
   "outputs": [],
   "source": [
    "import torch\n",
    "import torchvision\n",
    "import os\n",
    "import random\n",
    "\n",
    "import torchvision.transforms as transforms\n",
    "import torchvision.models as models\n",
    "import torch.nn as nn\n",
    "import torch.nn.functional as F\n",
    "import torch.optim as optim\n",
    "\n",
    "import matplotlib.pyplot as plt\n",
    "import pandas as pd\n",
    "import numpy as np\n",
    "\n",
    "from torch.utils.data import DataLoader\n",
    "from torch.utils.data import Dataset\n",
    "from torchvision.io import read_image\n",
    "\n",
    "from transformers import BeitForImageClassification, BeitConfig, BeitFeatureExtractor, \\\n",
    "                         ViTForImageClassification, ViTFeatureExtractor\n",
    "from PIL import Image\n",
    "from AutoAugment.autoaugment import ImageNetPolicy\n",
    "\n",
    "from tqdm import tqdm\n",
    "from collections import defaultdict, OrderedDict"
   ]
  },
  {
   "cell_type": "code",
   "execution_count": 96,
   "id": "cfdaac99",
   "metadata": {},
   "outputs": [
    {
     "data": {
      "text/plain": [
       "'cuda:0'"
      ]
     },
     "execution_count": 96,
     "metadata": {},
     "output_type": "execute_result"
    }
   ],
   "source": [
    "# Check for GPU\n",
    "device = (\"cuda:0\" if torch.cuda.is_available() else \"cpu\")\n",
    "\n",
    "device"
   ]
  },
  {
   "cell_type": "code",
   "execution_count": 97,
   "id": "293ac571",
   "metadata": {},
   "outputs": [
    {
     "data": {
      "text/plain": [
       "(31016, 2)"
      ]
     },
     "execution_count": 97,
     "metadata": {},
     "output_type": "execute_result"
    }
   ],
   "source": [
    "df = pd.read_csv(\"../data/train_labels.csv\", names=['img_name', 'label'], header=1)\n",
    "\n",
    "df = df.append([df[df[\"label\"] == 20]] * 15, ignore_index = True)\n",
    "df = df.sample(frac=1).reset_index(drop=True)\n",
    "\n",
    "df.shape"
   ]
  },
  {
   "cell_type": "code",
   "execution_count": 98,
   "id": "92857d3e",
   "metadata": {},
   "outputs": [],
   "source": [
    "class food_set(Dataset):\n",
    "\n",
    "    def __init__(self, df, labels_file, img_dir, extractor, transform = None, settype = \"train\"):\n",
    "        self.df = df\n",
    "        if settype == \"train\":\n",
    "            self.img_labels = df[:29000]\n",
    "        elif settype == \"val\":\n",
    "            self.img_labels = df[29000:]\n",
    "        self.img_dir = img_dir\n",
    "        self.feature_extractor = extractor\n",
    "        self.transform = transform\n",
    "        \n",
    "    def __len__(self):\n",
    "        return len(self.img_labels)\n",
    "\n",
    "    def __getitem__(self, idx):\n",
    "        img_path = os.path.join(self.img_dir, self.img_labels.iloc[idx, 0])\n",
    "        image = Image.open(img_path)\n",
    "        \n",
    "        if self.transform:\n",
    "            image = self.transform(image)\n",
    "                \n",
    "        features = self.feature_extractor(images=image)[\"pixel_values\"][0]      \n",
    "        \n",
    "        label = self.img_labels.iloc[idx, 1]       \n",
    "            \n",
    "        return features, label"
   ]
  },
  {
   "cell_type": "code",
   "execution_count": 99,
   "id": "3d423093",
   "metadata": {},
   "outputs": [],
   "source": [
    "class food_test(Dataset):\n",
    "\n",
    "    def __init__(self, img_dir, extractor, transform = None):\n",
    "        self.img_dir = img_dir\n",
    "        self.feature_extractor = extractor\n",
    "        self.transform = transform\n",
    "\n",
    "    def __len__(self):\n",
    "        return len(os.listdir(self.img_dir))\n",
    "\n",
    "    def __getitem__(self, idx):\n",
    "        file_name = os.listdir(self.img_dir)[idx]\n",
    "        img_path = os.path.join(self.img_dir, file_name)\n",
    "        image = Image.open(img_path)        \n",
    "        \n",
    "        if self.transform:\n",
    "            image = self.transform(image)\n",
    "        \n",
    "        features = self.feature_extractor(images=image)[\"pixel_values\"][0]\n",
    "        \n",
    "        return file_name, features"
   ]
  },
  {
   "cell_type": "code",
   "execution_count": 100,
   "id": "e4a2cbc8",
   "metadata": {},
   "outputs": [],
   "source": [
    "# Load BEiT\n",
    "beit = BeitForImageClassification.from_pretrained(\"microsoft/beit-base-patch16-224-pt22k-ft22k\")\n",
    "\n",
    "for param in beit.parameters():\n",
    "    param.requires_grad = False\n",
    "\n",
    "# classifier = nn.Sequential(OrderedDict([\n",
    "#                           ('fc1', nn.Linear(768, 512)),\n",
    "#                           ('relu', nn.ReLU()),\n",
    "#                           ('fc2', nn.Linear(512, 81)),\n",
    "#                           ('output', nn.LogSoftmax(dim=1))\n",
    "#                           ]))\n",
    "\n",
    "# beit.classifier = classifier\n",
    "\n",
    "# beit.load_state_dict(torch.load(\"../../optimal_models/beit_2_fc_29k_30_epochs_imgnetpol.pth\"))\n",
    "# beit.to(device);"
   ]
  },
  {
   "cell_type": "code",
   "execution_count": 101,
   "id": "202a1f82",
   "metadata": {},
   "outputs": [],
   "source": [
    "# Load ViT\n",
    "vit = ViTForImageClassification.from_pretrained(\"google/vit-base-patch16-224\")\n",
    "\n",
    "for param in vit.parameters():\n",
    "    param.requires_grad = False\n",
    "\n",
    "# vit.classifier = torch.nn.Linear(768, 81)\n",
    "\n",
    "# vit.load_state_dict(torch.load(\"../../optimal_models/ViT_data_aug_locked_sets.pth\"))\n",
    "# vit.to(device);"
   ]
  },
  {
   "cell_type": "code",
   "execution_count": 102,
   "id": "1da16001",
   "metadata": {},
   "outputs": [],
   "source": [
    "# Load Densenet161\n",
    "densenet = models.densenet161(pretrained=True)\n",
    "\n",
    "for param in densenet.parameters():\n",
    "    param.requires_grad = False\n",
    "\n",
    "# densenet.cuda()"
   ]
  },
  {
   "cell_type": "code",
   "execution_count": 103,
   "id": "541c57a7",
   "metadata": {},
   "outputs": [],
   "source": [
    "# Load Resnet18\n",
    "resnet = models.resnet18(pretrained=True)\n",
    "\n",
    "for param in resnet.parameters():\n",
    "    param.requires_grad = False"
   ]
  },
  {
   "cell_type": "code",
   "execution_count": 120,
   "id": "392d8f74",
   "metadata": {},
   "outputs": [],
   "source": [
    "class ensemble(nn.Module):\n",
    "    \n",
    "    def __init__(self, BEiT, ViT, densenet161, resnet18):\n",
    "        \n",
    "        super(ensemble, self).__init__()\n",
    "        \n",
    "        self.beit = BEiT\n",
    "        self.vit = ViT\n",
    "        self.densenet = densenet161\n",
    "        self.resnet = resnet18\n",
    "        \n",
    "        self.beit.classifier = nn.Identity()\n",
    "        self.vit.classifier = nn.Identity()\n",
    "        self.densenet.classifier = nn.Identity()\n",
    "        \n",
    "        \n",
    "        self.classifier = nn.Sequential(OrderedDict([\n",
    "            ('fc1', nn.Linear(768+768+2208+1000, 512)),\n",
    "            ('relu', nn.ReLU()),\n",
    "            ('fc2', nn.Linear(512, 81)),\n",
    "            ('output', nn.LogSoftmax(dim=1))\n",
    "        ]))\n",
    "        \n",
    "        \n",
    "    def forward(self, image):\n",
    "        \n",
    "        x1 = self.beit(image)[\"logits\"]\n",
    "        x2 = self.vit(image)[\"logits\"]        \n",
    "        x3 = self.densenet(image)\n",
    "        x4 = self.resnet(image)\n",
    "               \n",
    "        x = torch.cat((x1, x2, x3, x4), dim=1)\n",
    "        \n",
    "        x = self.classifier(x)\n",
    "        \n",
    "        return x"
   ]
  },
  {
   "cell_type": "code",
   "execution_count": 121,
   "id": "b54efe0d",
   "metadata": {},
   "outputs": [],
   "source": [
    "ensemble = ensemble(beit, vit, densenet, resnet)\n",
    "\n",
    "ensemble.to(device);"
   ]
  },
  {
   "cell_type": "code",
   "execution_count": 122,
   "id": "94f4c9d0",
   "metadata": {},
   "outputs": [],
   "source": [
    "def train_loop(trainloader, valloader, model, criterion, optimizer):\n",
    "    \n",
    "    # Train on GPU if available\n",
    "    model = model.to(device)\n",
    "    model.train()\n",
    "    \n",
    "    # Metadata\n",
    "    stats = defaultdict(list)\n",
    "    current_acc = 0\n",
    "    max_acc = 0\n",
    "    \n",
    "    try:\n",
    "        stats[\"epoch\"].append(0)\n",
    "        stats[\"loss\"].append(5)\n",
    "        stats[\"accuracy\"].append(1.25)\n",
    "\n",
    "        for epoch in range(5):\n",
    "            size = len(trainloader.dataset)\n",
    "\n",
    "            for batch, (image, label) in enumerate(trainloader):\n",
    "                # Compute prediction and loss\n",
    "                image, label = image.to(device), label.to(device)            \n",
    "                pred = model(image)\n",
    "                loss = criterion(pred, label)\n",
    "\n",
    "                # Backpropagation\n",
    "                optimizer.zero_grad()\n",
    "                loss.backward()\n",
    "                optimizer.step()\n",
    "\n",
    "                # Print progress\n",
    "                if batch % 200 == 0:\n",
    "                    loss, current = loss.item(), batch * len(image)\n",
    "                    print(f\"loss: {loss:>7f}  [{current:>5d}/{size:>5d}] epoch: {epoch + 1}\")\n",
    "\n",
    "            # Print performance after current number of epochs\n",
    "            print(f\"Epoch: {epoch + 1}\")\n",
    "            current_acc, avg_loss = test_loop(valloader, model, criterion)\n",
    "\n",
    "            if current_acc > max_acc:\n",
    "                PATH = f'../../ensemble_2.pth'\n",
    "                torch.save(model.state_dict(), PATH)\n",
    "                max_acc = current_acc\n",
    "\n",
    "            # Store metadata\n",
    "            stats[\"epoch\"].append(epoch + 1)\n",
    "            stats[\"accuracy\"].append(current_acc)\n",
    "            stats[\"loss\"].append(avg_loss)\n",
    "\n",
    "            # Plot progress\n",
    "            fig, ax1 = plt.subplots()\n",
    "\n",
    "            color = \"tab:blue\"\n",
    "            ax1.set_xlabel(\"Epoch\")\n",
    "            ax1.set_ylabel(\"Loss\", color=color)\n",
    "            ax1.plot(stats[\"epoch\"], stats[\"loss\"], color=color)\n",
    "            ax1.tick_params(axis=\"y\", labelcolor=color)\n",
    "\n",
    "            ax2 = ax1.twinx()\n",
    "\n",
    "            color = \"tab:orange\"\n",
    "            ax2.set_ylabel(\"Accuracy\", color=color)\n",
    "            ax2.plot(stats[\"epoch\"], stats[\"accuracy\"], color=color)\n",
    "            ax2.tick_params(axis=\"y\", labelcolor=color)\n",
    "            plt.show()\n",
    "\n",
    "        return stats\n",
    "    \n",
    "    except KeyboardInterrupt:\n",
    "        return stats\n",
    "\n",
    "\n",
    "def test_loop(dataloader, model, criterion):\n",
    "    size = len(dataloader.dataset)\n",
    "    num_batches = len(dataloader)\n",
    "    test_loss, correct = 0, 0\n",
    "\n",
    "    with torch.no_grad():\n",
    "        for image, label in dataloader:\n",
    "            image, label = image.to(device), label.to(device)\n",
    "            pred = model(image)\n",
    "            test_loss += criterion(pred, label).item()\n",
    "            correct += (pred.argmax(1) == label).type(torch.float).sum().item()\n",
    "\n",
    "    test_loss /= num_batches\n",
    "    correct /= size\n",
    "    print(f\"Test Error: \\n Accuracy: {(100*correct):>0.1f}%, Avg loss: {test_loss:>8f} \\n\")\n",
    "    return (100 * correct), test_loss"
   ]
  },
  {
   "cell_type": "code",
   "execution_count": 123,
   "id": "45a32b16",
   "metadata": {},
   "outputs": [],
   "source": [
    "# CrossEntropyLoss and SGD optimizer\n",
    "criterion = nn.CrossEntropyLoss()\n",
    "# optimizer = optim.SGD(model.classifier.parameters(), lr = 0.01, momentum = 0.9)\n",
    "optimizer = optim.Adam(ensemble.classifier.parameters(), lr = 0.0002, betas=[0.9, 0.999])"
   ]
  },
  {
   "cell_type": "code",
   "execution_count": 124,
   "id": "b4683150",
   "metadata": {},
   "outputs": [],
   "source": [
    "img_dir = \"../data/train_set/train_set\"\n",
    "labels = \"../data/train_labels.csv\"\n",
    "\n",
    "train_transforms = transforms.Compose([transforms.RandomRotation(30),\n",
    "                                       transforms.RandomResizedCrop(224),\n",
    "                                       ImageNetPolicy(),\n",
    "                                       transforms.RandomHorizontalFlip()])\n",
    "\n",
    "test_transforms = transforms.Compose([transforms.Resize(256),\n",
    "                                      transforms.CenterCrop(224)])\n",
    "\n",
    "feature_extractor = BeitFeatureExtractor.from_pretrained('microsoft/beit-base-patch16-224-pt22k-ft22k')"
   ]
  },
  {
   "cell_type": "code",
   "execution_count": 125,
   "id": "a75027d9",
   "metadata": {},
   "outputs": [
    {
     "data": {
      "text/plain": [
       "(29000, 2016)"
      ]
     },
     "execution_count": 125,
     "metadata": {},
     "output_type": "execute_result"
    }
   ],
   "source": [
    "trainset = food_set(df, labels, img_dir, feature_extractor, transform = train_transforms, settype = \"train\")\n",
    "valset = food_set(df, labels, img_dir, feature_extractor, transform = test_transforms, settype = \"val\")\n",
    "\n",
    "# Create a DataLoader with the data\n",
    "trainloader = DataLoader(trainset, batch_size=8, shuffle=True, num_workers=0)\n",
    "valloader = DataLoader(valset, batch_size=8, shuffle=True, num_workers=0)\n",
    "\n",
    "len(trainset), len(valset)"
   ]
  },
  {
   "cell_type": "code",
   "execution_count": 126,
   "id": "f440c1e1",
   "metadata": {},
   "outputs": [
    {
     "data": {
      "text/plain": [
       "7653"
      ]
     },
     "execution_count": 126,
     "metadata": {},
     "output_type": "execute_result"
    }
   ],
   "source": [
    "test_set = food_test(\"../data/test_set/test_set\", feature_extractor)\n",
    "testloader = DataLoader(test_set, batch_size = 8)\n",
    "\n",
    "len(test_set)"
   ]
  },
  {
   "cell_type": "code",
   "execution_count": 127,
   "id": "c84e215b",
   "metadata": {
    "scrolled": false
   },
   "outputs": [
    {
     "name": "stdout",
     "output_type": "stream",
     "text": [
      "loss: 4.455701  [    0/29000] epoch: 1\n",
      "loss: 3.040698  [ 1600/29000] epoch: 1\n",
      "loss: 2.266646  [ 3200/29000] epoch: 1\n",
      "loss: 1.679528  [ 4800/29000] epoch: 1\n",
      "loss: 2.435607  [ 6400/29000] epoch: 1\n",
      "loss: 2.072514  [ 8000/29000] epoch: 1\n",
      "loss: 2.307375  [ 9600/29000] epoch: 1\n",
      "loss: 1.481439  [11200/29000] epoch: 1\n",
      "loss: 1.306799  [12800/29000] epoch: 1\n",
      "loss: 1.034896  [14400/29000] epoch: 1\n",
      "loss: 1.270853  [16000/29000] epoch: 1\n",
      "loss: 2.793306  [17600/29000] epoch: 1\n",
      "loss: 0.823481  [19200/29000] epoch: 1\n",
      "loss: 1.433621  [20800/29000] epoch: 1\n",
      "loss: 1.227817  [22400/29000] epoch: 1\n",
      "loss: 2.141968  [24000/29000] epoch: 1\n",
      "loss: 1.310421  [25600/29000] epoch: 1\n",
      "loss: 1.147861  [27200/29000] epoch: 1\n",
      "loss: 1.210548  [28800/29000] epoch: 1\n",
      "Epoch: 1\n",
      "Test Error: \n",
      " Accuracy: 70.2%, Avg loss: 1.130887 \n",
      "\n"
     ]
    },
    {
     "data": {
      "image/png": "[encoded data removed]",
      "text/plain": [
       "<Figure size 432x288 with 2 Axes>"
      ]
     },
     "metadata": {},
     "output_type": "display_data"
    },
    {
     "name": "stdout",
     "output_type": "stream",
     "text": [
      "loss: 1.292403  [    0/29000] epoch: 2\n",
      "loss: 1.496497  [ 1600/29000] epoch: 2\n",
      "loss: 2.538502  [ 3200/29000] epoch: 2\n",
      "loss: 2.532077  [ 4800/29000] epoch: 2\n",
      "loss: 0.990452  [ 6400/29000] epoch: 2\n",
      "loss: 0.643674  [ 8000/29000] epoch: 2\n",
      "loss: 1.438220  [ 9600/29000] epoch: 2\n",
      "loss: 1.625039  [11200/29000] epoch: 2\n",
      "loss: 1.068116  [12800/29000] epoch: 2\n",
      "loss: 1.166249  [14400/29000] epoch: 2\n",
      "loss: 1.634175  [16000/29000] epoch: 2\n",
      "loss: 1.330703  [17600/29000] epoch: 2\n",
      "loss: 1.316173  [19200/29000] epoch: 2\n",
      "loss: 1.361599  [20800/29000] epoch: 2\n",
      "loss: 1.355939  [22400/29000] epoch: 2\n",
      "loss: 0.967053  [24000/29000] epoch: 2\n",
      "loss: 1.464228  [25600/29000] epoch: 2\n",
      "loss: 1.383148  [27200/29000] epoch: 2\n",
      "loss: 2.484748  [28800/29000] epoch: 2\n",
      "Epoch: 2\n",
      "Test Error: \n",
      " Accuracy: 71.7%, Avg loss: 1.056814 \n",
      "\n"
     ]
    },
    {
     "data": {
      "image/png": "[encoded data removed]",
      "text/plain": [
       "<Figure size 432x288 with 2 Axes>"
      ]
     },
     "metadata": {},
     "output_type": "display_data"
    },
    {
     "name": "stdout",
     "output_type": "stream",
     "text": [
      "loss: 1.552156  [    0/29000] epoch: 3\n"
     ]
    }
   ],
   "source": [
    "stats = train_loop(trainloader, valloader, ensemble, criterion, optimizer)"
   ]
  },
  {
   "cell_type": "code",
   "execution_count": null,
   "id": "c3649ccf",
   "metadata": {},
   "outputs": [],
   "source": [
    "df_stats = pd.DataFrame(stats)\n",
    "df_stats.to_csv(\"../../stats/ensemble_2.csv\")"
   ]
  },
  {
   "cell_type": "code",
   "execution_count": null,
   "id": "197e6a3f",
   "metadata": {},
   "outputs": [],
   "source": [
    "# PATH = './transfered_beit.pth'\n",
    "# torch.save(beit.state_dict(), PATH)\n",
    "\n",
    "# beit.load_state_dict(torch.load(\"../../ensemble_2.pth\"))\n",
    "# beit.to(device)"
   ]
  },
  {
   "cell_type": "code",
   "execution_count": 43,
   "id": "bf8d64ae",
   "metadata": {},
   "outputs": [
    {
     "name": "stderr",
     "output_type": "stream",
     "text": [
      "100%|████████████████████████████████████████| 957/957 [03:44<00:00,  4.27it/s]\n"
     ]
    }
   ],
   "source": [
    "test_results = {\"img_name\" : [], \"label\": []}\n",
    "\n",
    "for file_name, image in tqdm(testloader):\n",
    "    X = image.to(device)\n",
    "    pred = ensemble(X).argmax(1)\n",
    "    \n",
    "    test_results[\"img_name\"] += file_name\n",
    "    test_results[\"label\"] += [int(i) for i in pred.cpu()]"
   ]
  },
  {
   "cell_type": "code",
   "execution_count": 44,
   "id": "40f8bd8e",
   "metadata": {},
   "outputs": [
    {
     "data": {
      "text/html": [
       "<div>\n",
       "<style scoped>\n",
       "    .dataframe tbody tr th:only-of-type {\n",
       "        vertical-align: middle;\n",
       "    }\n",
       "\n",
       "    .dataframe tbody tr th {\n",
       "        vertical-align: top;\n",
       "    }\n",
       "\n",
       "    .dataframe thead th {\n",
       "        text-align: right;\n",
       "    }\n",
       "</style>\n",
       "<table border=\"1\" class=\"dataframe\">\n",
       "  <thead>\n",
       "    <tr style=\"text-align: right;\">\n",
       "      <th></th>\n",
       "      <th>img_name</th>\n",
       "      <th>label</th>\n",
       "    </tr>\n",
       "  </thead>\n",
       "  <tbody>\n",
       "    <tr>\n",
       "      <th>0</th>\n",
       "      <td>test_1.jpg</td>\n",
       "      <td>63</td>\n",
       "    </tr>\n",
       "    <tr>\n",
       "      <th>1</th>\n",
       "      <td>test_10.jpg</td>\n",
       "      <td>45</td>\n",
       "    </tr>\n",
       "    <tr>\n",
       "      <th>2</th>\n",
       "      <td>test_100.jpg</td>\n",
       "      <td>48</td>\n",
       "    </tr>\n",
       "    <tr>\n",
       "      <th>3</th>\n",
       "      <td>test_1000.jpg</td>\n",
       "      <td>29</td>\n",
       "    </tr>\n",
       "    <tr>\n",
       "      <th>4</th>\n",
       "      <td>test_1001.jpg</td>\n",
       "      <td>18</td>\n",
       "    </tr>\n",
       "  </tbody>\n",
       "</table>\n",
       "</div>"
      ],
      "text/plain": [
       "        img_name  label\n",
       "0     test_1.jpg     63\n",
       "1    test_10.jpg     45\n",
       "2   test_100.jpg     48\n",
       "3  test_1000.jpg     29\n",
       "4  test_1001.jpg     18"
      ]
     },
     "execution_count": 44,
     "metadata": {},
     "output_type": "execute_result"
    }
   ],
   "source": [
    "test_df = pd.DataFrame(test_results)\n",
    "\n",
    "test_df.head()"
   ]
  },
  {
   "cell_type": "code",
   "execution_count": 45,
   "id": "56f62dbd",
   "metadata": {},
   "outputs": [],
   "source": [
    "test_df.to_csv(\"../../submissions/submission_ensemble_2.csv\", index=False)"
   ]
  },
  {
   "cell_type": "code",
   "execution_count": null,
   "id": "520c5648",
   "metadata": {},
   "outputs": [],
   "source": []
  }
 ],
 "metadata": {
  "kernelspec": {
   "display_name": "Python 3",
   "language": "python",
   "name": "python3"
  },
  "language_info": {
   "codemirror_mode": {
    "name": "ipython",
    "version": 3
   },
   "file_extension": ".py",
   "mimetype": "text/x-python",
   "name": "python",
   "nbconvert_exporter": "python",
   "pygments_lexer": "ipython3",
   "version": "3.6.13"
  }
 },
 "nbformat": 4,
 "nbformat_minor": 5
}
