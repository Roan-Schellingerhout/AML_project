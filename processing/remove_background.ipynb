{
 "cells": [
  {
   "cell_type": "code",
   "execution_count": 19,
   "id": "9494ed33",
   "metadata": {},
   "outputs": [],
   "source": [
    "from PIL import ImageFile, Image\n",
    "ImageFile.LOAD_TRUNCATED_IMAGES = True\n",
    "\n",
    "import cv2\n",
    "import io\n",
    "import os\n",
    "\n",
    "import numpy as np\n",
    "\n",
    "from rembg.bg import remove\n",
    "from tqdm import tqdm"
   ]
  },
  {
   "cell_type": "code",
   "execution_count": 16,
   "id": "9e9e1af0",
   "metadata": {},
   "outputs": [],
   "source": [
    "def remove_background(img, output):\n",
    "    # Read file\n",
    "    f = np.fromfile(img)\n",
    "    # Remove background\n",
    "    result = remove(f)\n",
    "    \n",
    "    # Convert to image and store\n",
    "    img = Image.open(io.BytesIO(result)).convert(\"RGB\")\n",
    "    img.save(output)"
   ]
  },
  {
   "cell_type": "code",
   "execution_count": 20,
   "id": "e82230a9",
   "metadata": {},
   "outputs": [
    {
     "name": "stderr",
     "output_type": "stream",
     "text": [
      "100%|████████████████████████████████████| 30612/30612 [40:31<00:00, 12.59it/s]\n"
     ]
    }
   ],
   "source": [
    "train = \"../data/train_set/train_set\"\n",
    "\n",
    "for t in tqdm(os.listdir(train)):\n",
    "    remove_background(f\"{train}/{t}\", f\"../data2/train_set_rmbg/train_set_rmbg/{t}\")"
   ]
  },
  {
   "cell_type": "code",
   "execution_count": 22,
   "id": "dddbd64c",
   "metadata": {},
   "outputs": [
    {
     "name": "stderr",
     "output_type": "stream",
     "text": [
      "100%|██████████████████████████████████████| 7653/7653 [10:09<00:00, 12.56it/s]\n"
     ]
    }
   ],
   "source": [
    "test = \"../data/test_set/test_set\"\n",
    "\n",
    "for t in tqdm(os.listdir(test)):\n",
    "    remove_background(f\"{test}/{t}\", f\"../data2/test_set_rmbg/test_set_rmbg/{t}\")"
   ]
  },
  {
   "cell_type": "code",
   "execution_count": null,
   "id": "34626242",
   "metadata": {},
   "outputs": [],
   "source": []
  }
 ],
 "metadata": {
  "kernelspec": {
   "display_name": "Python 3",
   "language": "python",
   "name": "python3"
  },
  "language_info": {
   "codemirror_mode": {
    "name": "ipython",
    "version": 3
   },
   "file_extension": ".py",
   "mimetype": "text/x-python",
   "name": "python",
   "nbconvert_exporter": "python",
   "pygments_lexer": "ipython3",
   "version": "3.6.13"
  }
 },
 "nbformat": 4,
 "nbformat_minor": 5
}
